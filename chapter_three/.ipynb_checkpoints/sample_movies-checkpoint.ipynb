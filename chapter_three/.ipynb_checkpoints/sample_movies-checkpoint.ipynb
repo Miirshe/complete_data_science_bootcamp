{
 "cells": [
  {
   "cell_type": "code",
   "execution_count": 18,
   "id": "82077c77",
   "metadata": {},
   "outputs": [
    {
     "name": "stdout",
     "output_type": "stream",
     "text": [
      "<class 'pandas.core.frame.DataFrame'>\n",
      "RangeIndex: 37 entries, 0 to 36\n",
      "Data columns (total 10 columns):\n",
      " #   Column        Non-Null Count  Dtype  \n",
      "---  ------        --------------  -----  \n",
      " 0   title         37 non-null     object \n",
      " 1   industry      37 non-null     object \n",
      " 2   release_year  37 non-null     int64  \n",
      " 3   imdb_rating   36 non-null     float64\n",
      " 4   studio        34 non-null     object \n",
      " 5   budget        37 non-null     float64\n",
      " 6   revenue       37 non-null     float64\n",
      " 7   unit          37 non-null     object \n",
      " 8   currency      37 non-null     object \n",
      " 9   language      37 non-null     object \n",
      "dtypes: float64(3), int64(1), object(6)\n",
      "memory usage: 3.0+ KB\n"
     ]
    }
   ],
   "source": [
    "import pandas as pd\n",
    "\n",
    "movies_data = pd.read_csv('./movies.csv')\n",
    "\n",
    "# type(movies_data)\n",
    "\n",
    "movies_info = movies_data.info()\n",
    "\n",
    "# movies_info\n",
    "\n",
    "if 'budgets' in movies_data:\n",
    "    movies_data['budget']\n",
    "else:\n",
    "    movies_data\n"
   ]
  },
  {
   "cell_type": "code",
   "execution_count": null,
   "id": "91bafb11",
   "metadata": {},
   "outputs": [],
   "source": []
  },
  {
   "cell_type": "code",
   "execution_count": null,
   "id": "4c448a3c",
   "metadata": {},
   "outputs": [],
   "source": []
  }
 ],
 "metadata": {
  "kernelspec": {
   "display_name": "Python 3 (ipykernel)",
   "language": "python",
   "name": "python3"
  },
  "language_info": {
   "codemirror_mode": {
    "name": "ipython",
    "version": 3
   },
   "file_extension": ".py",
   "mimetype": "text/x-python",
   "name": "python",
   "nbconvert_exporter": "python",
   "pygments_lexer": "ipython3",
   "version": "3.11.4"
  }
 },
 "nbformat": 4,
 "nbformat_minor": 5
}
