{
 "cells": [
  {
   "cell_type": "markdown",
   "id": "153ade60",
   "metadata": {},
   "source": [
    "# chapter 3 || Assignment two \n",
    "\n",
    "\n",
    "## MyProfile\n",
    "\n",
    "   ####  ``Name`` : Abdikafi Isse Isak\n",
    "   #### ``ID`` : C120868\n",
    "   #### ``ClassNo`` : CA205"
   ]
  },
  {
   "cell_type": "markdown",
   "id": "8d4ca173",
   "metadata": {},
   "source": [
    "# Movies.csv File\n",
    "\n",
    "as you know we have ``movies.csv`` file, this movie files contains a lot of movies columns  name like  ``industry``, ``rating``, ``release_year``,  ``studio``, ``budget`` as expense, ``revenue``, ``unit``, ``currency``, ``language``.\n",
    "``industry`` column indicates the company name that produce of the  movies, the ``title`` column indicates the name of the movies, the  ``release_year`` column indicates the year released of the movies,\n",
    "the ``imdb_rating`` column indicates the rate of the every movie gets,\n",
    "the ``studio`` column indicates the studio released after produce the movies the ``budget`` column iindicates the expense takes of every movie,the ``revenue`` column indicates the revenue gets of every movie,the ``unit`` column indicates the currency unit gets of every movie like    thousands , millions and so on,\n",
    "the ``currency`` column indicates the currency type gets of every movie,\n",
    "the ``langauge`` column indicates the language translate of every movies or the original language released of every movies"
   ]
  },
  {
   "cell_type": "code",
   "execution_count": 4,
   "id": "14cf3581",
   "metadata": {},
   "outputs": [
    {
     "data": {
      "text/html": [
       "<div>\n",
       "<style scoped>\n",
       "    .dataframe tbody tr th:only-of-type {\n",
       "        vertical-align: middle;\n",
       "    }\n",
       "\n",
       "    .dataframe tbody tr th {\n",
       "        vertical-align: top;\n",
       "    }\n",
       "\n",
       "    .dataframe thead th {\n",
       "        text-align: right;\n",
       "    }\n",
       "</style>\n",
       "<table border=\"1\" class=\"dataframe\">\n",
       "  <thead>\n",
       "    <tr style=\"text-align: right;\">\n",
       "      <th></th>\n",
       "      <th>title</th>\n",
       "      <th>industry</th>\n",
       "      <th>release_year</th>\n",
       "      <th>imdb_rating</th>\n",
       "      <th>studio</th>\n",
       "      <th>budget</th>\n",
       "      <th>revenue</th>\n",
       "      <th>unit</th>\n",
       "      <th>currency</th>\n",
       "      <th>language</th>\n",
       "    </tr>\n",
       "  </thead>\n",
       "  <tbody>\n",
       "    <tr>\n",
       "      <th>0</th>\n",
       "      <td>Pather Panchali</td>\n",
       "      <td>Bollywood</td>\n",
       "      <td>1955</td>\n",
       "      <td>8.3</td>\n",
       "      <td>Government of West Bengal</td>\n",
       "      <td>70000.0</td>\n",
       "      <td>100000.0</td>\n",
       "      <td>Thousands</td>\n",
       "      <td>INR</td>\n",
       "      <td>Bengali</td>\n",
       "    </tr>\n",
       "    <tr>\n",
       "      <th>1</th>\n",
       "      <td>Doctor Strange in the Multiverse of Madness</td>\n",
       "      <td>Hollywood</td>\n",
       "      <td>2022</td>\n",
       "      <td>7.0</td>\n",
       "      <td>Marvel Studios</td>\n",
       "      <td>200.0</td>\n",
       "      <td>954.8</td>\n",
       "      <td>Millions</td>\n",
       "      <td>USD</td>\n",
       "      <td>English</td>\n",
       "    </tr>\n",
       "    <tr>\n",
       "      <th>2</th>\n",
       "      <td>Thor: The Dark World</td>\n",
       "      <td>Hollywood</td>\n",
       "      <td>2013</td>\n",
       "      <td>6.8</td>\n",
       "      <td>Marvel Studios</td>\n",
       "      <td>165.0</td>\n",
       "      <td>644.8</td>\n",
       "      <td>Millions</td>\n",
       "      <td>USD</td>\n",
       "      <td>English</td>\n",
       "    </tr>\n",
       "    <tr>\n",
       "      <th>3</th>\n",
       "      <td>Thor: Ragnarok</td>\n",
       "      <td>Hollywood</td>\n",
       "      <td>2017</td>\n",
       "      <td>7.9</td>\n",
       "      <td>Marvel Studios</td>\n",
       "      <td>180.0</td>\n",
       "      <td>854.0</td>\n",
       "      <td>Millions</td>\n",
       "      <td>USD</td>\n",
       "      <td>English</td>\n",
       "    </tr>\n",
       "    <tr>\n",
       "      <th>4</th>\n",
       "      <td>Thor: Love and Thunder</td>\n",
       "      <td>Hollywood</td>\n",
       "      <td>2022</td>\n",
       "      <td>6.8</td>\n",
       "      <td>Marvel Studios</td>\n",
       "      <td>250.0</td>\n",
       "      <td>670.0</td>\n",
       "      <td>Millions</td>\n",
       "      <td>USD</td>\n",
       "      <td>English</td>\n",
       "    </tr>\n",
       "    <tr>\n",
       "      <th>5</th>\n",
       "      <td>The Shawshank Redemption</td>\n",
       "      <td>Hollywood</td>\n",
       "      <td>1994</td>\n",
       "      <td>9.3</td>\n",
       "      <td>Castle Rock Entertainment</td>\n",
       "      <td>25.0</td>\n",
       "      <td>73.3</td>\n",
       "      <td>Millions</td>\n",
       "      <td>USD</td>\n",
       "      <td>English</td>\n",
       "    </tr>\n",
       "    <tr>\n",
       "      <th>6</th>\n",
       "      <td>Interstellar</td>\n",
       "      <td>Hollywood</td>\n",
       "      <td>2014</td>\n",
       "      <td>8.6</td>\n",
       "      <td>Warner Bros. Pictures</td>\n",
       "      <td>165.0</td>\n",
       "      <td>701.8</td>\n",
       "      <td>Millions</td>\n",
       "      <td>USD</td>\n",
       "      <td>English</td>\n",
       "    </tr>\n",
       "    <tr>\n",
       "      <th>7</th>\n",
       "      <td>The Pursuit of Happyness</td>\n",
       "      <td>Hollywood</td>\n",
       "      <td>2006</td>\n",
       "      <td>8.0</td>\n",
       "      <td>Columbia Pictures</td>\n",
       "      <td>55.0</td>\n",
       "      <td>307.1</td>\n",
       "      <td>Millions</td>\n",
       "      <td>USD</td>\n",
       "      <td>English</td>\n",
       "    </tr>\n",
       "    <tr>\n",
       "      <th>8</th>\n",
       "      <td>Gladiator</td>\n",
       "      <td>Hollywood</td>\n",
       "      <td>2000</td>\n",
       "      <td>8.5</td>\n",
       "      <td>Universal Pictures</td>\n",
       "      <td>103.0</td>\n",
       "      <td>460.5</td>\n",
       "      <td>Millions</td>\n",
       "      <td>USD</td>\n",
       "      <td>English</td>\n",
       "    </tr>\n",
       "    <tr>\n",
       "      <th>9</th>\n",
       "      <td>Titanic</td>\n",
       "      <td>Hollywood</td>\n",
       "      <td>1997</td>\n",
       "      <td>7.9</td>\n",
       "      <td>Paramount Pictures</td>\n",
       "      <td>200.0</td>\n",
       "      <td>2202.0</td>\n",
       "      <td>Millions</td>\n",
       "      <td>USD</td>\n",
       "      <td>English</td>\n",
       "    </tr>\n",
       "  </tbody>\n",
       "</table>\n",
       "</div>"
      ],
      "text/plain": [
       "                                         title   industry  release_year  \\\n",
       "0                              Pather Panchali  Bollywood          1955   \n",
       "1  Doctor Strange in the Multiverse of Madness  Hollywood          2022   \n",
       "2                        Thor: The Dark World   Hollywood          2013   \n",
       "3                              Thor: Ragnarok   Hollywood          2017   \n",
       "4                      Thor: Love and Thunder   Hollywood          2022   \n",
       "5                     The Shawshank Redemption  Hollywood          1994   \n",
       "6                                 Interstellar  Hollywood          2014   \n",
       "7                     The Pursuit of Happyness  Hollywood          2006   \n",
       "8                                    Gladiator  Hollywood          2000   \n",
       "9                                      Titanic  Hollywood          1997   \n",
       "\n",
       "   imdb_rating                     studio   budget   revenue       unit  \\\n",
       "0          8.3  Government of West Bengal  70000.0  100000.0  Thousands   \n",
       "1          7.0             Marvel Studios    200.0     954.8   Millions   \n",
       "2          6.8             Marvel Studios    165.0     644.8   Millions   \n",
       "3          7.9             Marvel Studios    180.0     854.0   Millions   \n",
       "4          6.8             Marvel Studios    250.0     670.0   Millions   \n",
       "5          9.3  Castle Rock Entertainment     25.0      73.3   Millions   \n",
       "6          8.6      Warner Bros. Pictures    165.0     701.8   Millions   \n",
       "7          8.0          Columbia Pictures     55.0     307.1   Millions   \n",
       "8          8.5       Universal Pictures      103.0     460.5   Millions   \n",
       "9          7.9         Paramount Pictures    200.0    2202.0   Millions   \n",
       "\n",
       "  currency language  \n",
       "0      INR  Bengali  \n",
       "1      USD  English  \n",
       "2      USD  English  \n",
       "3      USD  English  \n",
       "4      USD  English  \n",
       "5      USD  English  \n",
       "6      USD  English  \n",
       "7      USD  English  \n",
       "8      USD  English  \n",
       "9      USD  English  "
      ]
     },
     "execution_count": 4,
     "metadata": {},
     "output_type": "execute_result"
    }
   ],
   "source": [
    "import pandas as pd\n",
    "movies_data = pd.read_csv('./movies.csv')\n",
    "\n",
    "movies_data.head(10)"
   ]
  },
  {
   "cell_type": "markdown",
   "id": "1dbf4343",
   "metadata": {},
   "source": [
    "This line of code displays the first 10 rows of the movies_data DataFrame using the ``head()`` function. By default, ``head()`` shows the first ``5 rows``, but you can specify the number of rows to display within the parentheses, as shown here."
   ]
  },
  {
   "cell_type": "code",
   "execution_count": 6,
   "id": "73e0a2cb",
   "metadata": {},
   "outputs": [
    {
     "data": {
      "text/html": [
       "<div>\n",
       "<style scoped>\n",
       "    .dataframe tbody tr th:only-of-type {\n",
       "        vertical-align: middle;\n",
       "    }\n",
       "\n",
       "    .dataframe tbody tr th {\n",
       "        vertical-align: top;\n",
       "    }\n",
       "\n",
       "    .dataframe thead th {\n",
       "        text-align: right;\n",
       "    }\n",
       "</style>\n",
       "<table border=\"1\" class=\"dataframe\">\n",
       "  <thead>\n",
       "    <tr style=\"text-align: right;\">\n",
       "      <th></th>\n",
       "      <th>release_year</th>\n",
       "      <th>imdb_rating</th>\n",
       "      <th>budget</th>\n",
       "      <th>revenue</th>\n",
       "    </tr>\n",
       "  </thead>\n",
       "  <tbody>\n",
       "    <tr>\n",
       "      <th>count</th>\n",
       "      <td>37.000000</td>\n",
       "      <td>36.000000</td>\n",
       "      <td>37.000000</td>\n",
       "      <td>37.000000</td>\n",
       "    </tr>\n",
       "    <tr>\n",
       "      <th>mean</th>\n",
       "      <td>2007.027027</td>\n",
       "      <td>7.919444</td>\n",
       "      <td>2084.975135</td>\n",
       "      <td>4117.135135</td>\n",
       "    </tr>\n",
       "    <tr>\n",
       "      <th>std</th>\n",
       "      <td>17.657995</td>\n",
       "      <td>1.204947</td>\n",
       "      <td>11477.487145</td>\n",
       "      <td>16372.462682</td>\n",
       "    </tr>\n",
       "    <tr>\n",
       "      <th>min</th>\n",
       "      <td>1946.000000</td>\n",
       "      <td>1.900000</td>\n",
       "      <td>1.000000</td>\n",
       "      <td>3.100000</td>\n",
       "    </tr>\n",
       "    <tr>\n",
       "      <th>25%</th>\n",
       "      <td>2001.000000</td>\n",
       "      <td>7.800000</td>\n",
       "      <td>15.500000</td>\n",
       "      <td>263.100000</td>\n",
       "    </tr>\n",
       "    <tr>\n",
       "      <th>50%</th>\n",
       "      <td>2014.000000</td>\n",
       "      <td>8.100000</td>\n",
       "      <td>165.000000</td>\n",
       "      <td>701.800000</td>\n",
       "    </tr>\n",
       "    <tr>\n",
       "      <th>75%</th>\n",
       "      <td>2018.000000</td>\n",
       "      <td>8.400000</td>\n",
       "      <td>250.000000</td>\n",
       "      <td>2000.000000</td>\n",
       "    </tr>\n",
       "    <tr>\n",
       "      <th>max</th>\n",
       "      <td>2022.000000</td>\n",
       "      <td>9.300000</td>\n",
       "      <td>70000.000000</td>\n",
       "      <td>100000.000000</td>\n",
       "    </tr>\n",
       "  </tbody>\n",
       "</table>\n",
       "</div>"
      ],
      "text/plain": [
       "       release_year  imdb_rating        budget        revenue\n",
       "count     37.000000    36.000000     37.000000      37.000000\n",
       "mean    2007.027027     7.919444   2084.975135    4117.135135\n",
       "std       17.657995     1.204947  11477.487145   16372.462682\n",
       "min     1946.000000     1.900000      1.000000       3.100000\n",
       "25%     2001.000000     7.800000     15.500000     263.100000\n",
       "50%     2014.000000     8.100000    165.000000     701.800000\n",
       "75%     2018.000000     8.400000    250.000000    2000.000000\n",
       "max     2022.000000     9.300000  70000.000000  100000.000000"
      ]
     },
     "execution_count": 6,
     "metadata": {},
     "output_type": "execute_result"
    }
   ],
   "source": [
    "movies_data.describe()"
   ]
  },
  {
   "cell_type": "markdown",
   "id": "bf87f0f8",
   "metadata": {},
   "source": [
    "This line of code calls the ``describe()`` function on the ``movies_data`` DataFrame. The ``describe()`` function is a powerful method provided by pandas that generates descriptive statistics of the numerical columns in the DataFrame.\n",
    "When you execute this code, it will display various statistical measures for each numerical column in the movies_data DataFrame. These measures include count, ``mean``, ``standard deviation``, ``minimum value``, ``25th percentile`` (lower quartile), ``median`` ``(50th percentile)``, ``75th percentile`` ``(upper quartile)``, and ``maximum`` value.\n",
    "The ``describe()`` function is useful for gaining insights into the distribution and summary statistics of your data. It helps you understand the range, central tendency, and spread of your numerical variables.\n"
   ]
  },
  {
   "cell_type": "code",
   "execution_count": 7,
   "id": "669e1d59",
   "metadata": {},
   "outputs": [
    {
     "name": "stdout",
     "output_type": "stream",
     "text": [
      "The Mean Rating Movies : $7.919444444444445\n"
     ]
    }
   ],
   "source": [
    "mean_rating_movies = movies_data['imdb_rating'].mean()\n",
    "\n",
    "print(f'The Mean Rating Movies : ${mean_rating_movies}')"
   ]
  },
  {
   "cell_type": "markdown",
   "id": "280bd36b",
   "metadata": {},
   "source": [
    "This line of code calculates the mean rating of movies by accessing the ``imdb_rating`` column from the ``movies_data`` DataFrame using square brackets ([]) and then applying the ``mean()`` function to that column. The result is stored in the variable mean_rating_movies.\n",
    "This line of code displays the mean rating of movies by using the ``print()`` function. It uses an f-string (formatted string literal) to embed the value of the mean_rating_movies variable within the string. The output will be a formatted message that states the `mean` rating of movies.\n",
    "By executing this code, you will obtain the mean rating of movies based on the values in the ``imdb_rating`` column of the movies_data DataFrame. The mean rating provides a measure of the average rating for all the movies in the dataset. It helps in understanding the central tendency or average opinion of the movies' ``ratings``.\n"
   ]
  },
  {
   "cell_type": "code",
   "execution_count": 9,
   "id": "bb9e257f",
   "metadata": {},
   "outputs": [
    {
     "name": "stdout",
     "output_type": "stream",
     "text": [
      "The Mode Rating Movies : $8.4\n"
     ]
    }
   ],
   "source": [
    "mode_rating_movies = movies_data['imdb_rating'].mode().values[0]\n",
    "print (f'The Mode Rating Movies : ${mode_rating_movies}')"
   ]
  },
  {
   "cell_type": "markdown",
   "id": "ee56f1dc",
   "metadata": {},
   "source": [
    "This line of code calculates the mode rating of movies by accessing the `imdb_rating` column from the `movies_data` DataFrame using square brackets ([]). The mode() function is then applied to that column to find the `mode` value(s). Since there can be multiple modes, the values attribute is used to retrieve the values as an array, and [0] is used to select the first mode value. The result is stored in the variable mode_rating_movies.\n",
    "This line of code displays the mode rating of movies by using the `print()` function. It uses an f-string (formatted string literal) to embed the value of the mode_rating_movies variable within the string. The output will be a formatted message that states the mode rating of movies.\n",
    "By executing this code, you will obtain the mode rating of movies based on the values in the `imdb_rating` column of the `movies_data` DataFrame. The mode rating represents the most frequently occurring rating value in the dataset. It provides insights into the rating that is commonly assigned to movies.\n"
   ]
  },
  {
   "cell_type": "code",
   "execution_count": 11,
   "id": "ebea56c2",
   "metadata": {},
   "outputs": [
    {
     "name": "stdout",
     "output_type": "stream",
     "text": [
      "The Median Rating Movies : $8.1\n"
     ]
    }
   ],
   "source": [
    "median_rating_movies = movies_data['imdb_rating'].median()\n",
    "print(f'The Median Rating Movies : ${median_rating_movies}')"
   ]
  },
  {
   "cell_type": "markdown",
   "id": "8e9fd7a6",
   "metadata": {},
   "source": [
    "This line of code calculates the median rating of movies by accessing the `imdb_rating` column from the `movies_data` DataFrame using square brackets ([]). The median() function is then applied to that column to find the` median` value. The result is stored in the variable `median_rating_movies`.\n",
    "This line of code displays the `median rating` of movies by using the `print()` function. It uses an f-string (formatted string literal) to embed the value of the `median_rating_movies` variable within the string. The output will be a formatted message that states the median rating of movies.\n",
    "By executing this code, you will obtain the median rating of movies based on the values in the `imdb_rating` column of the `movies_data` DataFrame. The median rating represents the middle value when the ratings are sorted in ascending order. It provides a measure of the central tendency and is less affected by outliers compared to the mean rating.\n"
   ]
  },
  {
   "cell_type": "code",
   "execution_count": 12,
   "id": "fe7d3b50",
   "metadata": {},
   "outputs": [
    {
     "name": "stdout",
     "output_type": "stream",
     "text": [
      "The Standard Deviation Rating Movies : $1.2049468143436146\n"
     ]
    }
   ],
   "source": [
    "std_rating_movies = movies_data['imdb_rating'].std()\n",
    "print(f'The Standard Deviation Rating Movies : ${std_rating_movies}')"
   ]
  },
  {
   "cell_type": "markdown",
   "id": "619b9461",
   "metadata": {},
   "source": [
    "This line of code calculates the `standard deviation` of movie `ratings` by accessing the `imdb_rating` column from the `movies_data` DataFrame using square brackets ([]). The std() function is then applied to that column to compute the `standard deviation`. The result is stored in the variable `std_rating_movies`.\n",
    "This line of code displays the `standard deviation` of movie ratings by using the print() function. It uses an f-string (formatted string literal) to embed the value of the `std_rating_movies` variable within the string. The output will be a formatted message that states the `standard deviation of movie ratings`.\n",
    "By executing this code, you will obtain the standard deviation of movie ratings based on the values in the `imdb_rating` column of the movies_data DataFrame. The `standard deviation` is a measure of the dispersion or spread of the ratings around the mean rating. It quantifies the amount of `variation` or `deviation` from the average `rating`.\n",
    "The `standard deviation` is useful for understanding the variability or consistency of movie ratings. A higher `standard deviation `indicates a wider spread of ratings, implying more diverse opinions or preferences among viewers. Conversely, a lower standard deviation suggests a narrower range of `ratings`, indicating a more consistent consensus among viewers.\n"
   ]
  },
  {
   "cell_type": "code",
   "execution_count": 13,
   "id": "501ac135",
   "metadata": {},
   "outputs": [
    {
     "name": "stdout",
     "output_type": "stream",
     "text": [
      "The Variance Rating Movies : $1.4518968253968252\n"
     ]
    }
   ],
   "source": [
    "var_rating_movies = movies_data['imdb_rating'].var()\n",
    "\n",
    "print(f'The Variance Rating Movies : ${var_rating_movies}')"
   ]
  },
  {
   "cell_type": "markdown",
   "id": "ec096822",
   "metadata": {},
   "source": [
    "This line of code calculates the variance of movie ratings by accessing the `imdb_rating` column from the `movies_data` DataFrame using square brackets ([]). The var() function is then applied to that column to compute the `variance`. The result is stored in the variable `var_rating_movies`.\n",
    "This line of code displays the variance of movie ratings by using the `print()` function. It uses an f-string (formatted string literal) to embed the value of the `var_rating_movies` variable within the string. The output will be a formatted message that states the variance of movie ratings.\n",
    "By executing this code, you will obtain the variance of movie ratings based on the values in the `imdb_rating` column of the movies_data DataFrame. The variance is a measure of the variability or spread of the ratings. It quantifies the average squared deviation from the mean rating.\n",
    "The `variance` is useful for understanding the extent of variation in movie `ratings`. A higher variance indicates a wider spread of ratings, implying more diverse opinions or preferences among viewers. Conversely, a lower variance suggests a narrower range of ratings, indicating a more consistent consensus among viewers.\n"
   ]
  },
  {
   "cell_type": "code",
   "execution_count": 14,
   "id": "4ffd30c9",
   "metadata": {},
   "outputs": [
    {
     "name": "stdout",
     "output_type": "stream",
     "text": [
      "The Range Rating Movies : $1.4518968253968252\n"
     ]
    }
   ],
   "source": [
    "range_rating_movies = movies_data['imdb_rating'].max()-movies_data['imdb_rating'].min()\n",
    "\n",
    "print(f'The Range Rating Movies : ${var_rating_movies}')"
   ]
  },
  {
   "cell_type": "markdown",
   "id": "ebe99244",
   "metadata": {},
   "source": [
    "This line of code calculates the range of movie ratings by subtracting the` minimum rating` (min()) from the `maximum rating` (max()) of the 'imdb_rating' column in the movies_data DataFrame. The result is stored in the variable range_rating_movies.\n",
    "This line of code displays the range of movie ratings by using the `print()` function. It uses an f-string (formatted string literal) to embed the value of the range_rating_movies variable within the string. The output will be a formatted message that states the range of movie ratings.\n",
    "By executing this code, you will obtain the range of movie ratings based on the values in the `imdb_rating` column of the `movies_data` DataFrame. The range represents the difference between the highest and lowest ratings in the dataset.\n",
    "The range is useful for understanding the spread or extent of movie ratings. It provides a simple measure of the overall variability in ratings. A larger range suggests a wider distribution of ratings, indicating a greater diversity of opinions or preferences among viewers. Conversely, `a smaller range indicates a narrower spread of ratings`, implying a more limited range of opinions or preferences.\n"
   ]
  },
  {
   "cell_type": "code",
   "execution_count": 16,
   "id": "e98481f2",
   "metadata": {},
   "outputs": [
    {
     "data": {
      "text/html": [
       "<div>\n",
       "<style scoped>\n",
       "    .dataframe tbody tr th:only-of-type {\n",
       "        vertical-align: middle;\n",
       "    }\n",
       "\n",
       "    .dataframe tbody tr th {\n",
       "        vertical-align: top;\n",
       "    }\n",
       "\n",
       "    .dataframe thead th {\n",
       "        text-align: right;\n",
       "    }\n",
       "</style>\n",
       "<table border=\"1\" class=\"dataframe\">\n",
       "  <thead>\n",
       "    <tr style=\"text-align: right;\">\n",
       "      <th></th>\n",
       "      <th>title</th>\n",
       "      <th>industry</th>\n",
       "      <th>release_year</th>\n",
       "      <th>imdb_rating</th>\n",
       "      <th>studio</th>\n",
       "      <th>budget</th>\n",
       "      <th>revenue</th>\n",
       "      <th>unit</th>\n",
       "      <th>currency</th>\n",
       "      <th>language</th>\n",
       "      <th>profit</th>\n",
       "    </tr>\n",
       "  </thead>\n",
       "  <tbody>\n",
       "    <tr>\n",
       "      <th>0</th>\n",
       "      <td>Pather Panchali</td>\n",
       "      <td>Bollywood</td>\n",
       "      <td>1955</td>\n",
       "      <td>8.3</td>\n",
       "      <td>Government of West Bengal</td>\n",
       "      <td>70000.0</td>\n",
       "      <td>100000.0</td>\n",
       "      <td>Thousands</td>\n",
       "      <td>INR</td>\n",
       "      <td>Bengali</td>\n",
       "      <td>-30000.0</td>\n",
       "    </tr>\n",
       "    <tr>\n",
       "      <th>1</th>\n",
       "      <td>Doctor Strange in the Multiverse of Madness</td>\n",
       "      <td>Hollywood</td>\n",
       "      <td>2022</td>\n",
       "      <td>7.0</td>\n",
       "      <td>Marvel Studios</td>\n",
       "      <td>200.0</td>\n",
       "      <td>954.8</td>\n",
       "      <td>Millions</td>\n",
       "      <td>USD</td>\n",
       "      <td>English</td>\n",
       "      <td>-754.8</td>\n",
       "    </tr>\n",
       "    <tr>\n",
       "      <th>2</th>\n",
       "      <td>Thor: The Dark World</td>\n",
       "      <td>Hollywood</td>\n",
       "      <td>2013</td>\n",
       "      <td>6.8</td>\n",
       "      <td>Marvel Studios</td>\n",
       "      <td>165.0</td>\n",
       "      <td>644.8</td>\n",
       "      <td>Millions</td>\n",
       "      <td>USD</td>\n",
       "      <td>English</td>\n",
       "      <td>-479.8</td>\n",
       "    </tr>\n",
       "    <tr>\n",
       "      <th>3</th>\n",
       "      <td>Thor: Ragnarok</td>\n",
       "      <td>Hollywood</td>\n",
       "      <td>2017</td>\n",
       "      <td>7.9</td>\n",
       "      <td>Marvel Studios</td>\n",
       "      <td>180.0</td>\n",
       "      <td>854.0</td>\n",
       "      <td>Millions</td>\n",
       "      <td>USD</td>\n",
       "      <td>English</td>\n",
       "      <td>-674.0</td>\n",
       "    </tr>\n",
       "    <tr>\n",
       "      <th>4</th>\n",
       "      <td>Thor: Love and Thunder</td>\n",
       "      <td>Hollywood</td>\n",
       "      <td>2022</td>\n",
       "      <td>6.8</td>\n",
       "      <td>Marvel Studios</td>\n",
       "      <td>250.0</td>\n",
       "      <td>670.0</td>\n",
       "      <td>Millions</td>\n",
       "      <td>USD</td>\n",
       "      <td>English</td>\n",
       "      <td>-420.0</td>\n",
       "    </tr>\n",
       "    <tr>\n",
       "      <th>5</th>\n",
       "      <td>The Shawshank Redemption</td>\n",
       "      <td>Hollywood</td>\n",
       "      <td>1994</td>\n",
       "      <td>9.3</td>\n",
       "      <td>Castle Rock Entertainment</td>\n",
       "      <td>25.0</td>\n",
       "      <td>73.3</td>\n",
       "      <td>Millions</td>\n",
       "      <td>USD</td>\n",
       "      <td>English</td>\n",
       "      <td>-48.3</td>\n",
       "    </tr>\n",
       "    <tr>\n",
       "      <th>6</th>\n",
       "      <td>Interstellar</td>\n",
       "      <td>Hollywood</td>\n",
       "      <td>2014</td>\n",
       "      <td>8.6</td>\n",
       "      <td>Warner Bros. Pictures</td>\n",
       "      <td>165.0</td>\n",
       "      <td>701.8</td>\n",
       "      <td>Millions</td>\n",
       "      <td>USD</td>\n",
       "      <td>English</td>\n",
       "      <td>-536.8</td>\n",
       "    </tr>\n",
       "    <tr>\n",
       "      <th>7</th>\n",
       "      <td>The Pursuit of Happyness</td>\n",
       "      <td>Hollywood</td>\n",
       "      <td>2006</td>\n",
       "      <td>8.0</td>\n",
       "      <td>Columbia Pictures</td>\n",
       "      <td>55.0</td>\n",
       "      <td>307.1</td>\n",
       "      <td>Millions</td>\n",
       "      <td>USD</td>\n",
       "      <td>English</td>\n",
       "      <td>-252.1</td>\n",
       "    </tr>\n",
       "    <tr>\n",
       "      <th>8</th>\n",
       "      <td>Gladiator</td>\n",
       "      <td>Hollywood</td>\n",
       "      <td>2000</td>\n",
       "      <td>8.5</td>\n",
       "      <td>Universal Pictures</td>\n",
       "      <td>103.0</td>\n",
       "      <td>460.5</td>\n",
       "      <td>Millions</td>\n",
       "      <td>USD</td>\n",
       "      <td>English</td>\n",
       "      <td>-357.5</td>\n",
       "    </tr>\n",
       "    <tr>\n",
       "      <th>9</th>\n",
       "      <td>Titanic</td>\n",
       "      <td>Hollywood</td>\n",
       "      <td>1997</td>\n",
       "      <td>7.9</td>\n",
       "      <td>Paramount Pictures</td>\n",
       "      <td>200.0</td>\n",
       "      <td>2202.0</td>\n",
       "      <td>Millions</td>\n",
       "      <td>USD</td>\n",
       "      <td>English</td>\n",
       "      <td>-2002.0</td>\n",
       "    </tr>\n",
       "  </tbody>\n",
       "</table>\n",
       "</div>"
      ],
      "text/plain": [
       "                                         title   industry  release_year  \\\n",
       "0                              Pather Panchali  Bollywood          1955   \n",
       "1  Doctor Strange in the Multiverse of Madness  Hollywood          2022   \n",
       "2                        Thor: The Dark World   Hollywood          2013   \n",
       "3                              Thor: Ragnarok   Hollywood          2017   \n",
       "4                      Thor: Love and Thunder   Hollywood          2022   \n",
       "5                     The Shawshank Redemption  Hollywood          1994   \n",
       "6                                 Interstellar  Hollywood          2014   \n",
       "7                     The Pursuit of Happyness  Hollywood          2006   \n",
       "8                                    Gladiator  Hollywood          2000   \n",
       "9                                      Titanic  Hollywood          1997   \n",
       "\n",
       "   imdb_rating                     studio   budget   revenue       unit  \\\n",
       "0          8.3  Government of West Bengal  70000.0  100000.0  Thousands   \n",
       "1          7.0             Marvel Studios    200.0     954.8   Millions   \n",
       "2          6.8             Marvel Studios    165.0     644.8   Millions   \n",
       "3          7.9             Marvel Studios    180.0     854.0   Millions   \n",
       "4          6.8             Marvel Studios    250.0     670.0   Millions   \n",
       "5          9.3  Castle Rock Entertainment     25.0      73.3   Millions   \n",
       "6          8.6      Warner Bros. Pictures    165.0     701.8   Millions   \n",
       "7          8.0          Columbia Pictures     55.0     307.1   Millions   \n",
       "8          8.5       Universal Pictures      103.0     460.5   Millions   \n",
       "9          7.9         Paramount Pictures    200.0    2202.0   Millions   \n",
       "\n",
       "  currency language   profit  \n",
       "0      INR  Bengali -30000.0  \n",
       "1      USD  English   -754.8  \n",
       "2      USD  English   -479.8  \n",
       "3      USD  English   -674.0  \n",
       "4      USD  English   -420.0  \n",
       "5      USD  English    -48.3  \n",
       "6      USD  English   -536.8  \n",
       "7      USD  English   -252.1  \n",
       "8      USD  English   -357.5  \n",
       "9      USD  English  -2002.0  "
      ]
     },
     "execution_count": 16,
     "metadata": {},
     "output_type": "execute_result"
    }
   ],
   "source": [
    "movies_data['profit'] = movies_data['budget'] - movies_data['revenue']\n",
    "\n",
    "movies_data['profit'].abs()\n",
    "\n",
    "movies_data.head(10)"
   ]
  },
  {
   "cell_type": "markdown",
   "id": "7ed34926",
   "metadata": {},
   "source": [
    " This line of code creates a new column called `profit` in the `movies_data` DataFrame. The values in this column are calculated by subtracting the 'revenue' column from the 'budget' column, indicating the profit or loss for each movie. The resulting values are assigned to the `profit` column. \n",
    " `movies_data['profit'].abs()`\n",
    "This line of code takes the absolute value of the `profit` column in the `movies_data` DataFrame. The abs() function is applied to the `profit` column, ensuring that all profit values are `positive`. This step might be useful if you want to focus on the magnitude of profit rather than distinguishing between `profit and loss`. "
   ]
  },
  {
   "cell_type": "code",
   "execution_count": 18,
   "id": "10360283",
   "metadata": {},
   "outputs": [
    {
     "data": {
      "text/plain": [
       "Hollywood    20\n",
       "Bollywood    17\n",
       "Name: industry, dtype: int64"
      ]
     },
     "execution_count": 18,
     "metadata": {},
     "output_type": "execute_result"
    }
   ],
   "source": [
    "industry_data_movies = movies_data['industry'].value_counts()\n",
    "\n",
    "industry_data_movies"
   ]
  },
  {
   "cell_type": "markdown",
   "id": "9dcf063d",
   "metadata": {},
   "source": [
    "`industry_data_movies = movies_data['industry'].value_counts()`\n",
    "This line of code calculates the count of movies in each industry category from the `industry` column in the `movies_data` DataFrame. The `value_counts()` function is applied to the `industry` column, which returns a `Series` object with the unique industry categories as the index and the corresponding counts as the values. The resulting Series is stored in the variable `industry_data_movies.`"
   ]
  },
  {
   "cell_type": "code",
   "execution_count": 19,
   "id": "6be026c1",
   "metadata": {},
   "outputs": [
    {
     "data": {
      "text/plain": [
       "array(['Thousands', 'Millions', 'Billions'], dtype=object)"
      ]
     },
     "execution_count": 19,
     "metadata": {},
     "output_type": "execute_result"
    }
   ],
   "source": [
    "data_units = movies_data['unit'].unique()\n",
    "\n",
    "data_units"
   ]
  },
  {
   "cell_type": "markdown",
   "id": "053ffa64",
   "metadata": {},
   "source": [
    "`data_units = movies_data['unit'].unique()`\n",
    "This line of code accesses the `unit` column from the movies_data DataFrame and applies the `unique()` function to it. The unique() function returns an array or list of all the unique values present in the `unit` column. The resulting array is stored in the `variable data_units`."
   ]
  },
  {
   "cell_type": "code",
   "execution_count": 20,
   "id": "fd6c1ece",
   "metadata": {},
   "outputs": [
    {
     "data": {
      "text/plain": [
       "title           It's a Wonderful Life\n",
       "industry                    Hollywood\n",
       "release_year                     1946\n",
       "imdb_rating                       8.6\n",
       "studio                  Liberty Films\n",
       "budget                           3.18\n",
       "revenue                           3.3\n",
       "unit                         Millions\n",
       "currency                          USD\n",
       "language                      English\n",
       "profit                          -0.12\n",
       "Name: 10, dtype: object"
      ]
     },
     "execution_count": 20,
     "metadata": {},
     "output_type": "execute_result"
    }
   ],
   "source": [
    "movie_max_salary_index = movies_data['profit'].idxmax()\n",
    "\n",
    "movie_max_salary_index\n",
    "\n",
    "movie_max_salary = movies_data.loc[movie_max_salary_index]\n",
    "\n",
    "movie_max_salary"
   ]
  },
  {
   "cell_type": "markdown",
   "id": "521b3bd7",
   "metadata": {},
   "source": [
    "`movie_max_salary_index = movies_data['profit'].idxmax()`\n",
    "This line of code finds the index of the movie with the `maximum profit` in the `movies_data` DataFrame. It does this by accessing the `profit` column of the DataFrame and using the `idxmax()` function to return the index corresponding to the maximum value in that column. The resulting index is stored in the variable `movie_max_salary_index`."
   ]
  },
  {
   "cell_type": "code",
   "execution_count": 21,
   "id": "7d37f633",
   "metadata": {},
   "outputs": [
    {
     "name": "stdout",
     "output_type": "stream",
     "text": [
      "Q1: 1600.0\n",
      "Q2: 479.79999999999995\n",
      "Q3: 153.90000000000003\n"
     ]
    }
   ],
   "source": [
    "movie_profit = movies_data['profit']\n",
    "quartiles = movie_profit.quantile([0.25, 0.5, 0.75])\n",
    "\n",
    "# Access individual quartiles\n",
    "q1 = quartiles.loc[0.25]\n",
    "\n",
    "q2 = quartiles.loc[0.5]\n",
    "\n",
    "q3 = quartiles.loc[0.75]\n",
    "\n",
    "print(\"Q1:\", abs(q1))\n",
    "\n",
    "print(\"Q2:\", abs(q2))\n",
    "\n",
    "print(\"Q3:\", abs(q3))"
   ]
  },
  {
   "cell_type": "code",
   "execution_count": null,
   "id": "9f6ff85e",
   "metadata": {},
   "outputs": [],
   "source": []
  }
 ],
 "metadata": {
  "kernelspec": {
   "display_name": "Python 3 (ipykernel)",
   "language": "python",
   "name": "python3"
  },
  "language_info": {
   "codemirror_mode": {
    "name": "ipython",
    "version": 3
   },
   "file_extension": ".py",
   "mimetype": "text/x-python",
   "name": "python",
   "nbconvert_exporter": "python",
   "pygments_lexer": "ipython3",
   "version": "3.11.4"
  }
 },
 "nbformat": 4,
 "nbformat_minor": 5
}
