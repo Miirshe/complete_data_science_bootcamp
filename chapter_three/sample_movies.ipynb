{
 "cells": [
  {
   "cell_type": "markdown",
   "id": "7b96d2ad",
   "metadata": {},
   "source": [
    "# chapter 3 || Assignment two \n",
    "\n",
    "\n",
    "## MyProfile\n",
    "\n",
    "   ####  ``Name`` : Abdikafi Isse Isak\n",
    "   #### ``ID`` : C120868\n",
    "   #### ``ClassNo`` : CA205\n",
    "   "
   ]
  },
  {
   "cell_type": "code",
   "execution_count": 8,
   "id": "735cdeab",
   "metadata": {},
   "outputs": [],
   "source": [
    "import pandas as pd # this line gives me to read any file the reason why is pandas. \n",
    "\n",
    "# pandas is the library package allows to read any file "
   ]
  },
  {
   "cell_type": "markdown",
   "id": "c0262162",
   "metadata": {},
   "source": [
    "# Movies.csv File\n",
    "\n",
    "as you know we have ``movies.csv`` file, this movie files contains a lot of movies columns  name like  ``industry``, ``rating``, ``release_year``,  ``studio``, ``budget`` as expense, ``revenue``, ``unit``, ``currency``, ``language``.\n",
    "``industry`` column indicates the company name that produce of the  movies, the ``title`` column indicates the name of the movies, the  ``release_year`` column indicates the year released of the movies,\n",
    "the ``imdb_rating`` column indicates the rate of the every movie gets,\n",
    "the ``studio`` column indicates the studio released after produce the movies, the ``budget`` column iindicates the expense takes of every movie,the ``revenue`` column indicates the revenue gets of every movie,the ``unit`` column indicates the currency unit gets of every movie like    thousands , millions and so on,\n",
    "the ``currency`` column indicates the currency type gets of every movie,\n",
    "the ``langauge`` column indicates the language translate of every movies or the original language released of every movies"
   ]
  },
  {
   "cell_type": "code",
   "execution_count": null,
   "id": "99575b81",
   "metadata": {},
   "outputs": [],
   "source": []
  }
 ],
 "metadata": {
  "kernelspec": {
   "display_name": "Python 3 (ipykernel)",
   "language": "python",
   "name": "python3"
  },
  "language_info": {
   "codemirror_mode": {
    "name": "ipython",
    "version": 3
   },
   "file_extension": ".py",
   "mimetype": "text/x-python",
   "name": "python",
   "nbconvert_exporter": "python",
   "pygments_lexer": "ipython3",
   "version": "3.11.4"
  }
 },
 "nbformat": 4,
 "nbformat_minor": 5
}
