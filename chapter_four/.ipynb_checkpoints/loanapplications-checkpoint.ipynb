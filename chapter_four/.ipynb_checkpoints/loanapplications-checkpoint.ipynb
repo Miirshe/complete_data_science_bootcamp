{
 "cells": [
  {
   "cell_type": "markdown",
   "metadata": {},
   "source": [
    "##                                                MY PROFILE\n",
    "\n",
    "### NAME: Ali Omar Abdi\n",
    "### ID:   C120937\n",
    "### CLASS: CA208"
   ]
  },
  {
   "cell_type": "code",
   "execution_count": 107,
   "metadata": {},
   "outputs": [],
   "source": [
    "# importing libararies\n",
    "import numpy as np\n",
    "import stat as st\n",
    "import pandas as pd"
   ]
  },
  {
   "cell_type": "markdown",
   "metadata": {},
   "source": [
    "#  Data Shape:\n",
    "### Determine the number of rows and columns in the dataset to understand its overall size and dimensions. This can be done using the shape function or method available in most programming languages or data analysis tools.\n"
   ]
  },
  {
   "cell_type": "code",
   "execution_count": 108,
   "metadata": {},
   "outputs": [],
   "source": [
    "#  Read the data from the csv file\n",
    "loan_application = pd.read_csv('loanapplications.csv')"
   ]
  },
  {
   "cell_type": "code",
   "execution_count": 109,
   "metadata": {},
   "outputs": [
    {
     "name": "stdout",
     "output_type": "stream",
     "text": [
      "     married   race loan_decision  occupancy  loan_amount  applicant_income  \\\n",
      "0       True  white        reject          1          128                74   \n",
      "1      False  white       approve          1          128                84   \n",
      "2       True  white       approve          1           66                36   \n",
      "3       True  white       approve          1          120                59   \n",
      "4      False  white       approve          1          111                63   \n",
      "...      ...    ...           ...        ...          ...               ...   \n",
      "1983    True  white       approve          1          158                96   \n",
      "1984    True  white       approve          1           35               169   \n",
      "1985    True  white       approve          2          225                49   \n",
      "1986   False  white       approve          1           98               110   \n",
      "1987   False  black        reject          1          133                55   \n",
      "\n",
      "      num_units  num_dependants  self_employed  monthly_income  \\\n",
      "0           1.0             1.0          False            4583   \n",
      "1           1.0             0.0          False            2666   \n",
      "2           1.0             0.0           True            3000   \n",
      "3           1.0             0.0          False            2583   \n",
      "4           1.0             0.0          False            2208   \n",
      "...         ...             ...            ...             ...   \n",
      "1983        1.0             0.0          False            5000   \n",
      "1984        1.0             0.0          False            9583   \n",
      "1985        2.0             0.0           True            4159   \n",
      "1986        1.0             0.0           True            9200   \n",
      "1987        1.0             0.0           True            4583   \n",
      "\n",
      "      purchase_price  liquid_assets  mortage_payment_history  \\\n",
      "0              160.0           52.0                        2   \n",
      "1              143.0           37.0                        2   \n",
      "2              110.0           19.0                        2   \n",
      "3              134.0           31.0                        2   \n",
      "4              138.0          169.0                        2   \n",
      "...              ...            ...                      ...   \n",
      "1983           176.0           15.0                        2   \n",
      "1984           315.0           64.0                        1   \n",
      "1985           225.0           10.0                        2   \n",
      "1986           215.0          427.9                        1   \n",
      "1987           148.0           24.5                        2   \n",
      "\n",
      "      consumer_credit_history  filed_bankruptcy  property_type  gender  \n",
      "0                           2             False              2    male  \n",
      "1                           2             False              2    male  \n",
      "2                           6              True              2    male  \n",
      "3                           1             False              1    male  \n",
      "4                           6             False              2    male  \n",
      "...                       ...               ...            ...     ...  \n",
      "1983                        1             False              2    male  \n",
      "1984                        1             False              1    male  \n",
      "1985                        1             False              3    male  \n",
      "1986                        1             False              1    male  \n",
      "1987                        3             False              2  female  \n",
      "\n",
      "[1988 rows x 17 columns]\n"
     ]
    }
   ],
   "source": [
    "#  display the data\n",
    "print(loan_application)"
   ]
  },
  {
   "cell_type": "code",
   "execution_count": 110,
   "metadata": {},
   "outputs": [
    {
     "name": "stdout",
     "output_type": "stream",
     "text": [
      "The shape of the dataset is:  (1988, 17)\n"
     ]
    }
   ],
   "source": [
    "# shape of dataset\n",
    "print(\"The shape of the dataset is: \", loan_application.shape)"
   ]
  },
  {
   "cell_type": "code",
   "execution_count": 111,
   "metadata": {},
   "outputs": [
    {
     "name": "stdout",
     "output_type": "stream",
     "text": [
      "The type of our dataset is:\n"
     ]
    },
    {
     "data": {
      "text/plain": [
       "pandas.core.frame.DataFrame"
      ]
     },
     "execution_count": 111,
     "metadata": {},
     "output_type": "execute_result"
    }
   ],
   "source": [
    "# type of our dataset\n",
    "print(\"The type of our dataset is:\")\n",
    "type(loan_application)"
   ]
  },
  {
   "cell_type": "code",
   "execution_count": 112,
   "metadata": {},
   "outputs": [
    {
     "name": "stdout",
     "output_type": "stream",
     "text": [
      "  married   race loan_decision  occupancy  loan_amount  applicant_income  \\\n",
      "0    True  white        reject          1          128                74   \n",
      "1   False  white       approve          1          128                84   \n",
      "2    True  white       approve          1           66                36   \n",
      "3    True  white       approve          1          120                59   \n",
      "4   False  white       approve          1          111                63   \n",
      "\n",
      "   num_units  num_dependants  self_employed  monthly_income  purchase_price  \\\n",
      "0        1.0             1.0          False            4583           160.0   \n",
      "1        1.0             0.0          False            2666           143.0   \n",
      "2        1.0             0.0           True            3000           110.0   \n",
      "3        1.0             0.0          False            2583           134.0   \n",
      "4        1.0             0.0          False            2208           138.0   \n",
      "\n",
      "   liquid_assets  mortage_payment_history  consumer_credit_history  \\\n",
      "0           52.0                        2                        2   \n",
      "1           37.0                        2                        2   \n",
      "2           19.0                        2                        6   \n",
      "3           31.0                        2                        1   \n",
      "4          169.0                        2                        6   \n",
      "\n",
      "   filed_bankruptcy  property_type gender  \n",
      "0             False              2   male  \n",
      "1             False              2   male  \n",
      "2              True              2   male  \n",
      "3             False              1   male  \n",
      "4             False              2   male  \n"
     ]
    }
   ],
   "source": [
    "#  Print the first 5 rows of the data\n",
    "print(loan_application.head())"
   ]
  },
  {
   "cell_type": "code",
   "execution_count": 113,
   "metadata": {},
   "outputs": [
    {
     "name": "stdout",
     "output_type": "stream",
     "text": [
      "The length of the dataset is: 1988\n"
     ]
    }
   ],
   "source": [
    "#  length of our dataset \n",
    "print(\"The length of the dataset is:\", len(loan_application))\n"
   ]
  },
  {
   "cell_type": "code",
   "execution_count": 114,
   "metadata": {},
   "outputs": [
    {
     "name": "stdout",
     "output_type": "stream",
     "text": [
      "<class 'pandas.core.frame.DataFrame'>\n",
      "RangeIndex: 1988 entries, 0 to 1987\n",
      "Data columns (total 17 columns):\n",
      " #   Column                   Non-Null Count  Dtype  \n",
      "---  ------                   --------------  -----  \n",
      " 0   married                  1985 non-null   object \n",
      " 1   race                     1988 non-null   object \n",
      " 2   loan_decision            1988 non-null   object \n",
      " 3   occupancy                1988 non-null   int64  \n",
      " 4   loan_amount              1988 non-null   int64  \n",
      " 5   applicant_income         1988 non-null   int64  \n",
      " 6   num_units                1984 non-null   float64\n",
      " 7   num_dependants           1985 non-null   float64\n",
      " 8   self_employed            1988 non-null   bool   \n",
      " 9   monthly_income           1988 non-null   int64  \n",
      " 10  purchase_price           1988 non-null   float64\n",
      " 11  liquid_assets            1988 non-null   float64\n",
      " 12  mortage_payment_history  1988 non-null   int64  \n",
      " 13  consumer_credit_history  1988 non-null   int64  \n",
      " 14  filed_bankruptcy         1988 non-null   bool   \n",
      " 15  property_type            1988 non-null   int64  \n",
      " 16  gender                   1974 non-null   object \n",
      "dtypes: bool(2), float64(4), int64(7), object(4)\n",
      "memory usage: 237.0+ KB\n",
      "None\n"
     ]
    }
   ],
   "source": [
    "# information about our dataset\n",
    "print(loan_application.info())"
   ]
  },
  {
   "cell_type": "markdown",
   "metadata": {},
   "source": [
    "### Decribing statitical decribe function to conclude the mean, standard deviation, minimum value, maximum value, 25th percentile, 50th percentile, 75th percentile of our dataset  "
   ]
  },
  {
   "cell_type": "code",
   "execution_count": 115,
   "metadata": {},
   "outputs": [
    {
     "name": "stdout",
     "output_type": "stream",
     "text": [
      "The statistical description of our dataset is: \n",
      "         occupancy  loan_amount  applicant_income    num_units  \\\n",
      "count  1988.000000  1988.000000       1988.000000  1984.000000   \n",
      "mean      1.031690   143.272636         84.684105     1.122480   \n",
      "std       0.191678    80.531470         87.079777     0.437315   \n",
      "min       1.000000     2.000000          0.000000     1.000000   \n",
      "25%       1.000000   100.000000         48.000000     1.000000   \n",
      "50%       1.000000   126.000000         64.000000     1.000000   \n",
      "75%       1.000000   165.000000         88.000000     1.000000   \n",
      "max       3.000000   980.000000        972.000000     4.000000   \n",
      "\n",
      "       num_dependants  monthly_income  purchase_price   liquid_assets  \\\n",
      "count     1985.000000     1988.000000     1988.000000     1988.000000   \n",
      "mean         0.771285     5195.220825      196.304088     4620.333873   \n",
      "std          1.104464     5270.360946      128.136030    67142.936043   \n",
      "min          0.000000        0.000000       25.000000        0.000000   \n",
      "25%          0.000000     2875.750000      129.000000       20.000000   \n",
      "50%          0.000000     3812.500000      163.000000       38.000000   \n",
      "75%          1.000000     5594.500000      225.000000       83.000000   \n",
      "max          8.000000    81000.000000     1535.000000  1000000.000000   \n",
      "\n",
      "       mortage_payment_history  consumer_credit_history  property_type  \n",
      "count              1988.000000              1988.000000    1988.000000  \n",
      "mean                  1.708249                 2.110161       1.861167  \n",
      "std                   0.555335                 1.663256       0.535448  \n",
      "min                   1.000000                 1.000000       1.000000  \n",
      "25%                   1.000000                 1.000000       2.000000  \n",
      "50%                   2.000000                 1.000000       2.000000  \n",
      "75%                   2.000000                 2.000000       2.000000  \n",
      "max                   4.000000                 6.000000       3.000000  \n"
     ]
    }
   ],
   "source": [
    "# Decribing statitical decribe function to conclude the mean, standard deviation, minimum value, maximum value, 25th percentile, 50th percentile, 75th percentile of our dataset  \n",
    "print(\"The statistical description of our dataset is: \")\n",
    "print(loan_application.describe())"
   ]
  },
  {
   "cell_type": "markdown",
   "metadata": {},
   "source": [
    "### Measure of Central Tendency:\n",
    "#### Calculate measures such as mean, median, and mode to understand the central or typical values of numeric variables in the dataset. The mean represents the average value, the median represents the middle value, and the mode represents the most frequently occurring value.\n"
   ]
  },
  {
   "cell_type": "code",
   "execution_count": 116,
   "metadata": {},
   "outputs": [
    {
     "name": "stdout",
     "output_type": "stream",
     "text": [
      "The mean of the loan amount is: 1.0316901408450705\n"
     ]
    }
   ],
   "source": [
    "# mean of the lond amount \n",
    "occupancy_mean = loan_application['occupancy'].mean()\n",
    "print(\"The mean of the loan amount is:\", occupancy_mean)"
   ]
  },
  {
   "cell_type": "code",
   "execution_count": 117,
   "metadata": {},
   "outputs": [
    {
     "name": "stdout",
     "output_type": "stream",
     "text": [
      "The median of the loan amount is: 1.0\n"
     ]
    }
   ],
   "source": [
    "# median of the loan amount \n",
    "occupancy_mean = loan_application['occupancy'].median()\n",
    "print(\"The median of the loan amount is:\", occupancy_mean)"
   ]
  },
  {
   "cell_type": "code",
   "execution_count": 118,
   "metadata": {},
   "outputs": [
    {
     "name": "stdout",
     "output_type": "stream",
     "text": [
      "The mode of the loan amount is:  0    1\n",
      "Name: occupancy, dtype: int64\n"
     ]
    }
   ],
   "source": [
    "# mode of the loan amount \n",
    "occupancy_mode = loan_application['occupancy'].mode()\n",
    "print(\"The mode of the loan amount is: \", occupancy_mode)"
   ]
  },
  {
   "cell_type": "code",
   "execution_count": 119,
   "metadata": {},
   "outputs": [
    {
     "name": "stdout",
     "output_type": "stream",
     "text": [
      "The number of times 1 occurred in the dataset is:  1    1931\n",
      "2      51\n",
      "3       6\n",
      "Name: occupancy, dtype: int64\n"
     ]
    }
   ],
   "source": [
    "# occurred most frequently in the dataset \n",
    "occupy_ones = loan_application['occupancy'].value_counts()\n",
    "print(\"The number of times 1 occurred in the dataset is: \", occupy_ones)"
   ]
  },
  {
   "cell_type": "code",
   "execution_count": 120,
   "metadata": {},
   "outputs": [
    {
     "name": "stdout",
     "output_type": "stream",
     "text": [
      "The number of times 1 occurred in the dataset is: \n",
      "     married   race loan_decision  occupancy  loan_amount  applicant_income  \\\n",
      "0       True  white        reject          1          128                74   \n",
      "1      False  white       approve          1          128                84   \n",
      "2       True  white       approve          1           66                36   \n",
      "3       True  white       approve          1          120                59   \n",
      "4      False  white       approve          1          111                63   \n",
      "...      ...    ...           ...        ...          ...               ...   \n",
      "1982   False  white       approve          1          120                46   \n",
      "1983    True  white       approve          1          158                96   \n",
      "1984    True  white       approve          1           35               169   \n",
      "1986   False  white       approve          1           98               110   \n",
      "1987   False  black        reject          1          133                55   \n",
      "\n",
      "      num_units  num_dependants  self_employed  monthly_income  \\\n",
      "0           1.0             1.0          False            4583   \n",
      "1           1.0             0.0          False            2666   \n",
      "2           1.0             0.0           True            3000   \n",
      "3           1.0             0.0          False            2583   \n",
      "4           1.0             0.0          False            2208   \n",
      "...         ...             ...            ...             ...   \n",
      "1982        1.0             0.0          False            2340   \n",
      "1983        1.0             0.0          False            5000   \n",
      "1984        1.0             0.0          False            9583   \n",
      "1986        1.0             0.0           True            9200   \n",
      "1987        1.0             0.0           True            4583   \n",
      "\n",
      "      purchase_price  liquid_assets  mortage_payment_history  \\\n",
      "0              160.0           52.0                        2   \n",
      "1              143.0           37.0                        2   \n",
      "2              110.0           19.0                        2   \n",
      "3              134.0           31.0                        2   \n",
      "4              138.0          169.0                        2   \n",
      "...              ...            ...                      ...   \n",
      "1982           160.0           47.0                        2   \n",
      "1983           176.0           15.0                        2   \n",
      "1984           315.0           64.0                        1   \n",
      "1986           215.0          427.9                        1   \n",
      "1987           148.0           24.5                        2   \n",
      "\n",
      "      consumer_credit_history  filed_bankruptcy  property_type  gender  \n",
      "0                           2             False              2    male  \n",
      "1                           2             False              2    male  \n",
      "2                           6              True              2    male  \n",
      "3                           1             False              1    male  \n",
      "4                           6             False              2    male  \n",
      "...                       ...               ...            ...     ...  \n",
      "1982                        4             False              2    male  \n",
      "1983                        1             False              2    male  \n",
      "1984                        1             False              1    male  \n",
      "1986                        1             False              1    male  \n",
      "1987                        3             False              2  female  \n",
      "\n",
      "[1931 rows x 17 columns]\n"
     ]
    }
   ],
   "source": [
    "# occupy that equal to 1\n",
    "occupy_ones = loan_application[loan_application['occupancy'] == 1]\n",
    "print(\"The number of times 1 occurred in the dataset is: \")\n",
    "print(occupy_ones)\n"
   ]
  },
  {
   "cell_type": "code",
   "execution_count": 121,
   "metadata": {},
   "outputs": [
    {
     "name": "stdout",
     "output_type": "stream",
     "text": [
      "The number of times 1 occurred in the dataset is: \n",
      "     married   race loan_decision  occupancy  loan_amount  applicant_income  \\\n",
      "0       True  white        reject          1          128                74   \n",
      "1      False  white       approve          1          128                84   \n",
      "2       True  white       approve          1           66                36   \n",
      "3       True  white       approve          1          120                59   \n",
      "4      False  white       approve          1          111                63   \n",
      "...      ...    ...           ...        ...          ...               ...   \n",
      "1983    True  white       approve          1          158                96   \n",
      "1984    True  white       approve          1           35               169   \n",
      "1985    True  white       approve          2          225                49   \n",
      "1986   False  white       approve          1           98               110   \n",
      "1987   False  black        reject          1          133                55   \n",
      "\n",
      "      num_units  num_dependants  self_employed  monthly_income  \\\n",
      "0           1.0             1.0          False            4583   \n",
      "1           1.0             0.0          False            2666   \n",
      "2           1.0             0.0           True            3000   \n",
      "3           1.0             0.0          False            2583   \n",
      "4           1.0             0.0          False            2208   \n",
      "...         ...             ...            ...             ...   \n",
      "1983        1.0             0.0          False            5000   \n",
      "1984        1.0             0.0          False            9583   \n",
      "1985        2.0             0.0           True            4159   \n",
      "1986        1.0             0.0           True            9200   \n",
      "1987        1.0             0.0           True            4583   \n",
      "\n",
      "      purchase_price  liquid_assets  mortage_payment_history  \\\n",
      "0              160.0           52.0                        2   \n",
      "1              143.0           37.0                        2   \n",
      "2              110.0           19.0                        2   \n",
      "3              134.0           31.0                        2   \n",
      "4              138.0          169.0                        2   \n",
      "...              ...            ...                      ...   \n",
      "1983           176.0           15.0                        2   \n",
      "1984           315.0           64.0                        1   \n",
      "1985           225.0           10.0                        2   \n",
      "1986           215.0          427.9                        1   \n",
      "1987           148.0           24.5                        2   \n",
      "\n",
      "      consumer_credit_history  filed_bankruptcy  property_type  gender  \n",
      "0                           2             False              2    male  \n",
      "1                           2             False              2    male  \n",
      "2                           6              True              2    male  \n",
      "3                           1             False              1    male  \n",
      "4                           6             False              2    male  \n",
      "...                       ...               ...            ...     ...  \n",
      "1983                        1             False              2    male  \n",
      "1984                        1             False              1    male  \n",
      "1985                        1             False              3    male  \n",
      "1986                        1             False              1    male  \n",
      "1987                        3             False              2  female  \n",
      "\n",
      "[1988 rows x 17 columns]\n"
     ]
    }
   ],
   "source": [
    "# occupy that greater than 1 or equal to 1\n",
    "occupy_greater = loan_application[loan_application['occupancy'] >= 1]\n",
    "print(\"The number of times 1 occurred in the dataset is: \")\n",
    "print(occupy_greater)"
   ]
  },
  {
   "cell_type": "code",
   "execution_count": 122,
   "metadata": {},
   "outputs": [
    {
     "name": "stdout",
     "output_type": "stream",
     "text": [
      "The number of times 1 occurred in the dataset is: \n",
      "     married   race loan_decision  occupancy  loan_amount  applicant_income  \\\n",
      "16      True  white       approve          2          114                98   \n",
      "53      True  white        reject          2          147                54   \n",
      "76     False  white       approve          2          130                27   \n",
      "111    False  white       approve          2          184                50   \n",
      "135     True  white       approve          2           44                68   \n",
      "144     True  white       approve          2          137               253   \n",
      "147    False  white       approve          2           70                30   \n",
      "205     True  white       approve          2          185               137   \n",
      "222     True  white        reject          2          258               124   \n",
      "331     True  white       approve          2          115                50   \n",
      "333    False  white       approve          2          240                72   \n",
      "410    False  white        reject          2           50                43   \n",
      "420     True  white       approve          2          150               110   \n",
      "448     True  white        reject          2          160               172   \n",
      "449     True  white       approve          2          102               152   \n",
      "523     True  white       approve          2          186               264   \n",
      "542     True  white       approve          2          200                95   \n",
      "569     True  white       approve          2           75               113   \n",
      "605     True  white       approve          2          101                47   \n",
      "609     True  white       approve          2          114                88   \n",
      "633     True  white       approve          2           73                55   \n",
      "687     True  white       approve          2          152               234   \n",
      "720     True  white       approve          2          108                44   \n",
      "724     True  white       approve          2          110                50   \n",
      "728     True  white       approve          2          400               159   \n",
      "791     True  white        reject          3          260               131   \n",
      "808     True  white       approve          2          123                96   \n",
      "811     True  white       approve          2          112               117   \n",
      "865    False  white       approve          3          134                51   \n",
      "919     True  white        reject          2           85               261   \n",
      "1026    True  white       approve          2          151               120   \n",
      "1047    True  white        reject          2          155               120   \n",
      "1191   False  white       approve          2           55               189   \n",
      "1201    True  white       approve          2          145                57   \n",
      "1247    True  white       approve          2          125                54   \n",
      "1275   False  black       approve          3          120                65   \n",
      "1385    True  white       approve          3           92                70   \n",
      "1447    True  white       approve          2           49                70   \n",
      "1464    True  white        reject          2          173                75   \n",
      "1482   False  white       approve          2          240               270   \n",
      "1498    True  white       approve          2          110               201   \n",
      "1524    True  white       approve          2          150               198   \n",
      "1547   False  white       approve          2          110                68   \n",
      "1559    True  white       approve          2          186                78   \n",
      "1564    True  white       approve          2          175                84   \n",
      "1579   False  white       approve          2          225                19   \n",
      "1597    True  white       approve          2           95                36   \n",
      "1600   False  white       approve          2          113                52   \n",
      "1631   False  black       approve          2           40                13   \n",
      "1653    True  white       approve          2           40                60   \n",
      "1659    True  white       approve          2          252               396   \n",
      "1701   False  white       approve          3           40                57   \n",
      "1765   False  white        reject          3           80                40   \n",
      "1807    True  white       approve          2          100                60   \n",
      "1876    True  white        reject          2          133                60   \n",
      "1881    True  white       approve          2           96               120   \n",
      "1985    True  white       approve          2          225                49   \n",
      "\n",
      "      num_units  num_dependants  self_employed  monthly_income  \\\n",
      "16          1.0             1.0          False            5438   \n",
      "53          1.0             2.0          False            3881   \n",
      "76          2.0             0.0          False            3125   \n",
      "111         1.0             0.0          False            4166   \n",
      "135         1.0             1.0          False            5649   \n",
      "144         1.0             0.0           True           21117   \n",
      "147         2.0             0.0           True            2656   \n",
      "205         2.0             2.0          False            7350   \n",
      "222         1.0             0.0          False            5726   \n",
      "331         2.0             0.0          False            4188   \n",
      "333         1.0             0.0          False            8567   \n",
      "410         1.0             0.0           True            6356   \n",
      "420         2.0             2.0           True            4767   \n",
      "448         1.0             1.0           True           10513   \n",
      "449         1.0             2.0          False            4635   \n",
      "523         1.0             1.0           True           19420   \n",
      "542         2.0             0.0          False            2917   \n",
      "569         1.0             0.0          False            9323   \n",
      "605         1.0             2.0          False            2045   \n",
      "609         1.0             1.0          False            3180   \n",
      "633         1.0             0.0          False            4600   \n",
      "687         2.0             3.0          False           19500   \n",
      "720         1.0             3.0          False            3570   \n",
      "724         1.0             0.0           True            2500   \n",
      "728         1.0             3.0          False           13371   \n",
      "791         1.0             2.0           True           10890   \n",
      "808         1.0             0.0          False            3406   \n",
      "811         1.0             2.0          False            9703   \n",
      "865         1.0             0.0          False            2060   \n",
      "919         1.0             0.0          False           20667   \n",
      "1026        1.0             2.0           True           15771   \n",
      "1047        2.0             1.0           True           10000   \n",
      "1191        1.0             0.0           True           15759   \n",
      "1201        1.0             0.0          False            2333   \n",
      "1247        3.0             0.0          False            5488   \n",
      "1275        1.0             0.0          False            5317   \n",
      "1385        1.0             0.0          False            2733   \n",
      "1447        1.0             2.0          False            5833   \n",
      "1464        1.0             0.0          False            3708   \n",
      "1482        1.0             1.0          False           24797   \n",
      "1498        1.0             0.0          False           16692   \n",
      "1524        4.0             2.0           True           16525   \n",
      "1547        1.0             0.0          False            5769   \n",
      "1559        2.0             1.0          False            5333   \n",
      "1564        1.0             1.0           True            6500   \n",
      "1579        3.0             0.0           True           17263   \n",
      "1597        1.0             1.0           True            2895   \n",
      "1600        1.0             0.0          False             645   \n",
      "1631        1.0             1.0          False           13262   \n",
      "1653        2.0             2.0          False            5073   \n",
      "1659        1.0             3.0           True           33000   \n",
      "1701        1.0             0.0          False            1625   \n",
      "1765        1.0             0.0          False            3358   \n",
      "1807        1.0             1.0          False            4702   \n",
      "1876        3.0             0.0          False            3391   \n",
      "1881        1.0             2.0           True           15771   \n",
      "1985        2.0             0.0           True            4159   \n",
      "\n",
      "      purchase_price  liquid_assets  mortage_payment_history  \\\n",
      "16             170.0          36.00                        1   \n",
      "53             165.0          34.00                        2   \n",
      "76             155.0          25.00                        2   \n",
      "111            230.0          50.00                        1   \n",
      "135             55.0           3.00                        1   \n",
      "144            171.0         429.00                        1   \n",
      "147             90.0           0.00                        1   \n",
      "205            264.0         325.00                        2   \n",
      "222            287.0          65.00                        2   \n",
      "331            215.0         140.00                        2   \n",
      "333            300.0         188.00                        1   \n",
      "410             75.0          40.00                        2   \n",
      "420            210.0         119.00                        2   \n",
      "448            193.0         527.00                        1   \n",
      "449            312.0         258.00                        1   \n",
      "523            275.0         534.00                        2   \n",
      "542            170.0          53.00                        1   \n",
      "569            140.0         154.10                        1   \n",
      "605            145.0           1.00                        1   \n",
      "609            142.0         162.00                        1   \n",
      "633            113.0          69.00                        1   \n",
      "687            190.0         159.00                        1   \n",
      "720            120.0           6.00                        2   \n",
      "724            150.0         150.00                        1   \n",
      "728            474.0     1000000.00                        2   \n",
      "791            200.0         152.00                        1   \n",
      "808            154.0          35.00                        1   \n",
      "811            125.0         229.00                        1   \n",
      "865            181.0          23.00                        2   \n",
      "919            109.0         108.00                        2   \n",
      "1026           188.0         145.00                        1   \n",
      "1047           180.0          30.00                        3   \n",
      "1191            55.0         171.00                        1   \n",
      "1201           245.0         118.00                        1   \n",
      "1247           178.0          39.00                        1   \n",
      "1275           150.0          72.92                        2   \n",
      "1385           149.0          16.00                        2   \n",
      "1447            75.0          38.00                        2   \n",
      "1464           200.0          14.00                        2   \n",
      "1482           300.0        2369.00                        1   \n",
      "1498           137.0          89.00                        1   \n",
      "1524           214.0         249.00                        1   \n",
      "1547           160.0         137.00                        1   \n",
      "1559           232.0         214.00                        1   \n",
      "1564           185.0     1000000.00                        1   \n",
      "1579           310.0         141.00                        1   \n",
      "1597           135.0     1000000.00                        2   \n",
      "1600           159.0          72.00                        1   \n",
      "1631            65.0          99.00                        2   \n",
      "1653           270.0          35.74                        2   \n",
      "1659           275.0         338.00                        1   \n",
      "1701            70.0         137.00                        2   \n",
      "1765           100.0          26.00                        2   \n",
      "1807           128.0          74.90                        1   \n",
      "1876           165.0          39.00                        1   \n",
      "1881           138.0         135.00                        1   \n",
      "1985           225.0          10.00                        2   \n",
      "\n",
      "      consumer_credit_history  filed_bankruptcy  property_type  gender  \n",
      "16                          1             False              1    male  \n",
      "53                          5             False              2    male  \n",
      "76                          1             False              3    male  \n",
      "111                         1             False              1    male  \n",
      "135                         1             False              2    male  \n",
      "144                         1             False              1    male  \n",
      "147                         1             False              3    male  \n",
      "205                         1             False              3    male  \n",
      "222                         2             False              2    male  \n",
      "331                         1             False              3    male  \n",
      "333                         1             False              1    male  \n",
      "410                         4             False              2    male  \n",
      "420                         2             False              3    male  \n",
      "448                         1              True              2    male  \n",
      "449                         1             False              2    male  \n",
      "523                         1             False              1    male  \n",
      "542                         3              True              2    male  \n",
      "569                         2             False              2    male  \n",
      "605                         2             False              2    male  \n",
      "609                         1             False              1    male  \n",
      "633                         1             False              1    male  \n",
      "687                         2             False              3    male  \n",
      "720                         1             False              2    male  \n",
      "724                         1             False              2    male  \n",
      "728                         1             False              2    male  \n",
      "791                         2             False              2    male  \n",
      "808                         1             False              2    male  \n",
      "811                         1             False              1    male  \n",
      "865                         2             False              2    male  \n",
      "919                         1             False              1    male  \n",
      "1026                        1             False              2    male  \n",
      "1047                        2             False              3    male  \n",
      "1191                        1             False              1  female  \n",
      "1201                        1             False              2    male  \n",
      "1247                        1             False              3    male  \n",
      "1275                        1             False              2  female  \n",
      "1385                        2             False              2    male  \n",
      "1447                        2             False              2    male  \n",
      "1464                        5             False              2    male  \n",
      "1482                        1             False              1    male  \n",
      "1498                        2             False              1  female  \n",
      "1524                        1             False              3    male  \n",
      "1547                        1             False              2  female  \n",
      "1559                        1             False              3    male  \n",
      "1564                        2             False              2    male  \n",
      "1579                        1             False              3  female  \n",
      "1597                        1             False              2    male  \n",
      "1600                        4             False              1  female  \n",
      "1631                        2             False              1  female  \n",
      "1653                        5             False              3    male  \n",
      "1659                        1             False              2    male  \n",
      "1701                        2             False              1    male  \n",
      "1765                        1             False              2    male  \n",
      "1807                        1             False              2    male  \n",
      "1876                        6             False              3    male  \n",
      "1881                        1             False              2    male  \n",
      "1985                        1             False              3    male  \n"
     ]
    }
   ],
   "source": [
    "#  occupy that greater than 2 or equal to 2\n",
    "occupy_greater = loan_application[loan_application['occupancy'] >= 2]\n",
    "print(\"The number of times 1 occurred in the dataset is: \")\n",
    "print(occupy_greater)"
   ]
  },
  {
   "cell_type": "markdown",
   "metadata": {},
   "source": [
    "### Calculate the mean , median and mode loan_amount"
   ]
  },
  {
   "cell_type": "code",
   "execution_count": 123,
   "metadata": {},
   "outputs": [
    {
     "name": "stdout",
     "output_type": "stream",
     "text": [
      "The mean of the loan amount is: 143.27263581488933\n",
      "The median of the loan amount is: 126.0\n",
      "The mode of the loan amount is:  0    100\n",
      "Name: loan_amount, dtype: int64\n"
     ]
    }
   ],
   "source": [
    "# the mean of the loan_amount \n",
    "loan_amount_mean = loan_application['loan_amount'].mean()\n",
    "print(\"The mean of the loan amount is:\", loan_amount_mean)\n",
    "\n",
    "#  the median of the loan_amount\n",
    "loan_amount_median = loan_application['loan_amount'].median()\n",
    "print(\"The median of the loan amount is:\", loan_amount_median)\n",
    "\n",
    "# the mode of the loan_amount\n",
    "loan_amount_mode = loan_application['loan_amount'].mode()\n",
    "print(\"The mode of the loan amount is: \", loan_amount_mode)\n"
   ]
  },
  {
   "cell_type": "markdown",
   "metadata": {},
   "source": [
    "### Calculate the mean, median and mode of the applicant_income"
   ]
  },
  {
   "cell_type": "code",
   "execution_count": 124,
   "metadata": {},
   "outputs": [
    {
     "name": "stdout",
     "output_type": "stream",
     "text": [
      "The mean of the applicant income is: 84.6841046277666\n",
      "The median of the applicant income is: 64.0\n",
      "The mode of the applicant income is:  0    48\n",
      "Name: applicant_income, dtype: int64\n"
     ]
    }
   ],
   "source": [
    "#  the mean of the applicant_income \n",
    "applicant_income_mean = loan_application['applicant_income'].mean()\n",
    "print(\"The mean of the applicant income is:\", applicant_income_mean)\n",
    "\n",
    "#  the median of the applicant_income\n",
    "applicant_income_median = loan_application['applicant_income'].median()\n",
    "print(\"The median of the applicant income is:\", applicant_income_median)\n",
    "\n",
    "#  the mode of the applicant_income\n",
    "applicant_income_mode = loan_application['applicant_income'].mode()\n",
    "print(\"The mode of the applicant income is: \", applicant_income_mode)\n"
   ]
  },
  {
   "cell_type": "markdown",
   "metadata": {},
   "source": [
    "### Calcuting the mean , median , mode of the  monthly_income"
   ]
  },
  {
   "cell_type": "code",
   "execution_count": 125,
   "metadata": {},
   "outputs": [
    {
     "name": "stdout",
     "output_type": "stream",
     "text": [
      "The mean of the monthly income is: 5195.220824949698\n",
      "The median of the monthly income is: 3812.5\n",
      "The mode of the monthly income is:  0    2500\n",
      "Name: monthly_income, dtype: int64\n"
     ]
    }
   ],
   "source": [
    "#  the mean of the monthly_income\n",
    "monthly_income_mean = loan_application['monthly_income'].mean()\n",
    "print(\"The mean of the monthly income is:\", monthly_income_mean)\n",
    "\n",
    "#  the median of the monthly_income\n",
    "monthly_income_median = loan_application['monthly_income'].median()\n",
    "print(\"The median of the monthly income is:\", monthly_income_median)\n",
    "\n",
    "#  the mode of the monthly_income\n",
    "monthly_income_mode = loan_application['monthly_income'].mode()\n",
    "print(\"The mode of the monthly income is: \", monthly_income_mode)\n"
   ]
  },
  {
   "cell_type": "code",
   "execution_count": 126,
   "metadata": {},
   "outputs": [
    {
     "name": "stdout",
     "output_type": "stream",
     "text": [
      "The mean of the purchase price is: 196.30408802816902\n",
      "The median of the purchase price is: 163.0\n",
      "The mode of the purchase price is:  0    125.0\n",
      "Name: purchase_price, dtype: float64\n"
     ]
    }
   ],
   "source": [
    "### Calcuting the mean , median , mode of the  purchase_price\n",
    "\n",
    "#  the mean of the purchase_price\n",
    "purchase_price_mean = loan_application['purchase_price'].mean()\n",
    "print(\"The mean of the purchase price is:\", purchase_price_mean)\n",
    "\n",
    "#  the median of the purchase_price\n",
    "purchase_price_median = loan_application['purchase_price'].median()\n",
    "print(\"The median of the purchase price is:\", purchase_price_median)\n",
    "\n",
    "#  the mode of the purchase_price\n",
    "purchase_price_mode = loan_application['purchase_price'].mode()\n",
    "print(\"The mode of the purchase price is: \", purchase_price_mode)"
   ]
  },
  {
   "cell_type": "markdown",
   "metadata": {},
   "source": [
    "## Measure of Variance:\n",
    "### Assess the spread or variability of the data using measures like standard deviation and range. The standard deviation quantifies the average distance between each data point and the mean, while the range indicates the difference between the maximum and minimum values.\n"
   ]
  },
  {
   "cell_type": "code",
   "execution_count": 127,
   "metadata": {},
   "outputs": [
    {
     "name": "stdout",
     "output_type": "stream",
     "text": [
      "The variance of the loan amount is: 6485.317680618167\n",
      "The standard deviation of the loan amount is: 80.53147012577237\n",
      "The range of the loan amount is: 978\n"
     ]
    }
   ],
   "source": [
    "# Calculating the variance of the loan_amount\n",
    "loan_amount_variance = loan_application['loan_amount'].var()\n",
    "print(\"The variance of the loan amount is:\", loan_amount_variance)\n",
    "\n",
    "#  Calculating the standard deviation of the loan amount \n",
    "loan_amount_std = loan_application['loan_amount'].std()\n",
    "print(\"The standard deviation of the loan amount is:\", loan_amount_std)\n",
    "\n",
    "#  Calculating the range of the loan_amount\n",
    "loan_amount_range = loan_application['loan_amount'].max() - loan_application['loan_amount'].min()\n",
    "print(\"The range of the loan amount is:\", loan_amount_range)\n"
   ]
  },
  {
   "cell_type": "code",
   "execution_count": 128,
   "metadata": {},
   "outputs": [
    {
     "name": "stdout",
     "output_type": "stream",
     "text": [
      "The variance of the applicant income is: 7582.887578110842\n",
      "The standard deviation of the applicant income is: 87.07977709038329\n",
      "The range of the applicant income is: 972\n"
     ]
    }
   ],
   "source": [
    "# Calculating the variance , standard deviation and range of the applicant_income\n",
    "\n",
    "# Calculating the variance of the applicant_income\n",
    "applicant_income_variance = loan_application['applicant_income'].var()\n",
    "print(\"The variance of the applicant income is:\", applicant_income_variance)\n",
    "\n",
    "#  Calculating the standard deviation of the applicant_income\n",
    "applicant_income_std = loan_application['applicant_income'].std()\n",
    "print(\"The standard deviation of the applicant income is:\", applicant_income_std)\n",
    "\n",
    "# Calculating the range of the applicant_income\n",
    "applicant_income_range = loan_application['applicant_income'].max() - loan_application['applicant_income'].min()\n",
    "print(\"The range of the applicant income is:\", applicant_income_range)"
   ]
  },
  {
   "cell_type": "code",
   "execution_count": 129,
   "metadata": {},
   "outputs": [
    {
     "name": "stdout",
     "output_type": "stream",
     "text": [
      "The variance of the monthly income is: 27776704.497261122\n",
      "The standard deviation of the monthly income is: 5270.360945633716\n",
      "The range of the monthly income is: 81000\n"
     ]
    }
   ],
   "source": [
    "# # Calculating the variance , standard deviation and range of the monthly_income\n",
    "\n",
    "# Calculating the variance of the monthly_income\n",
    "monthly_income_variance = loan_application['monthly_income'].var()\n",
    "print(\"The variance of the monthly income is:\", monthly_income_variance)\n",
    "\n",
    "#  Calculating the standard deviation of the monthly_income\n",
    "monthly_income_std = loan_application['monthly_income'].std()\n",
    "print(\"The standard deviation of the monthly income is:\", monthly_income_std)\n",
    "\n",
    "# Calculating the range of the monthly_income\n",
    "monthly_income_range = loan_application['monthly_income'].max() - loan_application['monthly_income'].min()\n",
    "print(\"The range of the monthly income is:\", monthly_income_range)\n",
    " "
   ]
  },
  {
   "cell_type": "code",
   "execution_count": 130,
   "metadata": {},
   "outputs": [
    {
     "name": "stdout",
     "output_type": "stream",
     "text": [
      "The variance of the purchase price is: 16418.842264617848\n",
      "The standard deviation of the purchase price is: 128.1360303139513\n",
      "The range of the purchase price is: 1510.0\n"
     ]
    }
   ],
   "source": [
    "#  Calculating the variance , standard deviation and range of the purchase_price\n",
    "\n",
    "# Calculating the variance of the purchase_price\n",
    "purchase_price_variance = loan_application['purchase_price'].var()\n",
    "print(\"The variance of the purchase price is:\", purchase_price_variance)\n",
    "\n",
    "#  Calculating the standard deviation of the purchase_price\n",
    "purchase_price_std = loan_application['purchase_price'].std()\n",
    "print(\"The standard deviation of the purchase price is:\", purchase_price_std)\n",
    "\n",
    "# Calculating the range of the purchase_price\n",
    "purchase_price_range = loan_application['purchase_price'].max() - loan_application['purchase_price'].min()\n",
    "print(\"The range of the purchase price is:\", purchase_price_range)\n"
   ]
  },
  {
   "cell_type": "code",
   "execution_count": 131,
   "metadata": {},
   "outputs": [
    {
     "name": "stdout",
     "output_type": "stream",
     "text": [
      "The highest loan amount is: 980\n",
      "The lowest loan amount is: 2\n",
      "The value count for the loan amount is:  100    65\n",
      "187    43\n",
      "120    41\n",
      "110    41\n",
      "130    40\n",
      "       ..\n",
      "313     1\n",
      "980     1\n",
      "54      1\n",
      "436     1\n",
      "253     1\n",
      "Name: loan_amount, Length: 294, dtype: int64\n"
     ]
    }
   ],
   "source": [
    "#  Find the highest loan amount\n",
    "loan_amount_max = loan_application['loan_amount'].max()\n",
    "print(\"The highest loan amount is:\", loan_amount_max)\n",
    "\n",
    "#  Find the lowest loan amount\n",
    "loan_amount_min = loan_application['loan_amount'].min()\n",
    "print(\"The lowest loan amount is:\", loan_amount_min)\n",
    "\n",
    "# Calculating the value count  for the loan_amount\n",
    "loan_amount_value = loan_application['loan_amount'].value_counts()\n",
    "print(\"The value count for the loan amount is: \", loan_amount_value)\n",
    "\n",
    "\n",
    "\n"
   ]
  },
  {
   "cell_type": "code",
   "execution_count": 132,
   "metadata": {},
   "outputs": [
    {
     "name": "stdout",
     "output_type": "stream",
     "text": [
      "The highest applicant income is: 972\n",
      "The lowest applicant income is: 0\n",
      "The value counts for applicant income is: 48     62\n",
      "60     56\n",
      "72     44\n",
      "51     40\n",
      "56     39\n",
      "       ..\n",
      "202     1\n",
      "621     1\n",
      "17      1\n",
      "264     1\n",
      "169     1\n",
      "Name: applicant_income, Length: 228, dtype: int64\n"
     ]
    }
   ],
   "source": [
    "#  Find the highest applicant income\n",
    "applicant_income_max = loan_application['applicant_income'].max()\n",
    "print(\"The highest applicant income is:\", applicant_income_max)\n",
    "\n",
    "\n",
    "#  Find the lowest applicant income\n",
    "applicant_income_min = loan_application['applicant_income'].min()\n",
    "print(\"The lowest applicant income is:\", applicant_income_min)\n",
    "\n",
    "# Calculating the value counts for applicant income\n",
    "applicant_income_count = loan_application['applicant_income'].value_counts()\n",
    "print(\"The value counts for applicant income is:\", applicant_income_count)\n"
   ]
  },
  {
   "cell_type": "code",
   "execution_count": 133,
   "metadata": {},
   "outputs": [
    {
     "name": "stdout",
     "output_type": "stream",
     "text": [
      "The highest monthly income is: 81000\n",
      "The lowest monthly income is: 0\n"
     ]
    }
   ],
   "source": [
    "# Find the highest monthly income\n",
    "monthly_income_max = loan_application['monthly_income'].max()\n",
    "print(\"The highest monthly income is:\", monthly_income_max)\n",
    "\n",
    "# Find the lowest monthly income\n",
    "monthly_income_min = loan_application['monthly_income'].min()\n",
    "print(\"The lowest monthly income is:\", monthly_income_min)"
   ]
  },
  {
   "cell_type": "code",
   "execution_count": 134,
   "metadata": {},
   "outputs": [
    {
     "name": "stdout",
     "output_type": "stream",
     "text": [
      "The average loan amount of the applicant income is: 143.27263581488933\n"
     ]
    }
   ],
   "source": [
    "#  Calculating the average loan amount\n",
    "loan_amount_applicant = loan_application['loan_amount'].mean()\n",
    "print(\"The average loan amount of the applicant income is:\", loan_amount_applicant)"
   ]
  },
  {
   "cell_type": "code",
   "execution_count": 135,
   "metadata": {},
   "outputs": [
    {
     "name": "stdout",
     "output_type": "stream",
     "text": [
      "The number of times 1 occurred in the dataset is: \n",
      "     married   race loan_decision  occupancy  loan_amount  applicant_income  \\\n",
      "2       True  white       approve          1           66                36   \n",
      "7       True  white       approve          1          100                72   \n",
      "10      True  white       approve          1           95                46   \n",
      "13      True  white       approve          1           40                48   \n",
      "14      True  black       approve          1           70                33   \n",
      "...      ...    ...           ...        ...          ...               ...   \n",
      "1974    True  white       approve          1           53                31   \n",
      "1975   False  white       approve          1           71                35   \n",
      "1976    True  white       approve          1           40                48   \n",
      "1984    True  white       approve          1           35               169   \n",
      "1986   False  white       approve          1           98               110   \n",
      "\n",
      "      num_units  num_dependants  self_employed  monthly_income  \\\n",
      "2           1.0             0.0           True            3000   \n",
      "7           1.0             1.0          False            3234   \n",
      "10          1.0             0.0          False            2333   \n",
      "13          1.0             0.0          False            3103   \n",
      "14          1.0             1.0           True            2800   \n",
      "...         ...             ...            ...             ...   \n",
      "1974        1.0             3.0          False            2340   \n",
      "1975        1.0             0.0          False            2900   \n",
      "1976        1.0             3.0          False            4106   \n",
      "1984        1.0             0.0          False            9583   \n",
      "1986        1.0             0.0           True            9200   \n",
      "\n",
      "      purchase_price  liquid_assets  mortage_payment_history  \\\n",
      "2              110.0          19.00                        2   \n",
      "7               99.7          24.50                        2   \n",
      "10             135.0          52.33                        2   \n",
      "13             197.0          34.00                        1   \n",
      "14              78.0          10.00                        2   \n",
      "...              ...            ...                      ...   \n",
      "1974            72.0          29.90                        2   \n",
      "1975            95.0          38.00                        2   \n",
      "1976           190.0         248.00                        1   \n",
      "1984           315.0          64.00                        1   \n",
      "1986           215.0         427.90                        1   \n",
      "\n",
      "      consumer_credit_history  filed_bankruptcy  property_type  gender  \n",
      "2                           6              True              2    male  \n",
      "7                           1             False              2    male  \n",
      "10                          6             False              2    male  \n",
      "13                          1             False              2    male  \n",
      "14                          1             False              1    male  \n",
      "...                       ...               ...            ...     ...  \n",
      "1974                        5             False              2    male  \n",
      "1975                        1             False              1  female  \n",
      "1976                        1             False              2    male  \n",
      "1984                        1             False              1    male  \n",
      "1986                        1             False              1    male  \n",
      "\n",
      "[524 rows x 17 columns]\n"
     ]
    }
   ],
   "source": [
    "# Calculating the loan amount less than or equal to 100\n",
    "loan_amount_less = loan_application[loan_application['loan_amount'] <= 100]\n",
    "print(\"The number of times 1 occurred in the dataset is: \")\n",
    "print(loan_amount_less)"
   ]
  },
  {
   "cell_type": "code",
   "execution_count": 136,
   "metadata": {},
   "outputs": [
    {
     "name": "stdout",
     "output_type": "stream",
     "text": [
      "The number of times 1 occurred in the dataset is: \n",
      "     married   race loan_decision  occupancy  loan_amount  applicant_income  \\\n",
      "13      True  white       approve          1           40                48   \n",
      "27      True  white       approve          1           17                31   \n",
      "77     False  white       approve          1            2                35   \n",
      "80     False  white        reject          1           40                50   \n",
      "83     False  white        reject          1           35                17   \n",
      "121    False  white       approve          1           28                25   \n",
      "178    False  white       approve          1           26                60   \n",
      "295     True  white       approve          1           30                61   \n",
      "298     True  white       approve          1           25                48   \n",
      "322    False  white       approve          1           25                45   \n",
      "479     True  white       approve          1           25                41   \n",
      "515     True  white       approve          1           30                36   \n",
      "798    False  white       approve          1           40                68   \n",
      "885    False  white       approve          1           30                37   \n",
      "1020    True  white       approve          1           28                35   \n",
      "1303    True  white       approve          1           28                33   \n",
      "1327   False  white       approve          1           25                31   \n",
      "1373   False  white       approve          1           40                35   \n",
      "1448    True  white       approve          1           30                28   \n",
      "1455    True  white       approve          1           27                71   \n",
      "1458    True  white       approve          1           34               100   \n",
      "1505    True  white       approve          1           40                47   \n",
      "1543    True  white       approve          1           25                75   \n",
      "1545   False  white       approve          1           30                30   \n",
      "1631   False  black       approve          2           40                13   \n",
      "1653    True  white       approve          2           40                60   \n",
      "1677    True  white       approve          1           40                52   \n",
      "1685    True  white       approve          1           29                61   \n",
      "1701   False  white       approve          3           40                57   \n",
      "1788   False  white       approve          1           40               260   \n",
      "1789    True  white       approve          1           26                66   \n",
      "1821    True  white       approve          1           40                60   \n",
      "1825   False  white       approve          1           40                39   \n",
      "1837   False  white        reject          1            9                28   \n",
      "1846    True  white       approve          1           35                42   \n",
      "1891    True  white       approve          1           36                36   \n",
      "1906   False  white       approve          1           30                52   \n",
      "1943    True  white       approve          1           20                46   \n",
      "1976    True  white       approve          1           40                48   \n",
      "1984    True  white       approve          1           35               169   \n",
      "\n",
      "      num_units  num_dependants  self_employed  monthly_income  \\\n",
      "13          1.0             0.0          False            3103   \n",
      "27          1.0             2.0          False            1299   \n",
      "77          1.0             0.0          False            2963   \n",
      "80          1.0             4.0          False            4166   \n",
      "83          1.0             0.0          False            1442   \n",
      "121         1.0             4.0          False            2083   \n",
      "178         1.0             0.0          False            2600   \n",
      "295         1.0             2.0          False            4116   \n",
      "298         1.0             0.0          False            4030   \n",
      "322         2.0             0.0          False            3620   \n",
      "479         1.0             0.0           True            3459   \n",
      "515         1.0             1.0          False            1538   \n",
      "798         1.0             2.0          False            5596   \n",
      "885         1.0             0.0          False            3237   \n",
      "1020        1.0             0.0          False            3016   \n",
      "1303        1.0             0.0          False            1173   \n",
      "1327        1.0             2.0           True            2537   \n",
      "1373        1.0             0.0          False            2925   \n",
      "1448        1.0             2.0          False            1603   \n",
      "1455        1.0             0.0          False            4601   \n",
      "1458        1.0             1.0           True            8333   \n",
      "1505        1.0             0.0          False            2608   \n",
      "1543        1.0             0.0          False            6300   \n",
      "1545        1.0             0.0          False            2500   \n",
      "1631        1.0             1.0          False           13262   \n",
      "1653        2.0             2.0          False            5073   \n",
      "1677        1.0             0.0          False            3881   \n",
      "1685        1.0             0.0          False            3000   \n",
      "1701        1.0             0.0          False            1625   \n",
      "1788        1.0             1.0          False           16000   \n",
      "1789        1.0             1.0          False            5468   \n",
      "1821        1.0             0.0          False            3062   \n",
      "1825        1.0             0.0          False            3195   \n",
      "1837        1.0             0.0          False            2378   \n",
      "1846        1.0             0.0          False            1516   \n",
      "1891        1.0             0.0          False            3166   \n",
      "1906        1.0             0.0          False            4350   \n",
      "1943        2.0             0.0          False            2560   \n",
      "1976        1.0             3.0          False            4106   \n",
      "1984        1.0             0.0          False            9583   \n",
      "\n",
      "      purchase_price  liquid_assets  mortage_payment_history  \\\n",
      "13             197.0          34.00                        1   \n",
      "27              57.0          50.00                        2   \n",
      "77              95.0          21.00                        2   \n",
      "80              50.0          17.00                        3   \n",
      "83              35.0     1000000.00                        2   \n",
      "121            100.0          54.00                        2   \n",
      "178             29.0           7.00                        2   \n",
      "295            342.0         157.20                        1   \n",
      "298             25.0           6.50                        1   \n",
      "322             25.0           1.20                        1   \n",
      "479             25.0          47.52                        1   \n",
      "515             30.0           4.00                        2   \n",
      "798            275.0          46.00                        2   \n",
      "885             88.0          52.00                        2   \n",
      "1020            31.0         141.00                        2   \n",
      "1303           142.0          55.00                        1   \n",
      "1327           227.0         472.00                        2   \n",
      "1373           100.0          95.74                        1   \n",
      "1448           150.0          10.00                        2   \n",
      "1455            25.0          90.50                        1   \n",
      "1458            43.0          36.00                        2   \n",
      "1505           200.0           5.00                        2   \n",
      "1543            25.0          10.10                        1   \n",
      "1545           134.0          73.00                        2   \n",
      "1631            65.0          99.00                        2   \n",
      "1653           270.0          35.74                        2   \n",
      "1677           130.0          50.46                        1   \n",
      "1685           140.0          15.00                        2   \n",
      "1701            70.0         137.00                        2   \n",
      "1788           363.0         447.00                        1   \n",
      "1789           104.0           5.00                        2   \n",
      "1821            80.0          43.00                        1   \n",
      "1825           170.0         338.00                        2   \n",
      "1837            61.0           9.00                        1   \n",
      "1846            45.0          30.71                        2   \n",
      "1891            45.0          19.00                        1   \n",
      "1906            96.0          81.00                        2   \n",
      "1943           220.0         269.00                        2   \n",
      "1976           190.0         248.00                        1   \n",
      "1984           315.0          64.00                        1   \n",
      "\n",
      "      consumer_credit_history  filed_bankruptcy  property_type  gender  \n",
      "13                          1             False              2    male  \n",
      "27                          1             False              2    male  \n",
      "77                          1             False              1    male  \n",
      "80                          3              True              2    male  \n",
      "83                          1             False              2    male  \n",
      "121                         2             False              1  female  \n",
      "178                         2             False              1  female  \n",
      "295                         1             False              2    male  \n",
      "298                         1             False              2    male  \n",
      "322                         1             False              3    male  \n",
      "479                         1             False              2    male  \n",
      "515                         1             False              2    male  \n",
      "798                         2             False              1  female  \n",
      "885                         6             False              1  female  \n",
      "1020                        1             False              1  female  \n",
      "1303                        1             False              1    male  \n",
      "1327                        1             False              2  female  \n",
      "1373                        2             False              2    male  \n",
      "1448                        1             False              2  female  \n",
      "1455                        1             False              2    male  \n",
      "1458                        1             False              2    male  \n",
      "1505                        2             False              1  female  \n",
      "1543                        1             False              2    male  \n",
      "1545                        1             False              1  female  \n",
      "1631                        2             False              1  female  \n",
      "1653                        5             False              3    male  \n",
      "1677                        2             False              2    male  \n",
      "1685                        5             False              2    male  \n",
      "1701                        2             False              1    male  \n",
      "1788                        1             False              1    male  \n",
      "1789                        1             False              1    male  \n",
      "1821                        1             False              2    male  \n",
      "1825                        1             False              2  female  \n",
      "1837                        1             False              1  female  \n",
      "1846                        1             False              2    male  \n",
      "1891                        1             False              1  female  \n",
      "1906                        1             False              1    male  \n",
      "1943                        1             False              3    male  \n",
      "1976                        1             False              2    male  \n",
      "1984                        1             False              1    male  \n"
     ]
    }
   ],
   "source": [
    "#  Calculating the loan amount  less than 40 \n",
    "loan_amount_less = loan_application[loan_application['loan_amount'] <= 40]\n",
    "print(\"The number of times 1 occurred in the dataset is: \")\n",
    "print(loan_amount_less)"
   ]
  },
  {
   "cell_type": "code",
   "execution_count": 137,
   "metadata": {},
   "outputs": [
    {
     "name": "stdout",
     "output_type": "stream",
     "text": [
      "The number of times 1 occurred in the dataset is: \n",
      "     married   race loan_decision  occupancy  loan_amount  applicant_income  \\\n",
      "0       True  white        reject          1          128                74   \n",
      "1      False  white       approve          1          128                84   \n",
      "2       True  white       approve          1           66                36   \n",
      "3       True  white       approve          1          120                59   \n",
      "4      False  white       approve          1          111                63   \n",
      "...      ...    ...           ...        ...          ...               ...   \n",
      "1981    True  white       approve          1          187                91   \n",
      "1982   False  white       approve          1          120                46   \n",
      "1983    True  white       approve          1          158                96   \n",
      "1985    True  white       approve          2          225                49   \n",
      "1987   False  black        reject          1          133                55   \n",
      "\n",
      "      num_units  num_dependants  self_employed  monthly_income  \\\n",
      "0           1.0             1.0          False            4583   \n",
      "1           1.0             0.0          False            2666   \n",
      "2           1.0             0.0           True            3000   \n",
      "3           1.0             0.0          False            2583   \n",
      "4           1.0             0.0          False            2208   \n",
      "...         ...             ...            ...             ...   \n",
      "1981        1.0             2.0          False            7583   \n",
      "1982        1.0             0.0          False            2340   \n",
      "1983        1.0             0.0          False            5000   \n",
      "1985        2.0             0.0           True            4159   \n",
      "1987        1.0             0.0           True            4583   \n",
      "\n",
      "      purchase_price  liquid_assets  mortage_payment_history  \\\n",
      "0              160.0           52.0                        2   \n",
      "1              143.0           37.0                        2   \n",
      "2              110.0           19.0                        2   \n",
      "3              134.0           31.0                        2   \n",
      "4              138.0          169.0                        2   \n",
      "...              ...            ...                      ...   \n",
      "1981           325.0          130.0                        2   \n",
      "1982           160.0           47.0                        2   \n",
      "1983           176.0           15.0                        2   \n",
      "1985           225.0           10.0                        2   \n",
      "1987           148.0           24.5                        2   \n",
      "\n",
      "      consumer_credit_history  filed_bankruptcy  property_type  gender  \n",
      "0                           2             False              2    male  \n",
      "1                           2             False              2    male  \n",
      "2                           6              True              2    male  \n",
      "3                           1             False              1    male  \n",
      "4                           6             False              2    male  \n",
      "...                       ...               ...            ...     ...  \n",
      "1981                        1             False              2    male  \n",
      "1982                        4             False              2    male  \n",
      "1983                        1             False              2    male  \n",
      "1985                        1             False              3    male  \n",
      "1987                        3             False              2  female  \n",
      "\n",
      "[1616 rows x 17 columns]\n"
     ]
    }
   ],
   "source": [
    "# Calculating the application income less than or equal to 100\n",
    "applicant_income_less = loan_application[loan_application['applicant_income'] <= 100]\n",
    "print(\"The number of times 1 occurred in the dataset is: \")\n",
    "print(applicant_income_less)"
   ]
  },
  {
   "cell_type": "code",
   "execution_count": 138,
   "metadata": {},
   "outputs": [
    {
     "name": "stdout",
     "output_type": "stream",
     "text": [
      "The number of times 1 occurred in the dataset is: \n",
      "     married    race loan_decision  occupancy  loan_amount  applicant_income  \\\n",
      "11      True   white        reject          1          158               666   \n",
      "20      True   white       approve          1          100               666   \n",
      "34     False   black       approve          1          121               666   \n",
      "35      True   white        reject          1          133               666   \n",
      "242     True   white       approve          1           97               666   \n",
      "415     True   white       approve          1          102               666   \n",
      "425     True   black       approve          1          360               870   \n",
      "478     True   white       approve          1          101               666   \n",
      "492     True   white       approve          1          500               641   \n",
      "582     True   white       approve          1          700               621   \n",
      "657    False   white       approve          1          120               666   \n",
      "733     True   white        reject          1           60               666   \n",
      "814    False   white        reject          1          199               666   \n",
      "969     True   white       approve          1          105               666   \n",
      "1098    True   white       approve          1          490               796   \n",
      "1115   False  hispan       approve          1           78               666   \n",
      "1208    True   white       approve          1          120               666   \n",
      "1253   False   white        reject          1          187               666   \n",
      "1296    True   white       approve          1          160               666   \n",
      "1314    True   black        reject          1          360               972   \n",
      "1416    True   white       approve          1          187               666   \n",
      "1551   False   white       approve          1          122               666   \n",
      "1607    True   white        reject          1          128               666   \n",
      "1723   False   white       approve          1           70               666   \n",
      "1905    True   white       approve          1           50               666   \n",
      "1946   False   white        reject          1          350               732   \n",
      "1968    True   white       approve          1          113               666   \n",
      "\n",
      "      num_units  num_dependants  self_employed  monthly_income  \\\n",
      "11          1.0             4.0          False            3036   \n",
      "20          1.0             0.0           True            7589   \n",
      "34          1.0             0.0          False            4706   \n",
      "35          1.0             0.0          False            4887   \n",
      "242         1.0             2.0           True            1875   \n",
      "415         1.0             0.0          False            1542   \n",
      "425         1.0             3.0          False           72529   \n",
      "478         1.0             0.0          False            6250   \n",
      "492         1.0             1.0           True           46667   \n",
      "582         1.0             3.0          False           51763   \n",
      "657         1.0             0.0          False            4667   \n",
      "733         1.0             0.0          False            2221   \n",
      "814         1.0             0.0           True            8703   \n",
      "969         1.0             1.0          False            2875   \n",
      "1098        1.0             0.0          False           63337   \n",
      "1115        1.0             0.0          False            1937   \n",
      "1208        1.0             0.0          False            4817   \n",
      "1253        1.0             2.0           True            5184   \n",
      "1296        1.0             3.0          False            9955   \n",
      "1314        1.0             3.0          False           81000   \n",
      "1416        1.0             2.0          False            7070   \n",
      "1551        1.0             0.0          False            2166   \n",
      "1607        1.0             1.0          False            1792   \n",
      "1723        1.0             0.0          False            5870   \n",
      "1905        1.0             1.0          False            5200   \n",
      "1946        1.0             4.0          False             416   \n",
      "1968        1.0             3.0           True            4009   \n",
      "\n",
      "      purchase_price  liquid_assets  mortage_payment_history  \\\n",
      "11             210.0         188.00                        2   \n",
      "20             208.0         347.00                        3   \n",
      "34             161.0          46.00                        2   \n",
      "35             118.0          63.00                        2   \n",
      "242            137.0          72.00                        2   \n",
      "415            128.0          43.00                        1   \n",
      "425            450.0          43.00                        4   \n",
      "478            112.0          12.00                        2   \n",
      "492            825.0        1687.00                        1   \n",
      "582           1345.0         814.00                        1   \n",
      "657            179.0          89.00                        2   \n",
      "733            120.0          14.60                        2   \n",
      "814            250.0          51.00                        1   \n",
      "969            165.0          90.00                        2   \n",
      "1098          1535.0        1600.00                        2   \n",
      "1115            86.0          10.00                        2   \n",
      "1208           162.0         783.00                        2   \n",
      "1253           260.0          83.00                        2   \n",
      "1296           270.0          24.00                        1   \n",
      "1314           450.0        2020.00                        4   \n",
      "1416           268.0          32.00                        1   \n",
      "1551           153.0          29.00                        2   \n",
      "1607           135.0          11.82                        2   \n",
      "1723            95.0         196.00                        1   \n",
      "1905           175.0         201.00                        2   \n",
      "1946           440.0          47.00                        2   \n",
      "1968           150.0          54.00                        2   \n",
      "\n",
      "      consumer_credit_history  filed_bankruptcy  property_type  gender  \n",
      "11                          6              True              1    male  \n",
      "20                          4             False              1  female  \n",
      "34                          1             False              1  female  \n",
      "35                          1             False              2    male  \n",
      "242                         2             False              2    male  \n",
      "415                         1              True              2  female  \n",
      "425                         6             False              2    male  \n",
      "478                         1             False              1    male  \n",
      "492                         1             False              2    male  \n",
      "582                         3             False              2    male  \n",
      "657                         1             False              1    male  \n",
      "733                         6              True              2    male  \n",
      "814                         2             False              2    male  \n",
      "969                         1             False              2    male  \n",
      "1098                        5             False              2    male  \n",
      "1115                        1             False              1  female  \n",
      "1208                        1             False              2    male  \n",
      "1253                        5             False              2  female  \n",
      "1296                        1             False              2    male  \n",
      "1314                        6              True              2    male  \n",
      "1416                        1             False              2    male  \n",
      "1551                        5             False              2    male  \n",
      "1607                        2             False              2    male  \n",
      "1723                        3             False              1    male  \n",
      "1905                        1             False              1    male  \n",
      "1946                        3              True              2  female  \n",
      "1968                        1             False              2    male  \n"
     ]
    }
   ],
   "source": [
    "#  Calculating the application income equal to 500 or greater than 500\n",
    "applicant_income_less = loan_application[loan_application['applicant_income'] >= 500]\n",
    "print(\"The number of times 1 occurred in the dataset is: \")\n",
    "print(applicant_income_less)\n"
   ]
  },
  {
   "cell_type": "code",
   "execution_count": 139,
   "metadata": {},
   "outputs": [
    {
     "name": "stdout",
     "output_type": "stream",
     "text": [
      "The average value of the applicant income is: 84.6841046277666\n"
     ]
    }
   ],
   "source": [
    "# Calculating the average value of the  application income\n",
    "applicant_income_mean = loan_application['applicant_income'].mean()\n",
    "print(\"The average value of the applicant income is:\", applicant_income_mean)\n"
   ]
  },
  {
   "cell_type": "code",
   "execution_count": 140,
   "metadata": {},
   "outputs": [
    {
     "name": "stdout",
     "output_type": "stream",
     "text": [
      "The average value of the monthly income is: 5195.220824949698\n"
     ]
    }
   ],
   "source": [
    "#  Calculating the average value of the  monthly income \n",
    "monthly_income_mean = loan_application['monthly_income'].mean()\n",
    "print(\"The average value of the monthly income is:\", monthly_income_mean)"
   ]
  },
  {
   "cell_type": "code",
   "execution_count": 141,
   "metadata": {},
   "outputs": [
    {
     "name": "stdout",
     "output_type": "stream",
     "text": [
      "The number of times 1 occurred in the dataset is: \n",
      "     married   race loan_decision  occupancy  loan_amount  applicant_income  \\\n",
      "150    False  white        reject          1          148               288   \n",
      "604    False  black        reject          1          180                30   \n",
      "703    False  white       approve          1          160                81   \n",
      "1555    True  white       approve          1          138                46   \n",
      "\n",
      "      num_units  num_dependants  self_employed  monthly_income  \\\n",
      "150         1.0             0.0          False               0   \n",
      "604         3.0             0.0          False               0   \n",
      "703         4.0             0.0           True               0   \n",
      "1555        1.0             1.0          False               0   \n",
      "\n",
      "      purchase_price  liquid_assets  mortage_payment_history  \\\n",
      "150            185.0          151.0                        3   \n",
      "604            200.0            5.0                        2   \n",
      "703            200.0           21.0                        1   \n",
      "1555           157.0           41.0                        2   \n",
      "\n",
      "      consumer_credit_history  filed_bankruptcy  property_type  gender  \n",
      "150                         6             False              2    male  \n",
      "604                         4              True              3  female  \n",
      "703                         5             False              3    male  \n",
      "1555                        1             False              2  female  \n"
     ]
    }
   ],
   "source": [
    "# Calculating the monthly income less than or equal to 100\n",
    "monthly_income_less = loan_application[loan_application['monthly_income'] <= 100]\n",
    "print(\"The number of times 1 occurred in the dataset is: \")\n",
    "print(monthly_income_less)"
   ]
  },
  {
   "cell_type": "code",
   "execution_count": 142,
   "metadata": {},
   "outputs": [
    {
     "name": "stdout",
     "output_type": "stream",
     "text": [
      "The number of times 1 occurred in the dataset is: \n",
      "     married   race loan_decision  occupancy  loan_amount  applicant_income  \\\n",
      "5      False  white       approve          1          141                72   \n",
      "6      False  white       approve          1          276                90   \n",
      "8       True  white       approve          1          267               144   \n",
      "9       True  white       approve          1          175                97   \n",
      "12      True  white       approve          1          110                60   \n",
      "...      ...    ...           ...        ...          ...               ...   \n",
      "1980    True  white       approve          1          253                90   \n",
      "1981    True  white       approve          1          187                91   \n",
      "1983    True  white       approve          1          158                96   \n",
      "1984    True  white       approve          1           35               169   \n",
      "1986   False  white       approve          1           98               110   \n",
      "\n",
      "      num_units  num_dependants  self_employed  monthly_income  \\\n",
      "5           1.0             0.0          False            6000   \n",
      "6           1.0             0.0          False            7500   \n",
      "8           1.0             2.0           True            5417   \n",
      "9           1.0             0.0          False            6292   \n",
      "12          1.0             0.0          False            5720   \n",
      "...         ...             ...            ...             ...   \n",
      "1980        1.0             1.0          False            8072   \n",
      "1981        1.0             2.0          False            7583   \n",
      "1983        1.0             0.0          False            5000   \n",
      "1984        1.0             0.0          False            9583   \n",
      "1986        1.0             0.0           True            9200   \n",
      "\n",
      "      purchase_price  liquid_assets  mortage_payment_history  \\\n",
      "5              157.0           38.0                        2   \n",
      "6              346.0          142.0                        2   \n",
      "8              422.0          111.0                        1   \n",
      "9              346.7          186.6                        1   \n",
      "12             143.0          153.0                        1   \n",
      "...              ...            ...                      ...   \n",
      "1980           316.0           70.0                        1   \n",
      "1981           325.0          130.0                        2   \n",
      "1983           176.0           15.0                        2   \n",
      "1984           315.0           64.0                        1   \n",
      "1986           215.0          427.9                        1   \n",
      "\n",
      "      consumer_credit_history  filed_bankruptcy  property_type gender  \n",
      "5                           1             False              1   male  \n",
      "6                           1             False              2   male  \n",
      "8                           1             False              2   male  \n",
      "9                           2             False              2   male  \n",
      "12                          3             False              2   male  \n",
      "...                       ...               ...            ...    ...  \n",
      "1980                        1             False              2   male  \n",
      "1981                        1             False              2   male  \n",
      "1983                        1             False              2   male  \n",
      "1984                        1             False              1   male  \n",
      "1986                        1             False              1   male  \n",
      "\n",
      "[617 rows x 17 columns]\n"
     ]
    }
   ],
   "source": [
    "#  Calculating the monthly income equal to 500 and greater than 1000\n",
    "monthly_income_less = loan_application[loan_application['monthly_income'] >= 5000]\n",
    "print(\"The number of times 1 occurred in the dataset is: \")\n",
    "print(monthly_income_less)"
   ]
  },
  {
   "cell_type": "code",
   "execution_count": 143,
   "metadata": {},
   "outputs": [
    {
     "name": "stdout",
     "output_type": "stream",
     "text": [
      "The average value of the purchase price is: 196.30408802816902\n"
     ]
    }
   ],
   "source": [
    "#  Calculating the average value of the  purchase price\n",
    "purchase_price_mean = loan_application['purchase_price'].mean()\n",
    "print(\"The average value of the purchase price is:\", purchase_price_mean)"
   ]
  },
  {
   "cell_type": "code",
   "execution_count": 144,
   "metadata": {},
   "outputs": [
    {
     "name": "stdout",
     "output_type": "stream",
     "text": [
      "The number of times 1 occurred in the dataset is: \n"
     ]
    }
   ],
   "source": [
    "#  Calculating the purchase price less than or equal to 100\n",
    "purchase_price_less = loan_application[loan_application['purchase_price'] <= 100]\n",
    "print(\"The number of times 1 occurred in the dataset is: \")"
   ]
  },
  {
   "cell_type": "code",
   "execution_count": 145,
   "metadata": {},
   "outputs": [
    {
     "name": "stdout",
     "output_type": "stream",
     "text": [
      "The maximum number of the purchase price is: 1535.0\n",
      "The minimum number of the purchase price is: 25.0\n"
     ]
    }
   ],
   "source": [
    "#  Calculating the  maximum number and  minimum number of the purchase price\n",
    "purchase_price_max = loan_application['purchase_price'].max()\n",
    "print(\"The maximum number of the purchase price is:\", purchase_price_max)\n",
    "\n",
    "purchase_price_min = loan_application['purchase_price'].min()\n",
    "print(\"The minimum number of the purchase price is:\", purchase_price_min)\n"
   ]
  },
  {
   "cell_type": "code",
   "execution_count": 146,
   "metadata": {},
   "outputs": [
    {
     "name": "stdout",
     "output_type": "stream",
     "text": [
      "The value count of the purchase price is: 125.0     44\n",
      "150.0     43\n",
      "160.0     40\n",
      "140.0     39\n",
      "120.0     36\n",
      "          ..\n",
      "92.0       1\n",
      "1010.0     1\n",
      "331.0      1\n",
      "358.0      1\n",
      "316.0      1\n",
      "Name: purchase_price, Length: 458, dtype: int64\n"
     ]
    }
   ],
   "source": [
    "# Calculating the value count of the purchase price\n",
    "purchase_price_count = loan_application['purchase_price'].value_counts()\n",
    "print(\"The value count of the purchase price is:\", purchase_price_count)\n"
   ]
  },
  {
   "cell_type": "markdown",
   "metadata": {},
   "source": [
    "## Quartiles:\n",
    "### Determine quartiles, such as the first quartile (25th percentile), second quartile (50th percentile or median), and third quartile (75th percentile). Quartiles help identify the spread and distribution of the data, particularly in box plots or when assessing the skewness of a variable.\n"
   ]
  },
  {
   "cell_type": "code",
   "execution_count": 147,
   "metadata": {},
   "outputs": [
    {
     "name": "stdout",
     "output_type": "stream",
     "text": [
      "The quantiles of the loan amount is:\n",
      "0.25    100.0\n",
      "0.50    126.0\n",
      "0.75    165.0\n",
      "Name: loan_amount, dtype: float64\n",
      "The interquartile range of the loan amount is: 65.0\n"
     ]
    }
   ],
   "source": [
    "#  Calculating the quantiles for the loan amount\n",
    "loan_amount_quantiles = loan_application['loan_amount'].quantile([0.25,0.5,0.75])\n",
    "print(\"The quantiles of the loan amount is:\")\n",
    "print(loan_amount_quantiles)\n",
    "\n",
    "#  Calculating the interquartile range for the loan amount\n",
    "loan_amount_iqr = loan_amount_quantiles[0.75] - loan_amount_quantiles[0.25]\n",
    "print(\"The interquartile range of the loan amount is:\", loan_amount_iqr)\n"
   ]
  },
  {
   "cell_type": "code",
   "execution_count": 148,
   "metadata": {},
   "outputs": [
    {
     "name": "stdout",
     "output_type": "stream",
     "text": [
      "The quantiles of the applicant income is:\n",
      "0.25    48.0\n",
      "0.50    64.0\n",
      "0.75    88.0\n",
      "Name: applicant_income, dtype: float64\n",
      "The interquartile range of the applicant income is: 40.0\n"
     ]
    }
   ],
   "source": [
    "#  Calculating the quantiles for the applicant income\n",
    "applicant_income_quantiles = loan_application['applicant_income'].quantile([0.25,0.5,0.75])\n",
    "print(\"The quantiles of the applicant income is:\")\n",
    "print(applicant_income_quantiles)\n",
    "\n",
    "#  Calculating the interquartile range for the applicant income\n",
    "applicant_income_iqr = applicant_income_quantiles[0.75] - applicant_income_quantiles[0.25]\n",
    "print(\"The interquartile range of the applicant income is:\", applicant_income_iqr)\n"
   ]
  },
  {
   "cell_type": "code",
   "execution_count": 149,
   "metadata": {},
   "outputs": [
    {
     "name": "stdout",
     "output_type": "stream",
     "text": [
      "The quantiles of the monthly income is:\n",
      "0.25    2875.75\n",
      "0.50    3812.50\n",
      "0.75    5594.50\n",
      "Name: monthly_income, dtype: float64\n",
      "The interquartile range of the monthly income is: 2718.75\n"
     ]
    }
   ],
   "source": [
    "#  Calculating the quantiles for the monthly income\n",
    "monthly_income_quantiles = loan_application['monthly_income'].quantile([0.25,0.5,0.75])\n",
    "print(\"The quantiles of the monthly income is:\")\n",
    "print(monthly_income_quantiles)\n",
    "\n",
    "#  Calculating the interquartile range for the monthly income\n",
    "monthly_income_iqr = monthly_income_quantiles[0.75] - monthly_income_quantiles[0.25]\n",
    "print(\"The interquartile range of the monthly income is:\", monthly_income_iqr)\n"
   ]
  },
  {
   "cell_type": "code",
   "execution_count": 150,
   "metadata": {},
   "outputs": [
    {
     "name": "stdout",
     "output_type": "stream",
     "text": [
      "The quantiles of the purchase price is:\n",
      "0.25    129.0\n",
      "0.50    163.0\n",
      "0.75    225.0\n",
      "Name: purchase_price, dtype: float64\n",
      "The interquartile range of the purchase price is: 96.0\n"
     ]
    }
   ],
   "source": [
    "#  Calculating the quantiles for the purchase price\n",
    "purchase_price_quantiles = loan_application['purchase_price'].quantile([0.25,0.5,0.75])\n",
    "print(\"The quantiles of the purchase price is:\")\n",
    "print(purchase_price_quantiles)\n",
    "\n",
    "#  Calculating the interquartile range for the purchase price\n",
    "purchase_price_iqr = purchase_price_quantiles[0.75] - purchase_price_quantiles[0.25]\n",
    "print(\"The interquartile range of the purchase price is:\", purchase_price_iqr)\n",
    "\n"
   ]
  },
  {
   "cell_type": "code",
   "execution_count": 151,
   "metadata": {},
   "outputs": [
    {
     "name": "stdout",
     "output_type": "stream",
     "text": [
      "The number of rejected loans in the dataset is: \n",
      "     married   race loan_decision  occupancy  loan_amount  applicant_income  \\\n",
      "1      False  white       approve          1          128                84   \n",
      "2       True  white       approve          1           66                36   \n",
      "3       True  white       approve          1          120                59   \n",
      "4      False  white       approve          1          111                63   \n",
      "5      False  white       approve          1          141                72   \n",
      "...      ...    ...           ...        ...          ...               ...   \n",
      "1982   False  white       approve          1          120                46   \n",
      "1983    True  white       approve          1          158                96   \n",
      "1984    True  white       approve          1           35               169   \n",
      "1985    True  white       approve          2          225                49   \n",
      "1986   False  white       approve          1           98               110   \n",
      "\n",
      "      num_units  num_dependants  self_employed  monthly_income  \\\n",
      "1           1.0             0.0          False            2666   \n",
      "2           1.0             0.0           True            3000   \n",
      "3           1.0             0.0          False            2583   \n",
      "4           1.0             0.0          False            2208   \n",
      "5           1.0             0.0          False            6000   \n",
      "...         ...             ...            ...             ...   \n",
      "1982        1.0             0.0          False            2340   \n",
      "1983        1.0             0.0          False            5000   \n",
      "1984        1.0             0.0          False            9583   \n",
      "1985        2.0             0.0           True            4159   \n",
      "1986        1.0             0.0           True            9200   \n",
      "\n",
      "      purchase_price  liquid_assets  mortage_payment_history  \\\n",
      "1              143.0           37.0                        2   \n",
      "2              110.0           19.0                        2   \n",
      "3              134.0           31.0                        2   \n",
      "4              138.0          169.0                        2   \n",
      "5              157.0           38.0                        2   \n",
      "...              ...            ...                      ...   \n",
      "1982           160.0           47.0                        2   \n",
      "1983           176.0           15.0                        2   \n",
      "1984           315.0           64.0                        1   \n",
      "1985           225.0           10.0                        2   \n",
      "1986           215.0          427.9                        1   \n",
      "\n",
      "      consumer_credit_history  filed_bankruptcy  property_type gender  \n",
      "1                           2             False              2   male  \n",
      "2                           6              True              2   male  \n",
      "3                           1             False              1   male  \n",
      "4                           6             False              2   male  \n",
      "5                           1             False              1   male  \n",
      "...                       ...               ...            ...    ...  \n",
      "1982                        4             False              2   male  \n",
      "1983                        1             False              2   male  \n",
      "1984                        1             False              1   male  \n",
      "1985                        1             False              3   male  \n",
      "1986                        1             False              1   male  \n",
      "\n",
      "[1744 rows x 17 columns]\n"
     ]
    }
   ],
   "source": [
    "#  rejected loans from the dataset\n",
    "rejected_loans = loan_application[loan_application['loan_decision'] == \"approve\"]\n",
    "print(\"The number of rejected loans in the dataset is: \")\n",
    "print(rejected_loans)"
   ]
  },
  {
   "cell_type": "code",
   "execution_count": 152,
   "metadata": {},
   "outputs": [
    {
     "name": "stdout",
     "output_type": "stream",
     "text": [
      "The unique values of the loan decision column is:  ['reject' 'approve']\n"
     ]
    }
   ],
   "source": [
    "#  Calculate the unique values of the loan_decision column\n",
    "loan_decision = loan_application['loan_decision'].unique()\n",
    "print(\"The unique values of the loan decision column is: \", loan_decision)"
   ]
  },
  {
   "cell_type": "code",
   "execution_count": 153,
   "metadata": {},
   "outputs": [
    {
     "name": "stdout",
     "output_type": "stream",
     "text": [
      "The number of approved loans in the dataset is: \n",
      "     married   race loan_decision  occupancy  loan_amount  applicant_income  \\\n",
      "0       True  white        reject          1          128                74   \n",
      "11      True  white        reject          1          158               666   \n",
      "26     False  white        reject          1          114                56   \n",
      "33     False  black        reject          1           76                42   \n",
      "35      True  white        reject          1          133               666   \n",
      "...      ...    ...           ...        ...          ...               ...   \n",
      "1940   False  white        reject          1           88                68   \n",
      "1946   False  white        reject          1          350               732   \n",
      "1951    True  white        reject          1           76                38   \n",
      "1959   False  black        reject          1          152                79   \n",
      "1987   False  black        reject          1          133                55   \n",
      "\n",
      "      num_units  num_dependants  self_employed  monthly_income  \\\n",
      "0           1.0             1.0          False            4583   \n",
      "11          1.0             4.0          False            3036   \n",
      "26          1.0             0.0          False            1853   \n",
      "33          1.0             0.0          False            3510   \n",
      "35          1.0             0.0          False            4887   \n",
      "...         ...             ...            ...             ...   \n",
      "1940        1.0             0.0          False            2987   \n",
      "1946        1.0             4.0          False             416   \n",
      "1951        1.0             2.0          False            3132   \n",
      "1959        1.0             0.0          False            4000   \n",
      "1987        1.0             0.0           True            4583   \n",
      "\n",
      "      purchase_price  liquid_assets  mortage_payment_history  \\\n",
      "0              160.0           52.0                        2   \n",
      "11             210.0          188.0                        2   \n",
      "26             120.0           14.0                        2   \n",
      "33              80.0            8.0                        2   \n",
      "35             118.0           63.0                        2   \n",
      "...              ...            ...                      ...   \n",
      "1940            97.5            5.7                        2   \n",
      "1946           440.0           47.0                        2   \n",
      "1951            80.0           10.0                        2   \n",
      "1959           190.0           39.0                        2   \n",
      "1987           148.0           24.5                        2   \n",
      "\n",
      "      consumer_credit_history  filed_bankruptcy  property_type  gender  \n",
      "0                           2             False              2    male  \n",
      "11                          6              True              1    male  \n",
      "26                          1             False              2    male  \n",
      "33                          6             False              2  female  \n",
      "35                          1             False              2    male  \n",
      "...                       ...               ...            ...     ...  \n",
      "1940                        2             False              1    male  \n",
      "1946                        3              True              2  female  \n",
      "1951                        2              True              2    male  \n",
      "1959                        1             False              2    male  \n",
      "1987                        3             False              2  female  \n",
      "\n",
      "[244 rows x 17 columns]\n"
     ]
    }
   ],
   "source": [
    "#  approved loans from the dataset\n",
    "approved_loans = loan_application[loan_application['loan_decision'] == \"reject\"]\n",
    "print(\"The number of approved loans in the dataset is: \")\n",
    "print(approved_loans)"
   ]
  },
  {
   "cell_type": "code",
   "execution_count": 154,
   "metadata": {},
   "outputs": [
    {
     "name": "stdout",
     "output_type": "stream",
     "text": [
      "The number of black employees in the dataset is: \n",
      "     married   race loan_decision  occupancy  loan_amount  applicant_income  \\\n",
      "14      True  black       approve          1           70                33   \n",
      "25      True  black       approve          1          200               117   \n",
      "33     False  black        reject          1           76                42   \n",
      "34     False  black       approve          1          121               666   \n",
      "44      True  black        reject          1          116                62   \n",
      "...      ...    ...           ...        ...          ...               ...   \n",
      "1948    True  black       approve          1          103                48   \n",
      "1957    True  black       approve          1           60                74   \n",
      "1959   False  black        reject          1          152                79   \n",
      "1964    True  black       approve          1          120                75   \n",
      "1987   False  black        reject          1          133                55   \n",
      "\n",
      "      num_units  num_dependants  self_employed  monthly_income  \\\n",
      "14          1.0             1.0           True            2800   \n",
      "25          1.0             2.0          False            3073   \n",
      "33          1.0             0.0          False            3510   \n",
      "34          1.0             0.0          False            4706   \n",
      "44          1.0             0.0          False            2600   \n",
      "...         ...             ...            ...             ...   \n",
      "1948        1.0             1.0          False            2872   \n",
      "1957        1.0             0.0          False            2400   \n",
      "1959        1.0             0.0          False            4000   \n",
      "1964        1.0             1.0          False            3304   \n",
      "1987        1.0             0.0           True            4583   \n",
      "\n",
      "      purchase_price  liquid_assets  mortage_payment_history  \\\n",
      "14              78.0           10.0                        2   \n",
      "25             250.0           83.5                        1   \n",
      "33              80.0            8.0                        2   \n",
      "34             161.0           46.0                        2   \n",
      "44             145.0            1.0                        2   \n",
      "...              ...            ...                      ...   \n",
      "1948           127.0           12.0                        2   \n",
      "1957           207.0          112.7                        2   \n",
      "1959           190.0           39.0                        2   \n",
      "1964           120.0          252.5                        1   \n",
      "1987           148.0           24.5                        2   \n",
      "\n",
      "      consumer_credit_history  filed_bankruptcy  property_type  gender  \n",
      "14                          1             False              1    male  \n",
      "25                          5             False              2    male  \n",
      "33                          6             False              2  female  \n",
      "34                          1             False              1  female  \n",
      "44                          4             False              2    male  \n",
      "...                       ...               ...            ...     ...  \n",
      "1948                        5             False              1    male  \n",
      "1957                        1             False              1    male  \n",
      "1959                        1             False              2    male  \n",
      "1964                        2             False              2    male  \n",
      "1987                        3             False              2  female  \n",
      "\n",
      "[197 rows x 17 columns]\n"
     ]
    }
   ],
   "source": [
    "#  the race of employees that are black and white\n",
    "black_ones = loan_application [loan_application [\"race\"] == \"black\" ]\n",
    "print(\"The number of black employees in the dataset is: \")\n",
    "print(black_ones)\n"
   ]
  },
  {
   "cell_type": "code",
   "execution_count": 155,
   "metadata": {},
   "outputs": [
    {
     "name": "stdout",
     "output_type": "stream",
     "text": [
      "The number of white employees in the dataset is: \n",
      "     married   race loan_decision  occupancy  loan_amount  applicant_income  \\\n",
      "0       True  white        reject          1          128                74   \n",
      "1      False  white       approve          1          128                84   \n",
      "2       True  white       approve          1           66                36   \n",
      "3       True  white       approve          1          120                59   \n",
      "4      False  white       approve          1          111                63   \n",
      "...      ...    ...           ...        ...          ...               ...   \n",
      "1982   False  white       approve          1          120                46   \n",
      "1983    True  white       approve          1          158                96   \n",
      "1984    True  white       approve          1           35               169   \n",
      "1985    True  white       approve          2          225                49   \n",
      "1986   False  white       approve          1           98               110   \n",
      "\n",
      "      num_units  num_dependants  self_employed  monthly_income  \\\n",
      "0           1.0             1.0          False            4583   \n",
      "1           1.0             0.0          False            2666   \n",
      "2           1.0             0.0           True            3000   \n",
      "3           1.0             0.0          False            2583   \n",
      "4           1.0             0.0          False            2208   \n",
      "...         ...             ...            ...             ...   \n",
      "1982        1.0             0.0          False            2340   \n",
      "1983        1.0             0.0          False            5000   \n",
      "1984        1.0             0.0          False            9583   \n",
      "1985        2.0             0.0           True            4159   \n",
      "1986        1.0             0.0           True            9200   \n",
      "\n",
      "      purchase_price  liquid_assets  mortage_payment_history  \\\n",
      "0              160.0           52.0                        2   \n",
      "1              143.0           37.0                        2   \n",
      "2              110.0           19.0                        2   \n",
      "3              134.0           31.0                        2   \n",
      "4              138.0          169.0                        2   \n",
      "...              ...            ...                      ...   \n",
      "1982           160.0           47.0                        2   \n",
      "1983           176.0           15.0                        2   \n",
      "1984           315.0           64.0                        1   \n",
      "1985           225.0           10.0                        2   \n",
      "1986           215.0          427.9                        1   \n",
      "\n",
      "      consumer_credit_history  filed_bankruptcy  property_type gender  \n",
      "0                           2             False              2   male  \n",
      "1                           2             False              2   male  \n",
      "2                           6              True              2   male  \n",
      "3                           1             False              1   male  \n",
      "4                           6             False              2   male  \n",
      "...                       ...               ...            ...    ...  \n",
      "1982                        4             False              2   male  \n",
      "1983                        1             False              2   male  \n",
      "1984                        1             False              1   male  \n",
      "1985                        1             False              3   male  \n",
      "1986                        1             False              1   male  \n",
      "\n",
      "[1680 rows x 17 columns]\n"
     ]
    }
   ],
   "source": [
    "#Calculating the race of employees that are white\n",
    "white_ones = loan_application[loan_application [\"race\"] == \"white\"]\n",
    "print(\"The number of white employees in the dataset is: \")\n",
    "print(white_ones)"
   ]
  },
  {
   "cell_type": "code",
   "execution_count": 156,
   "metadata": {},
   "outputs": [
    {
     "name": "stdout",
     "output_type": "stream",
     "text": [
      "The unique values of the married column is:  [True False nan]\n"
     ]
    }
   ],
   "source": [
    "#  Calculate the unique values of the  married column\n",
    "married = loan_application['married'].unique()\n",
    "print(\"The unique values of the married column is: \", married)"
   ]
  },
  {
   "cell_type": "code",
   "execution_count": 157,
   "metadata": {},
   "outputs": [
    {
     "name": "stdout",
     "output_type": "stream",
     "text": [
      "The number of married employees in the dataset is: \n",
      "     married   race loan_decision  occupancy  loan_amount  applicant_income  \\\n",
      "0       True  white        reject          1          128                74   \n",
      "2       True  white       approve          1           66                36   \n",
      "3       True  white       approve          1          120                59   \n",
      "7       True  white       approve          1          100                72   \n",
      "8       True  white       approve          1          267               144   \n",
      "...      ...    ...           ...        ...          ...               ...   \n",
      "1980    True  white       approve          1          253                90   \n",
      "1981    True  white       approve          1          187                91   \n",
      "1983    True  white       approve          1          158                96   \n",
      "1984    True  white       approve          1           35               169   \n",
      "1985    True  white       approve          2          225                49   \n",
      "\n",
      "      num_units  num_dependants  self_employed  monthly_income  \\\n",
      "0           1.0             1.0          False            4583   \n",
      "2           1.0             0.0           True            3000   \n",
      "3           1.0             0.0          False            2583   \n",
      "7           1.0             1.0          False            3234   \n",
      "8           1.0             2.0           True            5417   \n",
      "...         ...             ...            ...             ...   \n",
      "1980        1.0             1.0          False            8072   \n",
      "1981        1.0             2.0          False            7583   \n",
      "1983        1.0             0.0          False            5000   \n",
      "1984        1.0             0.0          False            9583   \n",
      "1985        2.0             0.0           True            4159   \n",
      "\n",
      "      purchase_price  liquid_assets  mortage_payment_history  \\\n",
      "0              160.0           52.0                        2   \n",
      "2              110.0           19.0                        2   \n",
      "3              134.0           31.0                        2   \n",
      "7               99.7           24.5                        2   \n",
      "8              422.0          111.0                        1   \n",
      "...              ...            ...                      ...   \n",
      "1980           316.0           70.0                        1   \n",
      "1981           325.0          130.0                        2   \n",
      "1983           176.0           15.0                        2   \n",
      "1984           315.0           64.0                        1   \n",
      "1985           225.0           10.0                        2   \n",
      "\n",
      "      consumer_credit_history  filed_bankruptcy  property_type gender  \n",
      "0                           2             False              2   male  \n",
      "2                           6              True              2   male  \n",
      "3                           1             False              1   male  \n",
      "7                           1             False              2   male  \n",
      "8                           1             False              2   male  \n",
      "...                       ...               ...            ...    ...  \n",
      "1980                        1             False              2   male  \n",
      "1981                        1             False              2   male  \n",
      "1983                        1             False              2   male  \n",
      "1984                        1             False              1   male  \n",
      "1985                        1             False              3   male  \n",
      "\n",
      "[1308 rows x 17 columns]\n"
     ]
    }
   ],
   "source": [
    "#Calculating the married employees that are true\n",
    "married_ones = loan_application[loan_application [\"married\"] == True ]\n",
    "print(\"The number of married employees in the dataset is: \")\n",
    "print(married_ones)\n",
    "\n",
    "\n"
   ]
  },
  {
   "cell_type": "code",
   "execution_count": 158,
   "metadata": {},
   "outputs": [
    {
     "name": "stdout",
     "output_type": "stream",
     "text": [
      "The number of married employees in the dataset is: \n",
      "     married    race loan_decision  occupancy  loan_amount  applicant_income  \\\n",
      "1      False   white       approve          1          128                84   \n",
      "4      False   white       approve          1          111                63   \n",
      "5      False   white       approve          1          141                72   \n",
      "6      False   white       approve          1          276                90   \n",
      "23     False   white       approve          1          130               135   \n",
      "...      ...     ...           ...        ...          ...               ...   \n",
      "1978   False   white       approve          1          104                49   \n",
      "1979   False  hispan       approve          1          104                42   \n",
      "1982   False   white       approve          1          120                46   \n",
      "1986   False   white       approve          1           98               110   \n",
      "1987   False   black        reject          1          133                55   \n",
      "\n",
      "      num_units  num_dependants  self_employed  monthly_income  \\\n",
      "1           1.0             0.0          False            2666   \n",
      "4           1.0             0.0          False            2208   \n",
      "5           1.0             0.0          False            6000   \n",
      "6           1.0             0.0          False            7500   \n",
      "23          1.0             0.0          False           11283   \n",
      "...         ...             ...            ...             ...   \n",
      "1978        1.0             0.0          False            3333   \n",
      "1979        1.0             0.0          False            3857   \n",
      "1982        1.0             0.0          False            2340   \n",
      "1986        1.0             0.0           True            9200   \n",
      "1987        1.0             0.0           True            4583   \n",
      "\n",
      "      purchase_price  liquid_assets  mortage_payment_history  \\\n",
      "1              143.0           37.0                        2   \n",
      "4              138.0          169.0                        2   \n",
      "5              157.0           38.0                        2   \n",
      "6              346.0          142.0                        2   \n",
      "23             230.0          124.0                        2   \n",
      "...              ...            ...                      ...   \n",
      "1978           116.0           12.4                        2   \n",
      "1979           116.0           19.4                        2   \n",
      "1982           160.0           47.0                        2   \n",
      "1986           215.0          427.9                        1   \n",
      "1987           148.0           24.5                        2   \n",
      "\n",
      "      consumer_credit_history  filed_bankruptcy  property_type  gender  \n",
      "1                           2             False              2    male  \n",
      "4                           6             False              2    male  \n",
      "5                           1             False              1    male  \n",
      "6                           1             False              2    male  \n",
      "23                          1             False              2    male  \n",
      "...                       ...               ...            ...     ...  \n",
      "1978                        3             False              1    male  \n",
      "1979                        5             False              1    male  \n",
      "1982                        4             False              2    male  \n",
      "1986                        1             False              1    male  \n",
      "1987                        3             False              2  female  \n",
      "\n",
      "[677 rows x 17 columns]\n"
     ]
    }
   ],
   "source": [
    "#Calculating  the married employees that are false\n",
    "married_ones = loan_application[loan_application [\"married\"] == False ]\n",
    "print(\"The number of married employees in the dataset is: \")\n",
    "print(married_ones)"
   ]
  },
  {
   "cell_type": "code",
   "execution_count": 159,
   "metadata": {},
   "outputs": [
    {
     "name": "stdout",
     "output_type": "stream",
     "text": [
      "The number of times 1 occurred in the dataset is: \n",
      "     married   race loan_decision  occupancy  loan_amount  applicant_income  \\\n",
      "0       True  white        reject          1          128                74   \n",
      "1      False  white       approve          1          128                84   \n",
      "2       True  white       approve          1           66                36   \n",
      "3       True  white       approve          1          120                59   \n",
      "4      False  white       approve          1          111                63   \n",
      "...      ...    ...           ...        ...          ...               ...   \n",
      "1983    True  white       approve          1          158                96   \n",
      "1984    True  white       approve          1           35               169   \n",
      "1985    True  white       approve          2          225                49   \n",
      "1986   False  white       approve          1           98               110   \n",
      "1987   False  black        reject          1          133                55   \n",
      "\n",
      "      num_units  num_dependants  self_employed  monthly_income  \\\n",
      "0           1.0             1.0          False            4583   \n",
      "1           1.0             0.0          False            2666   \n",
      "2           1.0             0.0           True            3000   \n",
      "3           1.0             0.0          False            2583   \n",
      "4           1.0             0.0          False            2208   \n",
      "...         ...             ...            ...             ...   \n",
      "1983        1.0             0.0          False            5000   \n",
      "1984        1.0             0.0          False            9583   \n",
      "1985        2.0             0.0           True            4159   \n",
      "1986        1.0             0.0           True            9200   \n",
      "1987        1.0             0.0           True            4583   \n",
      "\n",
      "      purchase_price  liquid_assets  mortage_payment_history  \\\n",
      "0              160.0           52.0                        2   \n",
      "1              143.0           37.0                        2   \n",
      "2              110.0           19.0                        2   \n",
      "3              134.0           31.0                        2   \n",
      "4              138.0          169.0                        2   \n",
      "...              ...            ...                      ...   \n",
      "1983           176.0           15.0                        2   \n",
      "1984           315.0           64.0                        1   \n",
      "1985           225.0           10.0                        2   \n",
      "1986           215.0          427.9                        1   \n",
      "1987           148.0           24.5                        2   \n",
      "\n",
      "      consumer_credit_history  filed_bankruptcy  property_type  gender  \n",
      "0                           2             False              2    male  \n",
      "1                           2             False              2    male  \n",
      "2                           6              True              2    male  \n",
      "3                           1             False              1    male  \n",
      "4                           6             False              2    male  \n",
      "...                       ...               ...            ...     ...  \n",
      "1983                        1             False              2    male  \n",
      "1984                        1             False              1    male  \n",
      "1985                        1             False              3    male  \n",
      "1986                        1             False              1    male  \n",
      "1987                        3             False              2  female  \n",
      "\n",
      "[1984 rows x 17 columns]\n"
     ]
    }
   ],
   "source": [
    "#  Calculating the num_units that are greater than 1 or equal to 1\n",
    "num_units_greater = loan_application[loan_application['num_units'] >= 1]\n",
    "print(\"The number of times 1 occurred in the dataset is: \")\n",
    "print(num_units_greater)"
   ]
  },
  {
   "cell_type": "code",
   "execution_count": 160,
   "metadata": {},
   "outputs": [
    {
     "name": "stdout",
     "output_type": "stream",
     "text": [
      "The number of times 1 occurred in the dataset is: \n",
      "     married    race loan_decision  occupancy  loan_amount  applicant_income  \\\n",
      "49      True   black       approve          1          151                74   \n",
      "51      True   white       approve          1          152                72   \n",
      "76     False   white       approve          2          130                27   \n",
      "79      True   black       approve          1          162                53   \n",
      "101    False   white       approve          1          155                65   \n",
      "...      ...     ...           ...        ...          ...               ...   \n",
      "1917    True   black        reject          1          120               107   \n",
      "1928    True  hispan        reject          1          205                72   \n",
      "1943    True   white       approve          1           20                46   \n",
      "1956    True   white       approve          1          496               144   \n",
      "1985    True   white       approve          2          225                49   \n",
      "\n",
      "      num_units  num_dependants  self_employed  monthly_income  \\\n",
      "49          2.0             1.0          False            3717   \n",
      "51          2.0             0.0           True            2165   \n",
      "76          2.0             0.0          False            3125   \n",
      "79          2.0             1.0          False            2185   \n",
      "101         2.0             0.0          False            2541   \n",
      "...         ...             ...            ...             ...   \n",
      "1917        3.0             0.0          False            5119   \n",
      "1928        2.0             2.0           True            6000   \n",
      "1943        2.0             0.0          False            2560   \n",
      "1956        4.0             1.0          False           12000   \n",
      "1985        2.0             0.0           True            4159   \n",
      "\n",
      "      purchase_price  liquid_assets  mortage_payment_history  \\\n",
      "49             158.0           14.0                        2   \n",
      "51             140.0           47.0                        2   \n",
      "76             155.0           25.0                        2   \n",
      "79             170.0           19.0                        2   \n",
      "101            172.0           28.0                        2   \n",
      "...              ...            ...                      ...   \n",
      "1917           220.0            2.0                        1   \n",
      "1928           228.0           14.0                        2   \n",
      "1943           220.0          269.0                        2   \n",
      "1956           620.0          190.0                        1   \n",
      "1985           225.0           10.0                        2   \n",
      "\n",
      "      consumer_credit_history  filed_bankruptcy  property_type  gender  \n",
      "49                          5             False              3    male  \n",
      "51                          1             False              3    male  \n",
      "76                          1             False              3    male  \n",
      "79                          1             False              3    male  \n",
      "101                         1             False              3  female  \n",
      "...                       ...               ...            ...     ...  \n",
      "1917                        2             False              3    male  \n",
      "1928                        2              True              3    male  \n",
      "1943                        1             False              3    male  \n",
      "1956                        1             False              3  female  \n",
      "1985                        1             False              3    male  \n",
      "\n",
      "[171 rows x 17 columns]\n"
     ]
    }
   ],
   "source": [
    "# Calculating the num_units that are greater than 2  or equal to 2\n",
    "num_units_greater = loan_application[loan_application['num_units'] >= 2]\n",
    "print(\"The number of times 1 occurred in the dataset is: \")\n",
    "print(num_units_greater)"
   ]
  },
  {
   "cell_type": "code",
   "execution_count": 161,
   "metadata": {},
   "outputs": [
    {
     "name": "stdout",
     "output_type": "stream",
     "text": [
      "The number of times 1 occurred in the dataset is: \n",
      "     married    race loan_decision  occupancy  loan_amount  applicant_income  \\\n",
      "109     True  hispan       approve          1          144                62   \n",
      "149    False   white       approve          1          199                94   \n",
      "188    False   white       approve          1          152               126   \n",
      "200    False   white        reject          1          176                38   \n",
      "245    False   white       approve          1           81                30   \n",
      "...      ...     ...           ...        ...          ...               ...   \n",
      "1876    True   white        reject          2          133                60   \n",
      "1910   False   white       approve          1          192                78   \n",
      "1912   False   white       approve          1          144                84   \n",
      "1917    True   black        reject          1          120               107   \n",
      "1956    True   white       approve          1          496               144   \n",
      "\n",
      "      num_units  num_dependants  self_employed  monthly_income  \\\n",
      "109         3.0             0.0          False            3667   \n",
      "149         3.0             0.0          False            7865   \n",
      "188         4.0             0.0          False           10500   \n",
      "200         3.0             0.0          False            3150   \n",
      "245         4.0             0.0          False            3500   \n",
      "...         ...             ...            ...             ...   \n",
      "1876        3.0             0.0          False            3391   \n",
      "1910        3.0             0.0          False            4167   \n",
      "1912        3.0             0.0          False            7010   \n",
      "1917        3.0             0.0          False            5119   \n",
      "1956        4.0             1.0          False           12000   \n",
      "\n",
      "      purchase_price  liquid_assets  mortage_payment_history  \\\n",
      "109            160.0           19.0                        2   \n",
      "149            246.0          206.0                        2   \n",
      "188            199.0           51.0                        1   \n",
      "200            195.0           54.0                        2   \n",
      "245             90.0            8.0                        2   \n",
      "...              ...            ...                      ...   \n",
      "1876           165.0           39.0                        1   \n",
      "1910           197.0            7.0                        1   \n",
      "1912           180.0           87.1                        2   \n",
      "1917           220.0            2.0                        1   \n",
      "1956           620.0          190.0                        1   \n",
      "\n",
      "      consumer_credit_history  filed_bankruptcy  property_type  gender  \n",
      "109                         1             False              3  female  \n",
      "149                         6             False              3  female  \n",
      "188                         6             False              3    male  \n",
      "200                         1             False              3    male  \n",
      "245                         2             False              3    male  \n",
      "...                       ...               ...            ...     ...  \n",
      "1876                        6             False              3    male  \n",
      "1910                        3             False              3    male  \n",
      "1912                        5             False              3    male  \n",
      "1917                        2             False              3    male  \n",
      "1956                        1             False              3  female  \n",
      "\n",
      "[61 rows x 17 columns]\n"
     ]
    }
   ],
   "source": [
    "# Calculating the num_units that are greater than 3  and less than 1\n",
    "num_units_greater = loan_application[loan_application['num_units'] >= 3]\n",
    "print(\"The number of times 1 occurred in the dataset is: \")\n",
    "print(num_units_greater)\n"
   ]
  },
  {
   "cell_type": "code",
   "execution_count": 162,
   "metadata": {},
   "outputs": [
    {
     "name": "stdout",
     "output_type": "stream",
     "text": [
      "the number of times 1 occurred in the dataset is: \n",
      "     married    race loan_decision  occupancy  loan_amount  applicant_income  \\\n",
      "188    False   white       approve          1          152               126   \n",
      "245    False   white       approve          1           81                30   \n",
      "682    False   white       approve          1          188                78   \n",
      "703    False   white       approve          1          160                81   \n",
      "861     True  hispan        reject          1          128                30   \n",
      "878     True   black        reject          1          143                80   \n",
      "1109    True   white       approve          1          176                85   \n",
      "1419   False   white       approve          1          152                60   \n",
      "1524    True   white       approve          2          150               198   \n",
      "1764    True   white       approve          1          155                44   \n",
      "1956    True   white       approve          1          496               144   \n",
      "\n",
      "      num_units  num_dependants  self_employed  monthly_income  \\\n",
      "188         4.0             0.0          False           10500   \n",
      "245         4.0             0.0          False            3500   \n",
      "682         4.0             0.0          False            3554   \n",
      "703         4.0             0.0           True               0   \n",
      "861         4.0             3.0          False            4931   \n",
      "878         4.0             0.0          False            7895   \n",
      "1109        4.0             2.0           True            2500   \n",
      "1419        4.0             1.0          False           37719   \n",
      "1524        4.0             2.0           True           16525   \n",
      "1764        4.0             0.0          False            2768   \n",
      "1956        4.0             1.0          False           12000   \n",
      "\n",
      "      purchase_price  liquid_assets  mortage_payment_history  \\\n",
      "188            199.0           51.0                        1   \n",
      "245             90.0            8.0                        2   \n",
      "682            233.0           47.0                        1   \n",
      "703            200.0           21.0                        1   \n",
      "861            160.0            5.0                        2   \n",
      "878            190.0           83.0                        1   \n",
      "1109           220.0           46.0                        2   \n",
      "1419           425.0          204.0                        2   \n",
      "1524           214.0          249.0                        1   \n",
      "1764           194.0          166.0                        1   \n",
      "1956           620.0          190.0                        1   \n",
      "\n",
      "      consumer_credit_history  filed_bankruptcy  property_type  gender  \n",
      "188                         6             False              3    male  \n",
      "245                         2             False              3    male  \n",
      "682                         1             False              3    male  \n",
      "703                         5             False              3    male  \n",
      "861                         5              True              3    male  \n",
      "878                         1             False              3    male  \n",
      "1109                        1             False              3    male  \n",
      "1419                        2             False              3    male  \n",
      "1524                        1             False              3    male  \n",
      "1764                        5             False              3    male  \n",
      "1956                        1             False              3  female  \n"
     ]
    }
   ],
   "source": [
    "#  Calculating the num_units that are greater than 4  and less than 1\n",
    "num_units_greater = loan_application[loan_application['num_units'] >= 4]\n",
    "print(\"the number of times 1 occurred in the dataset is: \")\n",
    "print(num_units_greater)\n"
   ]
  },
  {
   "cell_type": "code",
   "execution_count": 163,
   "metadata": {},
   "outputs": [
    {
     "name": "stdout",
     "output_type": "stream",
     "text": [
      "The average number of num_units is: 1.1224798387096775\n"
     ]
    }
   ],
   "source": [
    "#  Calculating the average number of  num_units\n",
    "num_units_mean = loan_application['num_units'].mean()\n",
    "print(\"The average number of num_units is:\", num_units_mean)"
   ]
  },
  {
   "cell_type": "code",
   "execution_count": 164,
   "metadata": {},
   "outputs": [
    {
     "name": "stdout",
     "output_type": "stream",
     "text": [
      "The total number of num_units is: 2227.0\n"
     ]
    }
   ],
   "source": [
    "#  Calculating the total number of  num units\n",
    "num_units_sum = loan_application['num_units'].sum()\n",
    "print(\"The total number of num_units is:\", num_units_sum)\n"
   ]
  },
  {
   "cell_type": "code",
   "execution_count": 165,
   "metadata": {},
   "outputs": [
    {
     "name": "stdout",
     "output_type": "stream",
     "text": [
      "The minimum number of num_units is: 1.0\n",
      "The maximum number of num_units is: 4.0\n",
      "The number of times 1 occurred in the dataset is:  1.0    1813\n",
      "2.0     110\n",
      "3.0      50\n",
      "4.0      11\n",
      "Name: num_units, dtype: int64\n"
     ]
    }
   ],
   "source": [
    "#  Calculating the minimum and maximum number of  num units\n",
    "num_units_min = loan_application['num_units'].min()\n",
    "print(\"The minimum number of num_units is:\", num_units_min)\n",
    "\n",
    "num_units_max = loan_application['num_units'].max()\n",
    "print(\"The maximum number of num_units is:\", num_units_max)\n",
    "\n",
    "# Calculating the value count  of the num units\n",
    "num_units_ones = loan_application['num_units'].value_counts()\n",
    "print(\"The number of times 1 occurred in the dataset is: \", num_units_ones)\n"
   ]
  },
  {
   "cell_type": "code",
   "execution_count": 166,
   "metadata": {},
   "outputs": [
    {
     "name": "stdout",
     "output_type": "stream",
     "text": [
      "The average number of liquid_assets is: 4620.333873239437\n"
     ]
    }
   ],
   "source": [
    "#  Calculating the average number of  liquid_assets\n",
    "liquid_assets_mean = loan_application['liquid_assets'].mean()\n",
    "print(\"The average number of liquid_assets is:\", liquid_assets_mean)\n"
   ]
  },
  {
   "cell_type": "code",
   "execution_count": 167,
   "metadata": {},
   "outputs": [
    {
     "name": "stdout",
     "output_type": "stream",
     "text": [
      "The total number of liquid_assets is: 9185223.74\n"
     ]
    }
   ],
   "source": [
    "#  Calculating the total number of liquid_assets\n",
    "liquid_assets_sum = loan_application['liquid_assets'].sum()\n",
    "print(\"The total number of liquid_assets is:\", liquid_assets_sum)\n"
   ]
  },
  {
   "cell_type": "code",
   "execution_count": 168,
   "metadata": {},
   "outputs": [
    {
     "name": "stdout",
     "output_type": "stream",
     "text": [
      "The highest number of liquid_assets is: 1000000.0\n",
      "The lowest number of liquid_assets is: 0.0\n",
      "The number of times 1 occurred in the dataset is:  17.00      29\n",
      "26.00      28\n",
      "23.00      27\n",
      "19.00      27\n",
      "31.00      27\n",
      "           ..\n",
      "38.50       1\n",
      "1450.00     1\n",
      "0.40        1\n",
      "86.37       1\n",
      "427.90      1\n",
      "Name: liquid_assets, Length: 634, dtype: int64\n"
     ]
    }
   ],
   "source": [
    "#  Calculating the  maximum and minimum number of  liquid_assets\n",
    "liquid_assets_max = loan_application['liquid_assets'].max()\n",
    "print(\"The highest number of liquid_assets is:\", liquid_assets_max)\n",
    "\n",
    "liquid_assets_min = loan_application['liquid_assets'].min()\n",
    "print(\"The lowest number of liquid_assets is:\", liquid_assets_min)\n",
    "\n",
    "# Calculating the value count  of liquid_assets\n",
    "liquid_assets_ones = loan_application['liquid_assets'].value_counts()\n",
    "print(\"The number of times 1 occurred in the dataset is: \", liquid_assets_ones)\n",
    "\n"
   ]
  },
  {
   "cell_type": "code",
   "execution_count": 169,
   "metadata": {},
   "outputs": [
    {
     "name": "stdout",
     "output_type": "stream",
     "text": [
      "The average number of mortage_payment_history is: 1.7082494969818913\n"
     ]
    }
   ],
   "source": [
    "#  Calculating the average number of  mortage_payment_history\n",
    "mortage_payment_history_mean = loan_application['mortage_payment_history'].mean()\n",
    "print(\"The average number of mortage_payment_history is:\", mortage_payment_history_mean)"
   ]
  },
  {
   "cell_type": "code",
   "execution_count": 170,
   "metadata": {},
   "outputs": [
    {
     "name": "stdout",
     "output_type": "stream",
     "text": [
      "The total number of mortage_payment_history is: 3396\n"
     ]
    }
   ],
   "source": [
    "# Calculating the total number of mortage_payment_history\n",
    "mortage_payment_history_sum = loan_application['mortage_payment_history'].sum()\n",
    "print(\"The total number of mortage_payment_history is:\", mortage_payment_history_sum)\n"
   ]
  },
  {
   "cell_type": "code",
   "execution_count": 171,
   "metadata": {},
   "outputs": [
    {
     "name": "stdout",
     "output_type": "stream",
     "text": [
      "The highest number of mortage_payment_history is: 4\n",
      "The lowest number of mortage_payment_history is: 1\n",
      "The value count of mortage_payment_history is: 2    1269\n",
      "1     660\n",
      "3      38\n",
      "4      21\n",
      "Name: mortage_payment_history, dtype: int64\n"
     ]
    }
   ],
   "source": [
    "#  Calculating the maximum and minimum number of  mortage_payment_history\n",
    "mortage_payment_history_max = loan_application['mortage_payment_history'].max()\n",
    "print(\"The highest number of mortage_payment_history is:\", mortage_payment_history_max)\n",
    "\n",
    "mortage_payment_history_min = loan_application['mortage_payment_history'].min()\n",
    "print(\"The lowest number of mortage_payment_history is:\", mortage_payment_history_min)\n",
    "\n",
    "#  # Calculating the value count of the mortage_payment_history\n",
    "mortage_payment_history_count = loan_application['mortage_payment_history'].value_counts()\n",
    "print(\"The value count of mortage_payment_history is:\", mortage_payment_history_count)\n"
   ]
  },
  {
   "cell_type": "code",
   "execution_count": 172,
   "metadata": {},
   "outputs": [
    {
     "name": "stdout",
     "output_type": "stream",
     "text": [
      "The number of times 1 occurred in the dataset is: \n",
      "     married   race loan_decision  occupancy  loan_amount  applicant_income  \\\n",
      "0       True  white        reject          1          128                74   \n",
      "1      False  white       approve          1          128                84   \n",
      "2       True  white       approve          1           66                36   \n",
      "3       True  white       approve          1          120                59   \n",
      "4      False  white       approve          1          111                63   \n",
      "...      ...    ...           ...        ...          ...               ...   \n",
      "1983    True  white       approve          1          158                96   \n",
      "1984    True  white       approve          1           35               169   \n",
      "1985    True  white       approve          2          225                49   \n",
      "1986   False  white       approve          1           98               110   \n",
      "1987   False  black        reject          1          133                55   \n",
      "\n",
      "      num_units  num_dependants  self_employed  monthly_income  \\\n",
      "0           1.0             1.0          False            4583   \n",
      "1           1.0             0.0          False            2666   \n",
      "2           1.0             0.0           True            3000   \n",
      "3           1.0             0.0          False            2583   \n",
      "4           1.0             0.0          False            2208   \n",
      "...         ...             ...            ...             ...   \n",
      "1983        1.0             0.0          False            5000   \n",
      "1984        1.0             0.0          False            9583   \n",
      "1985        2.0             0.0           True            4159   \n",
      "1986        1.0             0.0           True            9200   \n",
      "1987        1.0             0.0           True            4583   \n",
      "\n",
      "      purchase_price  liquid_assets  mortage_payment_history  \\\n",
      "0              160.0           52.0                        2   \n",
      "1              143.0           37.0                        2   \n",
      "2              110.0           19.0                        2   \n",
      "3              134.0           31.0                        2   \n",
      "4              138.0          169.0                        2   \n",
      "...              ...            ...                      ...   \n",
      "1983           176.0           15.0                        2   \n",
      "1984           315.0           64.0                        1   \n",
      "1985           225.0           10.0                        2   \n",
      "1986           215.0          427.9                        1   \n",
      "1987           148.0           24.5                        2   \n",
      "\n",
      "      consumer_credit_history  filed_bankruptcy  property_type  gender  \n",
      "0                           2             False              2    male  \n",
      "1                           2             False              2    male  \n",
      "2                           6              True              2    male  \n",
      "3                           1             False              1    male  \n",
      "4                           6             False              2    male  \n",
      "...                       ...               ...            ...     ...  \n",
      "1983                        1             False              2    male  \n",
      "1984                        1             False              1    male  \n",
      "1985                        1             False              3    male  \n",
      "1986                        1             False              1    male  \n",
      "1987                        3             False              2  female  \n",
      "\n",
      "[1988 rows x 17 columns]\n"
     ]
    }
   ],
   "source": [
    "#  Calculating the  mortage_payment_history that greater than 1 or equal to 1 \n",
    "mortage_payment_history_greater = loan_application[loan_application['mortage_payment_history'] >= 1]\n",
    "print(\"The number of times 1 occurred in the dataset is: \")\n",
    "print(mortage_payment_history_greater)"
   ]
  },
  {
   "cell_type": "code",
   "execution_count": 173,
   "metadata": {},
   "outputs": [
    {
     "name": "stdout",
     "output_type": "stream",
     "text": [
      "The number of times 1 occurred in the dataset is: \n",
      "     married   race loan_decision  occupancy  loan_amount  applicant_income  \\\n",
      "0       True  white        reject          1          128                74   \n",
      "1      False  white       approve          1          128                84   \n",
      "2       True  white       approve          1           66                36   \n",
      "3       True  white       approve          1          120                59   \n",
      "4      False  white       approve          1          111                63   \n",
      "...      ...    ...           ...        ...          ...               ...   \n",
      "1981    True  white       approve          1          187                91   \n",
      "1982   False  white       approve          1          120                46   \n",
      "1983    True  white       approve          1          158                96   \n",
      "1985    True  white       approve          2          225                49   \n",
      "1987   False  black        reject          1          133                55   \n",
      "\n",
      "      num_units  num_dependants  self_employed  monthly_income  \\\n",
      "0           1.0             1.0          False            4583   \n",
      "1           1.0             0.0          False            2666   \n",
      "2           1.0             0.0           True            3000   \n",
      "3           1.0             0.0          False            2583   \n",
      "4           1.0             0.0          False            2208   \n",
      "...         ...             ...            ...             ...   \n",
      "1981        1.0             2.0          False            7583   \n",
      "1982        1.0             0.0          False            2340   \n",
      "1983        1.0             0.0          False            5000   \n",
      "1985        2.0             0.0           True            4159   \n",
      "1987        1.0             0.0           True            4583   \n",
      "\n",
      "      purchase_price  liquid_assets  mortage_payment_history  \\\n",
      "0              160.0           52.0                        2   \n",
      "1              143.0           37.0                        2   \n",
      "2              110.0           19.0                        2   \n",
      "3              134.0           31.0                        2   \n",
      "4              138.0          169.0                        2   \n",
      "...              ...            ...                      ...   \n",
      "1981           325.0          130.0                        2   \n",
      "1982           160.0           47.0                        2   \n",
      "1983           176.0           15.0                        2   \n",
      "1985           225.0           10.0                        2   \n",
      "1987           148.0           24.5                        2   \n",
      "\n",
      "      consumer_credit_history  filed_bankruptcy  property_type  gender  \n",
      "0                           2             False              2    male  \n",
      "1                           2             False              2    male  \n",
      "2                           6              True              2    male  \n",
      "3                           1             False              1    male  \n",
      "4                           6             False              2    male  \n",
      "...                       ...               ...            ...     ...  \n",
      "1981                        1             False              2    male  \n",
      "1982                        4             False              2    male  \n",
      "1983                        1             False              2    male  \n",
      "1985                        1             False              3    male  \n",
      "1987                        3             False              2  female  \n",
      "\n",
      "[1328 rows x 17 columns]\n"
     ]
    }
   ],
   "source": [
    "#  Calculating the  mortage_payment_history that greater than 4 \n",
    "mortage_payment_history_greater = loan_application[loan_application['mortage_payment_history'] >= 2]\n",
    "print(\"The number of times 1 occurred in the dataset is: \")\n",
    "print(mortage_payment_history_greater)"
   ]
  },
  {
   "cell_type": "code",
   "execution_count": 174,
   "metadata": {},
   "outputs": [
    {
     "name": "stdout",
     "output_type": "stream",
     "text": [
      "The average number of consumer_credit_history is: 2.1101609657947686\n",
      "The total number of consumer_credit_history is: 4195\n"
     ]
    }
   ],
   "source": [
    "#  Calculating the   average number of  consumer_credit_history\n",
    "consumer_credit_history_mean = loan_application['consumer_credit_history'].mean()\n",
    "print(\"The average number of consumer_credit_history is:\", consumer_credit_history_mean)\n",
    "\n",
    "#  Calculating the total number of consumer_credit_history\n",
    "consumer_credit_history_sum = loan_application['consumer_credit_history'].sum()\n",
    "print(\"The total number of consumer_credit_history is:\", consumer_credit_history_sum)"
   ]
  },
  {
   "cell_type": "code",
   "execution_count": 175,
   "metadata": {},
   "outputs": [
    {
     "name": "stdout",
     "output_type": "stream",
     "text": [
      "The highest number of consumer_credit_history is: 6\n",
      "The lowest number of consumer_credit_history is: 1\n",
      "The number of times 1 occurred in the dataset is:  1    1136\n",
      "2     367\n",
      "5     162\n",
      "6     161\n",
      "3      99\n",
      "4      63\n",
      "Name: consumer_credit_history, dtype: int64\n"
     ]
    }
   ],
   "source": [
    "#  Calculating the maximum and minimum number of  consumer_credit_history\n",
    "consumer_credit_history_max = loan_application['consumer_credit_history'].max()\n",
    "print(\"The highest number of consumer_credit_history is:\", consumer_credit_history_max)\n",
    "\n",
    "consumer_credit_history_min = loan_application['consumer_credit_history'].min()\n",
    "print(\"The lowest number of consumer_credit_history is:\", consumer_credit_history_min)\n",
    "\n",
    "#  # Calculating the value count  for the consumer_credit_history\n",
    "consumer_credit_history_ones = loan_application['consumer_credit_history'].value_counts()\n",
    "print(\"The number of times 1 occurred in the dataset is: \", consumer_credit_history_ones)\n"
   ]
  },
  {
   "cell_type": "code",
   "execution_count": 176,
   "metadata": {},
   "outputs": [
    {
     "name": "stdout",
     "output_type": "stream",
     "text": [
      "The number of times 1 occurred in the dataset is: \n",
      "     married   race loan_decision  occupancy  loan_amount  applicant_income  \\\n",
      "0       True  white        reject          1          128                74   \n",
      "1      False  white       approve          1          128                84   \n",
      "2       True  white       approve          1           66                36   \n",
      "3       True  white       approve          1          120                59   \n",
      "4      False  white       approve          1          111                63   \n",
      "...      ...    ...           ...        ...          ...               ...   \n",
      "1983    True  white       approve          1          158                96   \n",
      "1984    True  white       approve          1           35               169   \n",
      "1985    True  white       approve          2          225                49   \n",
      "1986   False  white       approve          1           98               110   \n",
      "1987   False  black        reject          1          133                55   \n",
      "\n",
      "      num_units  num_dependants  self_employed  monthly_income  \\\n",
      "0           1.0             1.0          False            4583   \n",
      "1           1.0             0.0          False            2666   \n",
      "2           1.0             0.0           True            3000   \n",
      "3           1.0             0.0          False            2583   \n",
      "4           1.0             0.0          False            2208   \n",
      "...         ...             ...            ...             ...   \n",
      "1983        1.0             0.0          False            5000   \n",
      "1984        1.0             0.0          False            9583   \n",
      "1985        2.0             0.0           True            4159   \n",
      "1986        1.0             0.0           True            9200   \n",
      "1987        1.0             0.0           True            4583   \n",
      "\n",
      "      purchase_price  liquid_assets  mortage_payment_history  \\\n",
      "0              160.0           52.0                        2   \n",
      "1              143.0           37.0                        2   \n",
      "2              110.0           19.0                        2   \n",
      "3              134.0           31.0                        2   \n",
      "4              138.0          169.0                        2   \n",
      "...              ...            ...                      ...   \n",
      "1983           176.0           15.0                        2   \n",
      "1984           315.0           64.0                        1   \n",
      "1985           225.0           10.0                        2   \n",
      "1986           215.0          427.9                        1   \n",
      "1987           148.0           24.5                        2   \n",
      "\n",
      "      consumer_credit_history  filed_bankruptcy  property_type  gender  \n",
      "0                           2             False              2    male  \n",
      "1                           2             False              2    male  \n",
      "2                           6              True              2    male  \n",
      "3                           1             False              1    male  \n",
      "4                           6             False              2    male  \n",
      "...                       ...               ...            ...     ...  \n",
      "1983                        1             False              2    male  \n",
      "1984                        1             False              1    male  \n",
      "1985                        1             False              3    male  \n",
      "1986                        1             False              1    male  \n",
      "1987                        3             False              2  female  \n",
      "\n",
      "[1988 rows x 17 columns]\n"
     ]
    }
   ],
   "source": [
    "#  Calculating the  consumer_credit_history that greater than 1 or equal to 1\n",
    "consumer_credit_history_greater = loan_application[loan_application['consumer_credit_history'] >= 1]\n",
    "print(\"The number of times 1 occurred in the dataset is: \")\n",
    "print(consumer_credit_history_greater)\n"
   ]
  },
  {
   "cell_type": "code",
   "execution_count": 177,
   "metadata": {},
   "outputs": [
    {
     "name": "stdout",
     "output_type": "stream",
     "text": [
      "     married    race loan_decision  occupancy  loan_amount  applicant_income  \\\n",
      "2       True   white       approve          1           66                36   \n",
      "4      False   white       approve          1          111                63   \n",
      "10      True   white       approve          1           95                46   \n",
      "11      True   white        reject          1          158               666   \n",
      "20      True   white       approve          1          100               666   \n",
      "...      ...     ...           ...        ...          ...               ...   \n",
      "1969    True   white       approve          1          100               112   \n",
      "1974    True   white       approve          1           53                31   \n",
      "1977   False   white       approve          1          126                63   \n",
      "1979   False  hispan       approve          1          104                42   \n",
      "1982   False   white       approve          1          120                46   \n",
      "\n",
      "      num_units  num_dependants  self_employed  monthly_income  \\\n",
      "2           1.0             0.0           True            3000   \n",
      "4           1.0             0.0          False            2208   \n",
      "10          1.0             0.0          False            2333   \n",
      "11          1.0             4.0          False            3036   \n",
      "20          1.0             0.0           True            7589   \n",
      "...         ...             ...            ...             ...   \n",
      "1969        1.0             2.0          False            5875   \n",
      "1974        1.0             3.0          False            2340   \n",
      "1977        1.0             0.0          False            3250   \n",
      "1979        1.0             0.0          False            3857   \n",
      "1982        1.0             0.0          False            2340   \n",
      "\n",
      "      purchase_price  liquid_assets  mortage_payment_history  \\\n",
      "2              110.0          19.00                        2   \n",
      "4              138.0         169.00                        2   \n",
      "10             135.0          52.33                        2   \n",
      "11             210.0         188.00                        2   \n",
      "20             208.0         347.00                        3   \n",
      "...              ...            ...                      ...   \n",
      "1969           105.0          12.80                        2   \n",
      "1974            72.0          29.90                        2   \n",
      "1977           133.0          15.00                        2   \n",
      "1979           116.0          19.40                        2   \n",
      "1982           160.0          47.00                        2   \n",
      "\n",
      "      consumer_credit_history  filed_bankruptcy  property_type  gender  \n",
      "2                           6              True              2    male  \n",
      "4                           6             False              2    male  \n",
      "10                          6             False              2    male  \n",
      "11                          6              True              1    male  \n",
      "20                          4             False              1  female  \n",
      "...                       ...               ...            ...     ...  \n",
      "1969                        5             False              2    male  \n",
      "1974                        5             False              2    male  \n",
      "1977                        5              True              2    male  \n",
      "1979                        5             False              1    male  \n",
      "1982                        4             False              2    male  \n",
      "\n",
      "[386 rows x 17 columns]\n"
     ]
    }
   ],
   "source": [
    "#  Calculating the  consumer_credit_history that greater than 4\n",
    "consumer_credit_history_greater = loan_application[loan_application['consumer_credit_history'] >= 4]\n",
    "print(consumer_credit_history_greater)\n",
    "\n",
    "\n"
   ]
  },
  {
   "cell_type": "code",
   "execution_count": 178,
   "metadata": {},
   "outputs": [
    {
     "name": "stdout",
     "output_type": "stream",
     "text": [
      "     married    race loan_decision  occupancy  loan_amount  applicant_income  \\\n",
      "2       True   white       approve          1           66                36   \n",
      "4      False   white       approve          1          111                63   \n",
      "10      True   white       approve          1           95                46   \n",
      "11      True   white        reject          1          158               666   \n",
      "25      True   black       approve          1          200               117   \n",
      "...      ...     ...           ...        ...          ...               ...   \n",
      "1963    True   white       approve          1          215               114   \n",
      "1969    True   white       approve          1          100               112   \n",
      "1974    True   white       approve          1           53                31   \n",
      "1977   False   white       approve          1          126                63   \n",
      "1979   False  hispan       approve          1          104                42   \n",
      "\n",
      "      num_units  num_dependants  self_employed  monthly_income  \\\n",
      "2           1.0             0.0           True            3000   \n",
      "4           1.0             0.0          False            2208   \n",
      "10          1.0             0.0          False            2333   \n",
      "11          1.0             4.0          False            3036   \n",
      "25          1.0             2.0          False            3073   \n",
      "...         ...             ...            ...             ...   \n",
      "1963        1.0             3.0           True            9534   \n",
      "1969        1.0             2.0          False            5875   \n",
      "1974        1.0             3.0          False            2340   \n",
      "1977        1.0             0.0          False            3250   \n",
      "1979        1.0             0.0          False            3857   \n",
      "\n",
      "      purchase_price  liquid_assets  mortage_payment_history  \\\n",
      "2              110.0          19.00                        2   \n",
      "4              138.0         169.00                        2   \n",
      "10             135.0          52.33                        2   \n",
      "11             210.0         188.00                        2   \n",
      "25             250.0          83.50                        1   \n",
      "...              ...            ...                      ...   \n",
      "1963           290.0          70.00                        2   \n",
      "1969           105.0          12.80                        2   \n",
      "1974            72.0          29.90                        2   \n",
      "1977           133.0          15.00                        2   \n",
      "1979           116.0          19.40                        2   \n",
      "\n",
      "      consumer_credit_history  filed_bankruptcy  property_type gender  \n",
      "2                           6              True              2   male  \n",
      "4                           6             False              2   male  \n",
      "10                          6             False              2   male  \n",
      "11                          6              True              1   male  \n",
      "25                          5             False              2   male  \n",
      "...                       ...               ...            ...    ...  \n",
      "1963                        5             False              2   male  \n",
      "1969                        5             False              2   male  \n",
      "1974                        5             False              2   male  \n",
      "1977                        5              True              2   male  \n",
      "1979                        5             False              1   male  \n",
      "\n",
      "[323 rows x 17 columns]\n"
     ]
    }
   ],
   "source": [
    "#  Calculating the consumer_credit_history that greater than 5  \n",
    "consumer_credit_history_greater = loan_application[loan_application['consumer_credit_history'] >= 5]\n",
    "print(consumer_credit_history_greater)\n"
   ]
  },
  {
   "cell_type": "code",
   "execution_count": 179,
   "metadata": {},
   "outputs": [
    {
     "name": "stdout",
     "output_type": "stream",
     "text": [
      "The average number of filed_bankruptcy is: 0.06891348088531186\n"
     ]
    }
   ],
   "source": [
    "#  Calculating the average number of  filed_bankruptcy\n",
    "filed_bankruptcy_mean = loan_application['filed_bankruptcy'].mean()\n",
    "print(\"The average number of filed_bankruptcy is:\", filed_bankruptcy_mean)\n"
   ]
  },
  {
   "cell_type": "code",
   "execution_count": 180,
   "metadata": {},
   "outputs": [
    {
     "name": "stdout",
     "output_type": "stream",
     "text": [
      "The total number of filed_bankruptcy is: 137\n"
     ]
    }
   ],
   "source": [
    "#  Calculating the total number of filed_bankruptcy\n",
    "filed_bankruptcy_sum = loan_application['filed_bankruptcy'].sum()\n",
    "print(\"The total number of filed_bankruptcy is:\", filed_bankruptcy_sum)"
   ]
  },
  {
   "cell_type": "code",
   "execution_count": 181,
   "metadata": {},
   "outputs": [
    {
     "name": "stdout",
     "output_type": "stream",
     "text": [
      "The highest number of filed_bankruptcy is: True\n",
      "The lowest number of filed_bankruptcy is: False\n",
      "The number of times 1 occurred in the dataset is:  False    1851\n",
      "True      137\n",
      "Name: filed_bankruptcy, dtype: int64\n"
     ]
    }
   ],
   "source": [
    "#  Calculating the maximum and minimum number of  filed_bankruptcy\n",
    "filed_bankruptcy_max = loan_application['filed_bankruptcy'].max()\n",
    "print(\"The highest number of filed_bankruptcy is:\", filed_bankruptcy_max)\n",
    "\n",
    "filed_bankruptcy_min = loan_application['filed_bankruptcy'].min()\n",
    "print(\"The lowest number of filed_bankruptcy is:\", filed_bankruptcy_min)\n",
    "\n",
    "# Calculating the value count  of the filed_bankruptcy\n",
    "filed_bankruptcy_ones = loan_application['filed_bankruptcy'].value_counts()\n",
    "print(\"The number of times 1 occurred in the dataset is: \", filed_bankruptcy_ones)\n"
   ]
  },
  {
   "cell_type": "code",
   "execution_count": 182,
   "metadata": {},
   "outputs": [
    {
     "name": "stdout",
     "output_type": "stream",
     "text": [
      "married  race   loan_decision  occupancy  loan_amount  applicant_income  num_units  num_dependants  self_employed  monthly_income  purchase_price  liquid_assets  mortage_payment_history  consumer_credit_history  filed_bankruptcy  property_type  gender\n",
      "False    white  approve        1          136          64                1.0        0.0             False          5316            170.0           46.00          2                        1                        False             2              male      2\n",
      "         black  approve        1          55           21                1.0        1.0             True           1800            105.0           1.00           2                        2                        False             1              male      1\n",
      "True     white  approve        1          130          54                1.0        2.0             False          4497            163.0           38.00          2                        1                        False             2              female    1\n",
      "                                                       68                1.0        3.0             True           5703            195.0           51.00          2                        1                        False             2              male      1\n",
      "                                                       66                1.0        0.0             True           3188            320.0           210.00         2                        1                        False             2              male      1\n",
      "                                                                                                                                                                                                                                                              ..\n",
      "False    white  reject         1          152          61                1.0        1.0             False          5062            190.0           40.00          2                        1                        False             2              female    1\n",
      "                                          150          56                1.0        0.0             False          4727            167.0           24.00          2                        3                        False             2              male      1\n",
      "                                          148          288               1.0        0.0             False          0               185.0           151.00         3                        6                        False             2              male      1\n",
      "                                                       60                1.0        0.0             False          5000            147.9           10.25          2                        1                        False             1              male      1\n",
      "True     white  reject         3          260          131               1.0        2.0             True           10890           200.0           152.00         1                        2                        False             2              male      1\n",
      "Length: 1833, dtype: int64\n"
     ]
    }
   ],
   "source": [
    "#  Calculating the  filed_bankruptcy employees that are False\n",
    "filed_bankruptcy_false = loan_application[loan_application['filed_bankruptcy'] == False].value_counts()\n",
    "print(filed_bankruptcy_false)"
   ]
  },
  {
   "cell_type": "code",
   "execution_count": 183,
   "metadata": {},
   "outputs": [
    {
     "name": "stdout",
     "output_type": "stream",
     "text": [
      "     married   race loan_decision  occupancy  loan_amount  applicant_income  \\\n",
      "0       True  white        reject          1          128                74   \n",
      "1      False  white       approve          1          128                84   \n",
      "3       True  white       approve          1          120                59   \n",
      "4      False  white       approve          1          111                63   \n",
      "5      False  white       approve          1          141                72   \n",
      "...      ...    ...           ...        ...          ...               ...   \n",
      "1983    True  white       approve          1          158                96   \n",
      "1984    True  white       approve          1           35               169   \n",
      "1985    True  white       approve          2          225                49   \n",
      "1986   False  white       approve          1           98               110   \n",
      "1987   False  black        reject          1          133                55   \n",
      "\n",
      "      num_units  num_dependants  self_employed  monthly_income  \\\n",
      "0           1.0             1.0          False            4583   \n",
      "1           1.0             0.0          False            2666   \n",
      "3           1.0             0.0          False            2583   \n",
      "4           1.0             0.0          False            2208   \n",
      "5           1.0             0.0          False            6000   \n",
      "...         ...             ...            ...             ...   \n",
      "1983        1.0             0.0          False            5000   \n",
      "1984        1.0             0.0          False            9583   \n",
      "1985        2.0             0.0           True            4159   \n",
      "1986        1.0             0.0           True            9200   \n",
      "1987        1.0             0.0           True            4583   \n",
      "\n",
      "      purchase_price  liquid_assets  mortage_payment_history  \\\n",
      "0              160.0           52.0                        2   \n",
      "1              143.0           37.0                        2   \n",
      "3              134.0           31.0                        2   \n",
      "4              138.0          169.0                        2   \n",
      "5              157.0           38.0                        2   \n",
      "...              ...            ...                      ...   \n",
      "1983           176.0           15.0                        2   \n",
      "1984           315.0           64.0                        1   \n",
      "1985           225.0           10.0                        2   \n",
      "1986           215.0          427.9                        1   \n",
      "1987           148.0           24.5                        2   \n",
      "\n",
      "      consumer_credit_history  filed_bankruptcy  property_type  gender  \n",
      "0                           2             False              2    male  \n",
      "1                           2             False              2    male  \n",
      "3                           1             False              1    male  \n",
      "4                           6             False              2    male  \n",
      "5                           1             False              1    male  \n",
      "...                       ...               ...            ...     ...  \n",
      "1983                        1             False              2    male  \n",
      "1984                        1             False              1    male  \n",
      "1985                        1             False              3    male  \n",
      "1986                        1             False              1    male  \n",
      "1987                        3             False              2  female  \n",
      "\n",
      "[1851 rows x 17 columns]\n"
     ]
    }
   ],
   "source": [
    "#  Calculating the  filed_bankruptcy employees that are False\n",
    "filed_bankruptcy_false = loan_application[loan_application['filed_bankruptcy'] == False]\n",
    "print(filed_bankruptcy_false)"
   ]
  },
  {
   "cell_type": "code",
   "execution_count": 184,
   "metadata": {},
   "outputs": [
    {
     "name": "stdout",
     "output_type": "stream",
     "text": [
      "     married    race loan_decision  occupancy  loan_amount  applicant_income  \\\n",
      "2       True   white       approve          1           66                36   \n",
      "11      True   white        reject          1          158               666   \n",
      "64     False   white        reject          1          123                61   \n",
      "67      True  hispan       approve          1          128                72   \n",
      "80     False   white        reject          1           40                50   \n",
      "...      ...     ...           ...        ...          ...               ...   \n",
      "1928    True  hispan        reject          1          205                72   \n",
      "1941    True   black       approve          1          186                65   \n",
      "1946   False   white        reject          1          350               732   \n",
      "1951    True   white        reject          1           76                38   \n",
      "1977   False   white       approve          1          126                63   \n",
      "\n",
      "      num_units  num_dependants  self_employed  monthly_income  \\\n",
      "2           1.0             0.0           True            3000   \n",
      "11          1.0             4.0          False            3036   \n",
      "64          1.0             0.0          False            2400   \n",
      "67          1.0             2.0          False            2202   \n",
      "80          1.0             4.0          False            4166   \n",
      "...         ...             ...            ...             ...   \n",
      "1928        2.0             2.0           True            6000   \n",
      "1941        1.0             2.0          False            2419   \n",
      "1946        1.0             4.0          False             416   \n",
      "1951        1.0             2.0          False            3132   \n",
      "1977        1.0             0.0          False            3250   \n",
      "\n",
      "      purchase_price  liquid_assets  mortage_payment_history  \\\n",
      "2              110.0           19.0                        2   \n",
      "11             210.0          188.0                        2   \n",
      "64             136.0            5.0                        2   \n",
      "67             160.0           62.0                        3   \n",
      "80              50.0           17.0                        3   \n",
      "...              ...            ...                      ...   \n",
      "1928           228.0           14.0                        2   \n",
      "1941           235.0           40.0                        1   \n",
      "1946           440.0           47.0                        2   \n",
      "1951            80.0           10.0                        2   \n",
      "1977           133.0           15.0                        2   \n",
      "\n",
      "      consumer_credit_history  filed_bankruptcy  property_type  gender  \n",
      "2                           6              True              2    male  \n",
      "11                          6              True              1    male  \n",
      "64                          2              True              1    male  \n",
      "67                          6              True              2    male  \n",
      "80                          3              True              2    male  \n",
      "...                       ...               ...            ...     ...  \n",
      "1928                        2              True              3    male  \n",
      "1941                        5              True              2    male  \n",
      "1946                        3              True              2  female  \n",
      "1951                        2              True              2    male  \n",
      "1977                        5              True              2    male  \n",
      "\n",
      "[137 rows x 17 columns]\n"
     ]
    }
   ],
   "source": [
    "#  Calculating the  filed_bankruptcy employees that are True\n",
    "filed_bankruptcy_true = loan_application[loan_application['filed_bankruptcy'] == True]\n",
    "print(filed_bankruptcy_true)\n"
   ]
  },
  {
   "cell_type": "code",
   "execution_count": 185,
   "metadata": {},
   "outputs": [
    {
     "name": "stdout",
     "output_type": "stream",
     "text": [
      "The unique values of the filed_bankruptcy column is:  [False  True]\n"
     ]
    }
   ],
   "source": [
    "#  Calculate the unique values of the filed_bankruptcy column\n",
    "filed_bankruptcy = loan_application['filed_bankruptcy'].unique()\n",
    "print(\"The unique values of the filed_bankruptcy column is: \", filed_bankruptcy)"
   ]
  },
  {
   "cell_type": "code",
   "execution_count": 186,
   "metadata": {},
   "outputs": [
    {
     "name": "stdout",
     "output_type": "stream",
     "text": [
      "The average value of the property type is: 1.8611670020120725\n"
     ]
    }
   ],
   "source": [
    "# property_type\n",
    "#  Calculating the average value of the property type\n",
    "property_type_mean = loan_application['property_type'].mean()\n",
    "print(\"The average value of the property type is:\", property_type_mean)\n"
   ]
  },
  {
   "cell_type": "code",
   "execution_count": 187,
   "metadata": {},
   "outputs": [
    {
     "name": "stdout",
     "output_type": "stream",
     "text": [
      "The total value of the property type is: 3700\n"
     ]
    }
   ],
   "source": [
    "#  Calculating the total value of the property type\n",
    "property_type_sum = loan_application['property_type'].sum()\n",
    "print(\"The total value of the property type is:\", property_type_sum)\n"
   ]
  },
  {
   "cell_type": "code",
   "execution_count": 188,
   "metadata": {},
   "outputs": [
    {
     "name": "stdout",
     "output_type": "stream",
     "text": [
      "The highest number of property type is: 3\n",
      "The lowest number of property type is: 1\n",
      "The value count of the property type is:\n",
      "2    1380\n",
      "1     442\n",
      "3     166\n",
      "Name: property_type, dtype: int64\n"
     ]
    }
   ],
   "source": [
    "# Calculating the  maximum and  minimum value of the property type\n",
    "property_type_max = loan_application['property_type'].max()\n",
    "print(\"The highest number of property type is:\", property_type_max)\n",
    "\n",
    "property_type_min = loan_application['property_type'].min()\n",
    "print(\"The lowest number of property type is:\", property_type_min)\n",
    "\n",
    "# Calculating the value count of the property type\n",
    "property_type_count = loan_application['property_type'].value_counts()\n",
    "print(\"The value count of the property type is:\")\n",
    "print(property_type_count)\n"
   ]
  },
  {
   "cell_type": "code",
   "execution_count": 189,
   "metadata": {},
   "outputs": [
    {
     "name": "stdout",
     "output_type": "stream",
     "text": [
      "The value count of the gender is:\n",
      "male      1605\n",
      "female     369\n",
      "Name: gender, dtype: int64\n"
     ]
    }
   ],
   "source": [
    "\n",
    "#  Calculating the value count of the gender column\n",
    "gender_count = loan_application['gender'].value_counts()\n",
    "print(\"The value count of the gender is:\")\n",
    "print(gender_count)\n"
   ]
  },
  {
   "cell_type": "code",
   "execution_count": 190,
   "metadata": {},
   "outputs": [
    {
     "name": "stdout",
     "output_type": "stream",
     "text": [
      "The unique values of the filed_bankruptcy column is:  [False  True]\n"
     ]
    }
   ],
   "source": [
    "#  Calculate the unique values of the gender column\n",
    "gender = loan_application['gender'].unique()\n",
    "print(\"The unique values of the filed_bankruptcy column is: \", filed_bankruptcy)\n"
   ]
  },
  {
   "cell_type": "code",
   "execution_count": 191,
   "metadata": {},
   "outputs": [
    {
     "name": "stdout",
     "output_type": "stream",
     "text": [
      "     married   race loan_decision  occupancy  loan_amount  applicant_income  \\\n",
      "0       True  white        reject          1          128                74   \n",
      "1      False  white       approve          1          128                84   \n",
      "2       True  white       approve          1           66                36   \n",
      "3       True  white       approve          1          120                59   \n",
      "4      False  white       approve          1          111                63   \n",
      "...      ...    ...           ...        ...          ...               ...   \n",
      "1982   False  white       approve          1          120                46   \n",
      "1983    True  white       approve          1          158                96   \n",
      "1984    True  white       approve          1           35               169   \n",
      "1985    True  white       approve          2          225                49   \n",
      "1986   False  white       approve          1           98               110   \n",
      "\n",
      "      num_units  num_dependants  self_employed  monthly_income  \\\n",
      "0           1.0             1.0          False            4583   \n",
      "1           1.0             0.0          False            2666   \n",
      "2           1.0             0.0           True            3000   \n",
      "3           1.0             0.0          False            2583   \n",
      "4           1.0             0.0          False            2208   \n",
      "...         ...             ...            ...             ...   \n",
      "1982        1.0             0.0          False            2340   \n",
      "1983        1.0             0.0          False            5000   \n",
      "1984        1.0             0.0          False            9583   \n",
      "1985        2.0             0.0           True            4159   \n",
      "1986        1.0             0.0           True            9200   \n",
      "\n",
      "      purchase_price  liquid_assets  mortage_payment_history  \\\n",
      "0              160.0           52.0                        2   \n",
      "1              143.0           37.0                        2   \n",
      "2              110.0           19.0                        2   \n",
      "3              134.0           31.0                        2   \n",
      "4              138.0          169.0                        2   \n",
      "...              ...            ...                      ...   \n",
      "1982           160.0           47.0                        2   \n",
      "1983           176.0           15.0                        2   \n",
      "1984           315.0           64.0                        1   \n",
      "1985           225.0           10.0                        2   \n",
      "1986           215.0          427.9                        1   \n",
      "\n",
      "      consumer_credit_history  filed_bankruptcy  property_type gender  \n",
      "0                           2             False              2   male  \n",
      "1                           2             False              2   male  \n",
      "2                           6              True              2   male  \n",
      "3                           1             False              1   male  \n",
      "4                           6             False              2   male  \n",
      "...                       ...               ...            ...    ...  \n",
      "1982                        4             False              2   male  \n",
      "1983                        1             False              2   male  \n",
      "1984                        1             False              1   male  \n",
      "1985                        1             False              3   male  \n",
      "1986                        1             False              1   male  \n",
      "\n",
      "[1605 rows x 17 columns]\n"
     ]
    }
   ],
   "source": [
    "# Calculating the  gender employees that are male\n",
    "gender_male = loan_application[loan_application['gender'] == \"male\"]\n",
    "print(gender_male)"
   ]
  },
  {
   "cell_type": "code",
   "execution_count": 192,
   "metadata": {},
   "outputs": [
    {
     "name": "stdout",
     "output_type": "stream",
     "text": [
      "     married   race loan_decision  occupancy  loan_amount  applicant_income  \\\n",
      "20      True  white       approve          1          100               666   \n",
      "33     False  black        reject          1           76                42   \n",
      "34     False  black       approve          1          121               666   \n",
      "36     False  white       approve          1          140                63   \n",
      "42      True  white       approve          1          100               123   \n",
      "...      ...    ...           ...        ...          ...               ...   \n",
      "1956    True  white       approve          1          496               144   \n",
      "1962    True  white       approve          1           96                39   \n",
      "1965   False  white       approve          1          100                38   \n",
      "1975   False  white       approve          1           71                35   \n",
      "1987   False  black        reject          1          133                55   \n",
      "\n",
      "      num_units  num_dependants  self_employed  monthly_income  \\\n",
      "20          1.0             0.0           True            7589   \n",
      "33          1.0             0.0          False            3510   \n",
      "34          1.0             0.0          False            4706   \n",
      "36          1.0             0.0          False            5233   \n",
      "42          1.0             0.0          False            6333   \n",
      "...         ...             ...            ...             ...   \n",
      "1956        4.0             1.0          False           12000   \n",
      "1962        1.0             0.0          False            8550   \n",
      "1965        1.0             0.0           True            3225   \n",
      "1975        1.0             0.0          False            2900   \n",
      "1987        1.0             0.0           True            4583   \n",
      "\n",
      "      purchase_price  liquid_assets  mortage_payment_history  \\\n",
      "20             208.0          347.0                        3   \n",
      "33              80.0            8.0                        2   \n",
      "34             161.0           46.0                        2   \n",
      "36             200.0          123.0                        2   \n",
      "42             125.0           26.0                        2   \n",
      "...              ...            ...                      ...   \n",
      "1956           620.0          190.0                        1   \n",
      "1962           381.0          117.0                        1   \n",
      "1965           156.0           69.0                        1   \n",
      "1975            95.0           38.0                        2   \n",
      "1987           148.0           24.5                        2   \n",
      "\n",
      "      consumer_credit_history  filed_bankruptcy  property_type  gender  \n",
      "20                          4             False              1  female  \n",
      "33                          6             False              2  female  \n",
      "34                          1             False              1  female  \n",
      "36                          1             False              2  female  \n",
      "42                          6             False              2  female  \n",
      "...                       ...               ...            ...     ...  \n",
      "1956                        1             False              3  female  \n",
      "1962                        1             False              2  female  \n",
      "1965                        1             False              2  female  \n",
      "1975                        1             False              1  female  \n",
      "1987                        3             False              2  female  \n",
      "\n",
      "[369 rows x 17 columns]\n"
     ]
    }
   ],
   "source": [
    "# Calculating the  gender employees that are female\n",
    "gender_female = loan_application[loan_application['gender'] == \"female\"]\n",
    "print(gender_female)"
   ]
  },
  {
   "cell_type": "markdown",
   "metadata": {},
   "source": [
    "## Missing Values:\n",
    "### Identify any missing values in the dataset. Missing values can impact the accuracy and reliability of analyses and may require imputation or handling strategies, such as removing or replacing missing values\n"
   ]
  },
  {
   "cell_type": "code",
   "execution_count": 193,
   "metadata": {},
   "outputs": [
    {
     "name": "stdout",
     "output_type": "stream",
     "text": [
      "      married   race  loan_decision  occupancy  loan_amount  applicant_income  \\\n",
      "0       False  False          False      False        False             False   \n",
      "1       False  False          False      False        False             False   \n",
      "2       False  False          False      False        False             False   \n",
      "3       False  False          False      False        False             False   \n",
      "4       False  False          False      False        False             False   \n",
      "...       ...    ...            ...        ...          ...               ...   \n",
      "1983    False  False          False      False        False             False   \n",
      "1984    False  False          False      False        False             False   \n",
      "1985    False  False          False      False        False             False   \n",
      "1986    False  False          False      False        False             False   \n",
      "1987    False  False          False      False        False             False   \n",
      "\n",
      "      num_units  num_dependants  self_employed  monthly_income  \\\n",
      "0         False           False          False           False   \n",
      "1         False           False          False           False   \n",
      "2         False           False          False           False   \n",
      "3         False           False          False           False   \n",
      "4         False           False          False           False   \n",
      "...         ...             ...            ...             ...   \n",
      "1983      False           False          False           False   \n",
      "1984      False           False          False           False   \n",
      "1985      False           False          False           False   \n",
      "1986      False           False          False           False   \n",
      "1987      False           False          False           False   \n",
      "\n",
      "      purchase_price  liquid_assets  mortage_payment_history  \\\n",
      "0              False          False                    False   \n",
      "1              False          False                    False   \n",
      "2              False          False                    False   \n",
      "3              False          False                    False   \n",
      "4              False          False                    False   \n",
      "...              ...            ...                      ...   \n",
      "1983           False          False                    False   \n",
      "1984           False          False                    False   \n",
      "1985           False          False                    False   \n",
      "1986           False          False                    False   \n",
      "1987           False          False                    False   \n",
      "\n",
      "      consumer_credit_history  filed_bankruptcy  property_type  gender  \n",
      "0                       False             False          False   False  \n",
      "1                       False             False          False   False  \n",
      "2                       False             False          False   False  \n",
      "3                       False             False          False   False  \n",
      "4                       False             False          False   False  \n",
      "...                       ...               ...            ...     ...  \n",
      "1983                    False             False          False   False  \n",
      "1984                    False             False          False   False  \n",
      "1985                    False             False          False   False  \n",
      "1986                    False             False          False   False  \n",
      "1987                    False             False          False   False  \n",
      "\n",
      "[1988 rows x 17 columns]\n"
     ]
    }
   ],
   "source": [
    "# Handle missing values:\n",
    "\n",
    "#  Calculating  how many rows of our data is null\n",
    "print(loan_application.isnull())\n"
   ]
  },
  {
   "cell_type": "code",
   "execution_count": 194,
   "metadata": {},
   "outputs": [
    {
     "name": "stdout",
     "output_type": "stream",
     "text": [
      "married                     3\n",
      "race                        0\n",
      "loan_decision               0\n",
      "occupancy                   0\n",
      "loan_amount                 0\n",
      "applicant_income            0\n",
      "num_units                   4\n",
      "num_dependants              3\n",
      "self_employed               0\n",
      "monthly_income              0\n",
      "purchase_price              0\n",
      "liquid_assets               0\n",
      "mortage_payment_history     0\n",
      "consumer_credit_history     0\n",
      "filed_bankruptcy            0\n",
      "property_type               0\n",
      "gender                     14\n",
      "dtype: int64\n"
     ]
    }
   ],
   "source": [
    "#  Calculating  how many null consists of every column\n",
    "print(loan_application.isnull().sum())"
   ]
  },
  {
   "cell_type": "code",
   "execution_count": 195,
   "metadata": {},
   "outputs": [
    {
     "name": "stdout",
     "output_type": "stream",
     "text": [
      "24\n"
     ]
    }
   ],
   "source": [
    "#  calculating the total number of nulls of our data frames \n",
    "print(loan_application.isnull().sum().sum())\n"
   ]
  },
  {
   "cell_type": "code",
   "execution_count": 196,
   "metadata": {},
   "outputs": [
    {
     "name": "stdout",
     "output_type": "stream",
     "text": [
      "      married   race  loan_decision  occupancy  loan_amount  applicant_income  \\\n",
      "0       False  False          False      False        False             False   \n",
      "1       False  False          False      False        False             False   \n",
      "2       False  False          False      False        False             False   \n",
      "3       False  False          False      False        False             False   \n",
      "4       False  False          False      False        False             False   \n",
      "...       ...    ...            ...        ...          ...               ...   \n",
      "1983    False  False          False      False        False             False   \n",
      "1984    False  False          False      False        False             False   \n",
      "1985    False  False          False      False        False             False   \n",
      "1986    False  False          False      False        False             False   \n",
      "1987    False  False          False      False        False             False   \n",
      "\n",
      "      num_units  num_dependants  self_employed  monthly_income  \\\n",
      "0         False           False          False           False   \n",
      "1         False           False          False           False   \n",
      "2         False           False          False           False   \n",
      "3         False           False          False           False   \n",
      "4         False           False          False           False   \n",
      "...         ...             ...            ...             ...   \n",
      "1983      False           False          False           False   \n",
      "1984      False           False          False           False   \n",
      "1985      False           False          False           False   \n",
      "1986      False           False          False           False   \n",
      "1987      False           False          False           False   \n",
      "\n",
      "      purchase_price  liquid_assets  mortage_payment_history  \\\n",
      "0              False          False                    False   \n",
      "1              False          False                    False   \n",
      "2              False          False                    False   \n",
      "3              False          False                    False   \n",
      "4              False          False                    False   \n",
      "...              ...            ...                      ...   \n",
      "1983           False          False                    False   \n",
      "1984           False          False                    False   \n",
      "1985           False          False                    False   \n",
      "1986           False          False                    False   \n",
      "1987           False          False                    False   \n",
      "\n",
      "      consumer_credit_history  filed_bankruptcy  property_type  gender  \n",
      "0                       False             False          False   False  \n",
      "1                       False             False          False   False  \n",
      "2                       False             False          False   False  \n",
      "3                       False             False          False   False  \n",
      "4                       False             False          False   False  \n",
      "...                       ...               ...            ...     ...  \n",
      "1983                    False             False          False   False  \n",
      "1984                    False             False          False   False  \n",
      "1985                    False             False          False   False  \n",
      "1986                    False             False          False   False  \n",
      "1987                    False             False          False   False  \n",
      "\n",
      "[1988 rows x 17 columns]\n"
     ]
    }
   ],
   "source": [
    "#  Calculating  how many rows of our data frame consists of\n",
    "print(loan_application.isna())"
   ]
  },
  {
   "cell_type": "code",
   "execution_count": 197,
   "metadata": {},
   "outputs": [
    {
     "name": "stdout",
     "output_type": "stream",
     "text": [
      "     married   race loan_decision  occupancy  loan_amount  applicant_income  \\\n",
      "0       True  white        reject          1          128                74   \n",
      "1      False  white       approve          1          128                84   \n",
      "2       True  white       approve          1           66                36   \n",
      "3       True  white       approve          1          120                59   \n",
      "4      False  white       approve          1          111                63   \n",
      "...      ...    ...           ...        ...          ...               ...   \n",
      "1983    True  white       approve          1          158                96   \n",
      "1984    True  white       approve          1           35               169   \n",
      "1985    True  white       approve          2          225                49   \n",
      "1986   False  white       approve          1           98               110   \n",
      "1987   False  black        reject          1          133                55   \n",
      "\n",
      "      num_units  num_dependants  self_employed  monthly_income  \\\n",
      "0           1.0             1.0          False            4583   \n",
      "1           1.0             0.0          False            2666   \n",
      "2           1.0             0.0           True            3000   \n",
      "3           1.0             0.0          False            2583   \n",
      "4           1.0             0.0          False            2208   \n",
      "...         ...             ...            ...             ...   \n",
      "1983        1.0             0.0          False            5000   \n",
      "1984        1.0             0.0          False            9583   \n",
      "1985        2.0             0.0           True            4159   \n",
      "1986        1.0             0.0           True            9200   \n",
      "1987        1.0             0.0           True            4583   \n",
      "\n",
      "      purchase_price  liquid_assets  mortage_payment_history  \\\n",
      "0              160.0           52.0                        2   \n",
      "1              143.0           37.0                        2   \n",
      "2              110.0           19.0                        2   \n",
      "3              134.0           31.0                        2   \n",
      "4              138.0          169.0                        2   \n",
      "...              ...            ...                      ...   \n",
      "1983           176.0           15.0                        2   \n",
      "1984           315.0           64.0                        1   \n",
      "1985           225.0           10.0                        2   \n",
      "1986           215.0          427.9                        1   \n",
      "1987           148.0           24.5                        2   \n",
      "\n",
      "      consumer_credit_history  filed_bankruptcy  property_type  gender  \n",
      "0                           2             False              2    male  \n",
      "1                           2             False              2    male  \n",
      "2                           6              True              2    male  \n",
      "3                           1             False              1    male  \n",
      "4                           6             False              2    male  \n",
      "...                       ...               ...            ...     ...  \n",
      "1983                        1             False              2    male  \n",
      "1984                        1             False              1    male  \n",
      "1985                        1             False              3    male  \n",
      "1986                        1             False              1    male  \n",
      "1987                        3             False              2  female  \n",
      "\n",
      "[1988 rows x 17 columns]\n"
     ]
    }
   ],
   "source": [
    "\n",
    "#  Calculating  How to fill by value 0 to nulls and remove nulls\n",
    "loan_application_one = loan_application.fillna(value=0)\n",
    "print(loan_application_one)"
   ]
  },
  {
   "cell_type": "code",
   "execution_count": 198,
   "metadata": {},
   "outputs": [
    {
     "name": "stdout",
     "output_type": "stream",
     "text": [
      "24\n"
     ]
    }
   ],
   "source": [
    "\n",
    "#  Calculating  total nulls of our data frame are consists \n",
    "print(loan_application.isnull().sum().sum())\n"
   ]
  },
  {
   "cell_type": "code",
   "execution_count": 199,
   "metadata": {},
   "outputs": [
    {
     "name": "stdout",
     "output_type": "stream",
     "text": [
      "      married   race loan_decision  occupancy  loan_amount  applicant_income  \\\n",
      "0        True  white        reject          1          128                74   \n",
      "1       False  white       approve          1          128                84   \n",
      "2        True  white       approve          1           66                36   \n",
      "3        True  white       approve          1          120                59   \n",
      "4       False  white       approve          1          111                63   \n",
      "...       ...    ...           ...        ...          ...               ...   \n",
      "1983     True  white       approve          1          158                96   \n",
      "1984     True  white       approve          1           35               169   \n",
      "1985     True  white       approve          2          225                49   \n",
      "1986    False  white       approve          1           98               110   \n",
      "1987    False  black        reject          1          133                55   \n",
      "\n",
      "      num_units  num_dependants  self_employed  monthly_income  \\\n",
      "0           1.0             1.0          False            4583   \n",
      "1           1.0             0.0          False            2666   \n",
      "2           1.0             0.0           True            3000   \n",
      "3           1.0             0.0          False            2583   \n",
      "4           1.0             0.0          False            2208   \n",
      "...         ...             ...            ...             ...   \n",
      "1983        1.0             0.0          False            5000   \n",
      "1984        1.0             0.0          False            9583   \n",
      "1985        2.0             0.0           True            4159   \n",
      "1986        1.0             0.0           True            9200   \n",
      "1987        1.0             0.0           True            4583   \n",
      "\n",
      "      purchase_price  liquid_assets  mortage_payment_history  \\\n",
      "0              160.0           52.0                        2   \n",
      "1              143.0           37.0                        2   \n",
      "2              110.0           19.0                        2   \n",
      "3              134.0           31.0                        2   \n",
      "4              138.0          169.0                        2   \n",
      "...              ...            ...                      ...   \n",
      "1983           176.0           15.0                        2   \n",
      "1984           315.0           64.0                        1   \n",
      "1985           225.0           10.0                        2   \n",
      "1986           215.0          427.9                        1   \n",
      "1987           148.0           24.5                        2   \n",
      "\n",
      "      consumer_credit_history  filed_bankruptcy  property_type  gender  \n",
      "0                           2             False              2    male  \n",
      "1                           2             False              2    male  \n",
      "2                           6              True              2    male  \n",
      "3                           1             False              1    male  \n",
      "4                           6             False              2    male  \n",
      "...                       ...               ...            ...     ...  \n",
      "1983                        1             False              2    male  \n",
      "1984                        1             False              1    male  \n",
      "1985                        1             False              3    male  \n",
      "1986                        1             False              1    male  \n",
      "1987                        3             False              2  female  \n",
      "\n",
      "[1988 rows x 17 columns]\n"
     ]
    }
   ],
   "source": [
    "\n",
    "#  Calculating  How to fill by method and filling to nulls to the above cell\n",
    "loan_application_two = loan_application.fillna(method='pad')\n",
    "print(loan_application_two)\n",
    "\n"
   ]
  },
  {
   "cell_type": "code",
   "execution_count": 200,
   "metadata": {},
   "outputs": [
    {
     "name": "stdout",
     "output_type": "stream",
     "text": [
      "      married   race loan_decision  occupancy  loan_amount  applicant_income  \\\n",
      "0        True  white        reject          1          128                74   \n",
      "1       False  white       approve          1          128                84   \n",
      "2        True  white       approve          1           66                36   \n",
      "3        True  white       approve          1          120                59   \n",
      "4       False  white       approve          1          111                63   \n",
      "...       ...    ...           ...        ...          ...               ...   \n",
      "1983     True  white       approve          1          158                96   \n",
      "1984     True  white       approve          1           35               169   \n",
      "1985     True  white       approve          2          225                49   \n",
      "1986    False  white       approve          1           98               110   \n",
      "1987    False  black        reject          1          133                55   \n",
      "\n",
      "      num_units  num_dependants  self_employed  monthly_income  \\\n",
      "0           1.0             1.0          False            4583   \n",
      "1           1.0             0.0          False            2666   \n",
      "2           1.0             0.0           True            3000   \n",
      "3           1.0             0.0          False            2583   \n",
      "4           1.0             0.0          False            2208   \n",
      "...         ...             ...            ...             ...   \n",
      "1983        1.0             0.0          False            5000   \n",
      "1984        1.0             0.0          False            9583   \n",
      "1985        2.0             0.0           True            4159   \n",
      "1986        1.0             0.0           True            9200   \n",
      "1987        1.0             0.0           True            4583   \n",
      "\n",
      "      purchase_price  liquid_assets  mortage_payment_history  \\\n",
      "0              160.0           52.0                        2   \n",
      "1              143.0           37.0                        2   \n",
      "2              110.0           19.0                        2   \n",
      "3              134.0           31.0                        2   \n",
      "4              138.0          169.0                        2   \n",
      "...              ...            ...                      ...   \n",
      "1983           176.0           15.0                        2   \n",
      "1984           315.0           64.0                        1   \n",
      "1985           225.0           10.0                        2   \n",
      "1986           215.0          427.9                        1   \n",
      "1987           148.0           24.5                        2   \n",
      "\n",
      "      consumer_credit_history  filed_bankruptcy  property_type  gender  \n",
      "0                           2             False              2    male  \n",
      "1                           2             False              2    male  \n",
      "2                           6              True              2    male  \n",
      "3                           1             False              1    male  \n",
      "4                           6             False              2    male  \n",
      "...                       ...               ...            ...     ...  \n",
      "1983                        1             False              2    male  \n",
      "1984                        1             False              1    male  \n",
      "1985                        1             False              3    male  \n",
      "1986                        1             False              1    male  \n",
      "1987                        3             False              2  female  \n",
      "\n",
      "[1988 rows x 17 columns]\n"
     ]
    }
   ],
   "source": [
    "# Calculating  How to fill by method and filling to nulls the below cell\n",
    "loan_application_three = loan_application.fillna(method='bfill')\n",
    "print(loan_application_three)"
   ]
  },
  {
   "cell_type": "code",
   "execution_count": 201,
   "metadata": {},
   "outputs": [
    {
     "data": {
      "text/html": [
       "<div>\n",
       "<style scoped>\n",
       "    .dataframe tbody tr th:only-of-type {\n",
       "        vertical-align: middle;\n",
       "    }\n",
       "\n",
       "    .dataframe tbody tr th {\n",
       "        vertical-align: top;\n",
       "    }\n",
       "\n",
       "    .dataframe thead th {\n",
       "        text-align: right;\n",
       "    }\n",
       "</style>\n",
       "<table border=\"1\" class=\"dataframe\">\n",
       "  <thead>\n",
       "    <tr style=\"text-align: right;\">\n",
       "      <th></th>\n",
       "      <th>married</th>\n",
       "      <th>race</th>\n",
       "      <th>loan_decision</th>\n",
       "      <th>occupancy</th>\n",
       "      <th>loan_amount</th>\n",
       "      <th>applicant_income</th>\n",
       "      <th>num_units</th>\n",
       "      <th>num_dependants</th>\n",
       "      <th>self_employed</th>\n",
       "      <th>monthly_income</th>\n",
       "      <th>purchase_price</th>\n",
       "      <th>liquid_assets</th>\n",
       "      <th>mortage_payment_history</th>\n",
       "      <th>consumer_credit_history</th>\n",
       "      <th>filed_bankruptcy</th>\n",
       "      <th>property_type</th>\n",
       "      <th>gender</th>\n",
       "    </tr>\n",
       "  </thead>\n",
       "  <tbody>\n",
       "    <tr>\n",
       "      <th>0</th>\n",
       "      <td>True</td>\n",
       "      <td>white</td>\n",
       "      <td>reject</td>\n",
       "      <td>1</td>\n",
       "      <td>128</td>\n",
       "      <td>74</td>\n",
       "      <td>1.0</td>\n",
       "      <td>1.0</td>\n",
       "      <td>False</td>\n",
       "      <td>4583</td>\n",
       "      <td>160.0</td>\n",
       "      <td>52.0</td>\n",
       "      <td>2</td>\n",
       "      <td>2</td>\n",
       "      <td>False</td>\n",
       "      <td>2</td>\n",
       "      <td>male</td>\n",
       "    </tr>\n",
       "    <tr>\n",
       "      <th>1</th>\n",
       "      <td>False</td>\n",
       "      <td>white</td>\n",
       "      <td>approve</td>\n",
       "      <td>1</td>\n",
       "      <td>128</td>\n",
       "      <td>84</td>\n",
       "      <td>1.0</td>\n",
       "      <td>0.0</td>\n",
       "      <td>False</td>\n",
       "      <td>2666</td>\n",
       "      <td>143.0</td>\n",
       "      <td>37.0</td>\n",
       "      <td>2</td>\n",
       "      <td>2</td>\n",
       "      <td>False</td>\n",
       "      <td>2</td>\n",
       "      <td>male</td>\n",
       "    </tr>\n",
       "    <tr>\n",
       "      <th>2</th>\n",
       "      <td>True</td>\n",
       "      <td>white</td>\n",
       "      <td>approve</td>\n",
       "      <td>1</td>\n",
       "      <td>66</td>\n",
       "      <td>36</td>\n",
       "      <td>1.0</td>\n",
       "      <td>0.0</td>\n",
       "      <td>True</td>\n",
       "      <td>3000</td>\n",
       "      <td>110.0</td>\n",
       "      <td>19.0</td>\n",
       "      <td>2</td>\n",
       "      <td>6</td>\n",
       "      <td>True</td>\n",
       "      <td>2</td>\n",
       "      <td>male</td>\n",
       "    </tr>\n",
       "    <tr>\n",
       "      <th>3</th>\n",
       "      <td>True</td>\n",
       "      <td>white</td>\n",
       "      <td>approve</td>\n",
       "      <td>1</td>\n",
       "      <td>120</td>\n",
       "      <td>59</td>\n",
       "      <td>1.0</td>\n",
       "      <td>0.0</td>\n",
       "      <td>False</td>\n",
       "      <td>2583</td>\n",
       "      <td>134.0</td>\n",
       "      <td>31.0</td>\n",
       "      <td>2</td>\n",
       "      <td>1</td>\n",
       "      <td>False</td>\n",
       "      <td>1</td>\n",
       "      <td>male</td>\n",
       "    </tr>\n",
       "    <tr>\n",
       "      <th>4</th>\n",
       "      <td>False</td>\n",
       "      <td>white</td>\n",
       "      <td>approve</td>\n",
       "      <td>1</td>\n",
       "      <td>111</td>\n",
       "      <td>63</td>\n",
       "      <td>1.0</td>\n",
       "      <td>0.0</td>\n",
       "      <td>False</td>\n",
       "      <td>2208</td>\n",
       "      <td>138.0</td>\n",
       "      <td>169.0</td>\n",
       "      <td>2</td>\n",
       "      <td>6</td>\n",
       "      <td>False</td>\n",
       "      <td>2</td>\n",
       "      <td>male</td>\n",
       "    </tr>\n",
       "  </tbody>\n",
       "</table>\n",
       "</div>"
      ],
      "text/plain": [
       "   married   race loan_decision  occupancy  loan_amount  applicant_income  \\\n",
       "0     True  white        reject          1          128                74   \n",
       "1    False  white       approve          1          128                84   \n",
       "2     True  white       approve          1           66                36   \n",
       "3     True  white       approve          1          120                59   \n",
       "4    False  white       approve          1          111                63   \n",
       "\n",
       "   num_units  num_dependants  self_employed  monthly_income  purchase_price  \\\n",
       "0        1.0             1.0          False            4583           160.0   \n",
       "1        1.0             0.0          False            2666           143.0   \n",
       "2        1.0             0.0           True            3000           110.0   \n",
       "3        1.0             0.0          False            2583           134.0   \n",
       "4        1.0             0.0          False            2208           138.0   \n",
       "\n",
       "   liquid_assets  mortage_payment_history  consumer_credit_history  \\\n",
       "0           52.0                        2                        2   \n",
       "1           37.0                        2                        2   \n",
       "2           19.0                        2                        6   \n",
       "3           31.0                        2                        1   \n",
       "4          169.0                        2                        6   \n",
       "\n",
       "   filed_bankruptcy  property_type gender  \n",
       "0             False              2   male  \n",
       "1             False              2   male  \n",
       "2              True              2   male  \n",
       "3             False              1   male  \n",
       "4             False              2   male  "
      ]
     },
     "execution_count": 201,
     "metadata": {},
     "output_type": "execute_result"
    }
   ],
   "source": [
    "#  print the first 5 rows of the data\n",
    "loan_application_three.head(5)"
   ]
  },
  {
   "cell_type": "code",
   "execution_count": 202,
   "metadata": {},
   "outputs": [
    {
     "name": "stdout",
     "output_type": "stream",
     "text": [
      "     married   race loan_decision occupancy loan_amount applicant_income  \\\n",
      "0       True  white        reject         1         128               74   \n",
      "1      False  white       approve         1         128               84   \n",
      "2       True  white       approve         1          66               36   \n",
      "3       True  white       approve         1         120               59   \n",
      "4      False  white       approve         1         111               63   \n",
      "...      ...    ...           ...       ...         ...              ...   \n",
      "1983    True  white       approve         1         158               96   \n",
      "1984    True  white       approve         1          35              169   \n",
      "1985    True  white       approve         2         225               49   \n",
      "1986   False  white       approve         1          98              110   \n",
      "1987   False  black        reject         1         133               55   \n",
      "\n",
      "     num_units num_dependants self_employed monthly_income purchase_price  \\\n",
      "0          1.0            1.0         False           4583          160.0   \n",
      "1          1.0            0.0         False           2666          143.0   \n",
      "2          1.0            0.0          True           3000          110.0   \n",
      "3          1.0            0.0         False           2583          134.0   \n",
      "4          1.0            0.0         False           2208          138.0   \n",
      "...        ...            ...           ...            ...            ...   \n",
      "1983       1.0            0.0         False           5000          176.0   \n",
      "1984       1.0            0.0         False           9583          315.0   \n",
      "1985       2.0            0.0          True           4159          225.0   \n",
      "1986       1.0            0.0          True           9200          215.0   \n",
      "1987       1.0            0.0          True           4583          148.0   \n",
      "\n",
      "     liquid_assets mortage_payment_history consumer_credit_history  \\\n",
      "0             52.0                       2                       2   \n",
      "1             37.0                       2                       2   \n",
      "2             19.0                       2                       6   \n",
      "3             31.0                       2                       1   \n",
      "4            169.0                       2                       6   \n",
      "...            ...                     ...                     ...   \n",
      "1983          15.0                       2                       1   \n",
      "1984          64.0                       1                       1   \n",
      "1985          10.0                       2                       1   \n",
      "1986         427.9                       1                       1   \n",
      "1987          24.5                       2                       3   \n",
      "\n",
      "     filed_bankruptcy property_type  gender  \n",
      "0               False             2    male  \n",
      "1               False             2    male  \n",
      "2                True             2    male  \n",
      "3               False             1    male  \n",
      "4               False             2    male  \n",
      "...               ...           ...     ...  \n",
      "1983            False             2    male  \n",
      "1984            False             1    male  \n",
      "1985            False             3    male  \n",
      "1986            False             1    male  \n",
      "1987            False             2  female  \n",
      "\n",
      "[1988 rows x 17 columns]\n"
     ]
    }
   ],
   "source": [
    "#  Calculating  How to fill by method and filling to nulls the behind cell\n",
    "\n",
    "loan_application_four = loan_application.fillna(method='pad', axis=1)\n",
    "print(loan_application_four)"
   ]
  },
  {
   "cell_type": "code",
   "execution_count": 203,
   "metadata": {},
   "outputs": [
    {
     "name": "stdout",
     "output_type": "stream",
     "text": [
      "     married   race loan_decision occupancy loan_amount applicant_income  \\\n",
      "0       True  white        reject         1         128               74   \n",
      "1      False  white       approve         1         128               84   \n",
      "2       True  white       approve         1          66               36   \n",
      "3       True  white       approve         1         120               59   \n",
      "4      False  white       approve         1         111               63   \n",
      "...      ...    ...           ...       ...         ...              ...   \n",
      "1983    True  white       approve         1         158               96   \n",
      "1984    True  white       approve         1          35              169   \n",
      "1985    True  white       approve         2         225               49   \n",
      "1986   False  white       approve         1          98              110   \n",
      "1987   False  black        reject         1         133               55   \n",
      "\n",
      "     num_units num_dependants self_employed monthly_income purchase_price  \\\n",
      "0          1.0            1.0         False           4583          160.0   \n",
      "1          1.0            0.0         False           2666          143.0   \n",
      "2          1.0            0.0          True           3000          110.0   \n",
      "3          1.0            0.0         False           2583          134.0   \n",
      "4          1.0            0.0         False           2208          138.0   \n",
      "...        ...            ...           ...            ...            ...   \n",
      "1983       1.0            0.0         False           5000          176.0   \n",
      "1984       1.0            0.0         False           9583          315.0   \n",
      "1985       2.0            0.0          True           4159          225.0   \n",
      "1986       1.0            0.0          True           9200          215.0   \n",
      "1987       1.0            0.0          True           4583          148.0   \n",
      "\n",
      "     liquid_assets mortage_payment_history consumer_credit_history  \\\n",
      "0             52.0                       2                       2   \n",
      "1             37.0                       2                       2   \n",
      "2             19.0                       2                       6   \n",
      "3             31.0                       2                       1   \n",
      "4            169.0                       2                       6   \n",
      "...            ...                     ...                     ...   \n",
      "1983          15.0                       2                       1   \n",
      "1984          64.0                       1                       1   \n",
      "1985          10.0                       2                       1   \n",
      "1986         427.9                       1                       1   \n",
      "1987          24.5                       2                       3   \n",
      "\n",
      "     filed_bankruptcy property_type  gender  \n",
      "0               False             2    male  \n",
      "1               False             2    male  \n",
      "2                True             2    male  \n",
      "3               False             1    male  \n",
      "4               False             2    male  \n",
      "...               ...           ...     ...  \n",
      "1983            False             2    male  \n",
      "1984            False             1    male  \n",
      "1985            False             3    male  \n",
      "1986            False             1    male  \n",
      "1987            False             2  female  \n",
      "\n",
      "[1988 rows x 17 columns]\n"
     ]
    }
   ],
   "source": [
    "#  Calculating  How to fill by method and filling to nulls the bellow cell\n",
    "loan_application_five = loan_application.fillna(method='bfill',axis=1)\n",
    "print(loan_application_five)"
   ]
  },
  {
   "cell_type": "code",
   "execution_count": 204,
   "metadata": {},
   "outputs": [
    {
     "data": {
      "text/html": [
       "<div>\n",
       "<style scoped>\n",
       "    .dataframe tbody tr th:only-of-type {\n",
       "        vertical-align: middle;\n",
       "    }\n",
       "\n",
       "    .dataframe tbody tr th {\n",
       "        vertical-align: top;\n",
       "    }\n",
       "\n",
       "    .dataframe thead th {\n",
       "        text-align: right;\n",
       "    }\n",
       "</style>\n",
       "<table border=\"1\" class=\"dataframe\">\n",
       "  <thead>\n",
       "    <tr style=\"text-align: right;\">\n",
       "      <th></th>\n",
       "      <th>married</th>\n",
       "      <th>race</th>\n",
       "      <th>loan_decision</th>\n",
       "      <th>occupancy</th>\n",
       "      <th>loan_amount</th>\n",
       "      <th>applicant_income</th>\n",
       "      <th>num_units</th>\n",
       "      <th>num_dependants</th>\n",
       "      <th>self_employed</th>\n",
       "      <th>monthly_income</th>\n",
       "      <th>purchase_price</th>\n",
       "      <th>liquid_assets</th>\n",
       "      <th>mortage_payment_history</th>\n",
       "      <th>consumer_credit_history</th>\n",
       "      <th>filed_bankruptcy</th>\n",
       "      <th>property_type</th>\n",
       "      <th>gender</th>\n",
       "    </tr>\n",
       "  </thead>\n",
       "  <tbody>\n",
       "    <tr>\n",
       "      <th>0</th>\n",
       "      <td>True</td>\n",
       "      <td>white</td>\n",
       "      <td>reject</td>\n",
       "      <td>1</td>\n",
       "      <td>128</td>\n",
       "      <td>74</td>\n",
       "      <td>1.0</td>\n",
       "      <td>1.0</td>\n",
       "      <td>False</td>\n",
       "      <td>4583</td>\n",
       "      <td>160.0</td>\n",
       "      <td>52.0</td>\n",
       "      <td>2</td>\n",
       "      <td>2</td>\n",
       "      <td>False</td>\n",
       "      <td>2</td>\n",
       "      <td>male</td>\n",
       "    </tr>\n",
       "    <tr>\n",
       "      <th>1</th>\n",
       "      <td>False</td>\n",
       "      <td>white</td>\n",
       "      <td>approve</td>\n",
       "      <td>1</td>\n",
       "      <td>128</td>\n",
       "      <td>84</td>\n",
       "      <td>1.0</td>\n",
       "      <td>0.0</td>\n",
       "      <td>False</td>\n",
       "      <td>2666</td>\n",
       "      <td>143.0</td>\n",
       "      <td>37.0</td>\n",
       "      <td>2</td>\n",
       "      <td>2</td>\n",
       "      <td>False</td>\n",
       "      <td>2</td>\n",
       "      <td>male</td>\n",
       "    </tr>\n",
       "    <tr>\n",
       "      <th>2</th>\n",
       "      <td>True</td>\n",
       "      <td>white</td>\n",
       "      <td>approve</td>\n",
       "      <td>1</td>\n",
       "      <td>66</td>\n",
       "      <td>36</td>\n",
       "      <td>1.0</td>\n",
       "      <td>0.0</td>\n",
       "      <td>True</td>\n",
       "      <td>3000</td>\n",
       "      <td>110.0</td>\n",
       "      <td>19.0</td>\n",
       "      <td>2</td>\n",
       "      <td>6</td>\n",
       "      <td>True</td>\n",
       "      <td>2</td>\n",
       "      <td>male</td>\n",
       "    </tr>\n",
       "    <tr>\n",
       "      <th>3</th>\n",
       "      <td>True</td>\n",
       "      <td>white</td>\n",
       "      <td>approve</td>\n",
       "      <td>1</td>\n",
       "      <td>120</td>\n",
       "      <td>59</td>\n",
       "      <td>1.0</td>\n",
       "      <td>0.0</td>\n",
       "      <td>False</td>\n",
       "      <td>2583</td>\n",
       "      <td>134.0</td>\n",
       "      <td>31.0</td>\n",
       "      <td>2</td>\n",
       "      <td>1</td>\n",
       "      <td>False</td>\n",
       "      <td>1</td>\n",
       "      <td>male</td>\n",
       "    </tr>\n",
       "    <tr>\n",
       "      <th>4</th>\n",
       "      <td>False</td>\n",
       "      <td>white</td>\n",
       "      <td>approve</td>\n",
       "      <td>1</td>\n",
       "      <td>111</td>\n",
       "      <td>63</td>\n",
       "      <td>1.0</td>\n",
       "      <td>0.0</td>\n",
       "      <td>False</td>\n",
       "      <td>2208</td>\n",
       "      <td>138.0</td>\n",
       "      <td>169.0</td>\n",
       "      <td>2</td>\n",
       "      <td>6</td>\n",
       "      <td>False</td>\n",
       "      <td>2</td>\n",
       "      <td>male</td>\n",
       "    </tr>\n",
       "    <tr>\n",
       "      <th>...</th>\n",
       "      <td>...</td>\n",
       "      <td>...</td>\n",
       "      <td>...</td>\n",
       "      <td>...</td>\n",
       "      <td>...</td>\n",
       "      <td>...</td>\n",
       "      <td>...</td>\n",
       "      <td>...</td>\n",
       "      <td>...</td>\n",
       "      <td>...</td>\n",
       "      <td>...</td>\n",
       "      <td>...</td>\n",
       "      <td>...</td>\n",
       "      <td>...</td>\n",
       "      <td>...</td>\n",
       "      <td>...</td>\n",
       "      <td>...</td>\n",
       "    </tr>\n",
       "    <tr>\n",
       "      <th>1983</th>\n",
       "      <td>True</td>\n",
       "      <td>white</td>\n",
       "      <td>approve</td>\n",
       "      <td>1</td>\n",
       "      <td>158</td>\n",
       "      <td>96</td>\n",
       "      <td>1.0</td>\n",
       "      <td>0.0</td>\n",
       "      <td>False</td>\n",
       "      <td>5000</td>\n",
       "      <td>176.0</td>\n",
       "      <td>15.0</td>\n",
       "      <td>2</td>\n",
       "      <td>1</td>\n",
       "      <td>False</td>\n",
       "      <td>2</td>\n",
       "      <td>male</td>\n",
       "    </tr>\n",
       "    <tr>\n",
       "      <th>1984</th>\n",
       "      <td>True</td>\n",
       "      <td>white</td>\n",
       "      <td>approve</td>\n",
       "      <td>1</td>\n",
       "      <td>35</td>\n",
       "      <td>169</td>\n",
       "      <td>1.0</td>\n",
       "      <td>0.0</td>\n",
       "      <td>False</td>\n",
       "      <td>9583</td>\n",
       "      <td>315.0</td>\n",
       "      <td>64.0</td>\n",
       "      <td>1</td>\n",
       "      <td>1</td>\n",
       "      <td>False</td>\n",
       "      <td>1</td>\n",
       "      <td>male</td>\n",
       "    </tr>\n",
       "    <tr>\n",
       "      <th>1985</th>\n",
       "      <td>True</td>\n",
       "      <td>white</td>\n",
       "      <td>approve</td>\n",
       "      <td>2</td>\n",
       "      <td>225</td>\n",
       "      <td>49</td>\n",
       "      <td>2.0</td>\n",
       "      <td>0.0</td>\n",
       "      <td>True</td>\n",
       "      <td>4159</td>\n",
       "      <td>225.0</td>\n",
       "      <td>10.0</td>\n",
       "      <td>2</td>\n",
       "      <td>1</td>\n",
       "      <td>False</td>\n",
       "      <td>3</td>\n",
       "      <td>male</td>\n",
       "    </tr>\n",
       "    <tr>\n",
       "      <th>1986</th>\n",
       "      <td>False</td>\n",
       "      <td>white</td>\n",
       "      <td>approve</td>\n",
       "      <td>1</td>\n",
       "      <td>98</td>\n",
       "      <td>110</td>\n",
       "      <td>1.0</td>\n",
       "      <td>0.0</td>\n",
       "      <td>True</td>\n",
       "      <td>9200</td>\n",
       "      <td>215.0</td>\n",
       "      <td>427.9</td>\n",
       "      <td>1</td>\n",
       "      <td>1</td>\n",
       "      <td>False</td>\n",
       "      <td>1</td>\n",
       "      <td>male</td>\n",
       "    </tr>\n",
       "    <tr>\n",
       "      <th>1987</th>\n",
       "      <td>False</td>\n",
       "      <td>black</td>\n",
       "      <td>reject</td>\n",
       "      <td>1</td>\n",
       "      <td>133</td>\n",
       "      <td>55</td>\n",
       "      <td>1.0</td>\n",
       "      <td>0.0</td>\n",
       "      <td>True</td>\n",
       "      <td>4583</td>\n",
       "      <td>148.0</td>\n",
       "      <td>24.5</td>\n",
       "      <td>2</td>\n",
       "      <td>3</td>\n",
       "      <td>False</td>\n",
       "      <td>2</td>\n",
       "      <td>female</td>\n",
       "    </tr>\n",
       "  </tbody>\n",
       "</table>\n",
       "<p>1988 rows × 17 columns</p>\n",
       "</div>"
      ],
      "text/plain": [
       "     married   race loan_decision  occupancy  loan_amount  applicant_income  \\\n",
       "0       True  white        reject          1          128                74   \n",
       "1      False  white       approve          1          128                84   \n",
       "2       True  white       approve          1           66                36   \n",
       "3       True  white       approve          1          120                59   \n",
       "4      False  white       approve          1          111                63   \n",
       "...      ...    ...           ...        ...          ...               ...   \n",
       "1983    True  white       approve          1          158                96   \n",
       "1984    True  white       approve          1           35               169   \n",
       "1985    True  white       approve          2          225                49   \n",
       "1986   False  white       approve          1           98               110   \n",
       "1987   False  black        reject          1          133                55   \n",
       "\n",
       "     num_units num_dependants  self_employed  monthly_income  purchase_price  \\\n",
       "0          1.0            1.0          False            4583           160.0   \n",
       "1          1.0            0.0          False            2666           143.0   \n",
       "2          1.0            0.0           True            3000           110.0   \n",
       "3          1.0            0.0          False            2583           134.0   \n",
       "4          1.0            0.0          False            2208           138.0   \n",
       "...        ...            ...            ...             ...             ...   \n",
       "1983       1.0            0.0          False            5000           176.0   \n",
       "1984       1.0            0.0          False            9583           315.0   \n",
       "1985       2.0            0.0           True            4159           225.0   \n",
       "1986       1.0            0.0           True            9200           215.0   \n",
       "1987       1.0            0.0           True            4583           148.0   \n",
       "\n",
       "      liquid_assets  mortage_payment_history  consumer_credit_history  \\\n",
       "0              52.0                        2                        2   \n",
       "1              37.0                        2                        2   \n",
       "2              19.0                        2                        6   \n",
       "3              31.0                        2                        1   \n",
       "4             169.0                        2                        6   \n",
       "...             ...                      ...                      ...   \n",
       "1983           15.0                        2                        1   \n",
       "1984           64.0                        1                        1   \n",
       "1985           10.0                        2                        1   \n",
       "1986          427.9                        1                        1   \n",
       "1987           24.5                        2                        3   \n",
       "\n",
       "      filed_bankruptcy  property_type  gender  \n",
       "0                False              2    male  \n",
       "1                False              2    male  \n",
       "2                 True              2    male  \n",
       "3                False              1    male  \n",
       "4                False              2    male  \n",
       "...                ...            ...     ...  \n",
       "1983             False              2    male  \n",
       "1984             False              1    male  \n",
       "1985             False              3    male  \n",
       "1986             False              1    male  \n",
       "1987             False              2  female  \n",
       "\n",
       "[1988 rows x 17 columns]"
      ]
     },
     "execution_count": 204,
     "metadata": {},
     "output_type": "execute_result"
    }
   ],
   "source": [
    "# How to replace missing value to anathor value\n",
    "loan_application_six=loan_application.replace(to_replace=np.nan, value='Ali Omar')\n",
    "loan_application_six\n"
   ]
  },
  {
   "cell_type": "markdown",
   "metadata": {},
   "source": [
    "## Duplicates:\n",
    "### Check for duplicate records in the dataset. Duplicates can distort analyses and lead to inaccurate results. Identifying and handling duplicates is crucial for maintaining data integrity.\n"
   ]
  },
  {
   "cell_type": "code",
   "execution_count": 205,
   "metadata": {},
   "outputs": [
    {
     "data": {
      "text/plain": [
       "(1969, 17)"
      ]
     },
     "execution_count": 205,
     "metadata": {},
     "output_type": "execute_result"
    }
   ],
   "source": [
    "#  Droping missing values\n",
    "\n",
    "# Calculating  How to drop missing values\n",
    "loan_application_six = loan_application.dropna()\n",
    "loan_application_six.shape"
   ]
  },
  {
   "cell_type": "code",
   "execution_count": 206,
   "metadata": {},
   "outputs": [
    {
     "data": {
      "text/plain": [
       "(1988, 17)"
      ]
     },
     "execution_count": 206,
     "metadata": {},
     "output_type": "execute_result"
    }
   ],
   "source": [
    "#  drops the rows with all null values\n",
    "loan_application_seven = loan_application.dropna(how='all')\n",
    "loan_application_seven.shape"
   ]
  },
  {
   "cell_type": "code",
   "execution_count": 207,
   "metadata": {},
   "outputs": [
    {
     "data": {
      "text/plain": [
       "(1987, 17)"
      ]
     },
     "execution_count": 207,
     "metadata": {},
     "output_type": "execute_result"
    }
   ],
   "source": [
    "## Handling dupliacte\n",
    "\n",
    "#  Calculating  How to drop duplicate values\n",
    "loan_application_eight = loan_application.drop_duplicates()\n",
    "loan_application_eight.shape\n",
    "\n"
   ]
  },
  {
   "cell_type": "code",
   "execution_count": 208,
   "metadata": {},
   "outputs": [
    {
     "data": {
      "text/plain": [
       "0"
      ]
     },
     "execution_count": 208,
     "metadata": {},
     "output_type": "execute_result"
    }
   ],
   "source": [
    "#  Calculating   total duplicates in our data frame\n",
    "loan_application_eight.duplicated().sum() "
   ]
  },
  {
   "cell_type": "markdown",
   "metadata": {},
   "source": [
    "### Visualization"
   ]
  },
  {
   "cell_type": "code",
   "execution_count": 223,
   "metadata": {},
   "outputs": [
    {
     "data": {
      "image/png": "[encoded data removed]",
      "text/plain": [
       "<Figure size 2000x1500 with 12 Axes>"
      ]
     },
     "metadata": {},
     "output_type": "display_data"
    }
   ],
   "source": [
    "#  Histogram  of the all the data frame\n",
    "import matplotlib.pyplot as plt\n",
    "loan_application.hist(bins=50, figsize=(20,15))\n",
    "plt.show()\n"
   ]
  }
 ],
 "metadata": {
  "kernelspec": {
   "display_name": "Python 3 (ipykernel)",
   "language": "python",
   "name": "python3"
  },
  "language_info": {
   "codemirror_mode": {
    "name": "ipython",
    "version": 3
   },
   "file_extension": ".py",
   "mimetype": "text/x-python",
   "name": "python",
   "nbconvert_exporter": "python",
   "pygments_lexer": "ipython3",
   "version": "3.11.4"
  }
 },
 "nbformat": 4,
 "nbformat_minor": 2
}
