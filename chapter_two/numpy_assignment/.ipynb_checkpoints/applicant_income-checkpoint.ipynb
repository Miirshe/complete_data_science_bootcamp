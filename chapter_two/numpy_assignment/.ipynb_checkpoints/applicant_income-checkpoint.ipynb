{
 "cells": [
  {
   "cell_type": "markdown",
   "id": "91cd2d70",
   "metadata": {},
   "source": [
    "# Assignment two applicant_income"
   ]
  },
  {
   "cell_type": "markdown",
   "id": "13811098",
   "metadata": {},
   "source": [
    "# Name : Abdikafi Isse Isak , ID : C120868, ClassNo : CA205"
   ]
  },
  {
   "cell_type": "markdown",
   "id": "502534ea",
   "metadata": {},
   "source": [
    "# Introduction to Numpy\n",
    "\n",
    "The code begins with an introduction to the numpy library, which stands for \"Numerical Python.\" Numpy is an open-source\n",
    "library that provides support for creating multi-dimensional arrays and performing efficient numerical operations. It is\n",
    "widely used in data analysis and scientific computing"
   ]
  },
  {
   "cell_type": "markdown",
   "id": "43215f77",
   "metadata": {},
   "source": [
    "# Importing Libraries\n",
    "\n",
    "The necessary libraries are imported to facilitate data analysis. The code imports the following libraries:\n",
    "\n",
    "1.statistics as stat: This library is used to calculate the mode of a numerical dataset.\n",
    "    \n",
    "2.numpy as np: This library is used to create and manipulate multi-dimensional arrays efficiently.\n",
    "    \n",
    "3.matplotlib.pyplot as plt: This library is used for data visualization, specifically to plot the applicant income \n",
    "dataset.\n"
   ]
  },
  {
   "cell_type": "code",
   "execution_count": null,
   "id": "d3147ef1",
   "metadata": {},
   "outputs": [],
   "source": [
    "\n",
    "import  numpy as np \n",
    "\n",
    "import statistics as stat\n",
    "\n",
    "import  pandas as pd \n",
    "\n",
    "import matplotlib.pyplot as plt"
   ]
  },
  {
   "cell_type": "markdown",
   "id": "9692ef34",
   "metadata": {},
   "source": [
    "# Reading the Dataset\n",
    "\n",
    "The code imports the pandas library as pd to read the dataset from an Excel file named \"applicant_income.xlsx\".\n",
    "The pd.read_excel() function is used to read the file and store the data in a pandas data frame named \n",
    "applicant_income_file. The data frame represents the dataset containing applicant income information."
   ]
  },
  {
   "cell_type": "code",
   "execution_count": 3,
   "id": "22947982",
   "metadata": {},
   "outputs": [
    {
     "name": "stdout",
     "output_type": "stream",
     "text": [
      "      applicant_income\n",
      "0                   74\n",
      "1                   84\n",
      "2                   36\n",
      "3                   59\n",
      "4                   63\n",
      "...                ...\n",
      "1983                96\n",
      "1984               169\n",
      "1985                49\n",
      "1986               110\n",
      "1987                55\n",
      "\n",
      "[1988 rows x 1 columns]\n"
     ]
    }
   ],
   "source": [
    "#reading file process & import pandas to read file easly\n",
    "\n",
    "import  pandas as pd \n",
    "\n",
    "applicant_income_file = pd.read_excel('./applicant_income.xlsx')\n",
    "\n",
    "print(applicant_income_file)  # display you all data from pandas read_() function"
   ]
  },
  {
   "cell_type": "markdown",
   "id": "66bc62de",
   "metadata": {},
   "source": [
    "# Converting to Numpy Array\n",
    "\n",
    "The code converts the pandas data frame (applicant_income_file) to a numpy array using the np.array() function. \n",
    "The resulting numpy array is assigned to the variable income_np_array. This conversion allows for easier manipulation and\n",
    "analysis of the dataset using numpy's built-in functions"
   ]
  },
  {
   "cell_type": "code",
   "execution_count": 6,
   "id": "1f8f92c7",
   "metadata": {},
   "outputs": [
    {
     "name": "stdout",
     "output_type": "stream",
     "text": [
      "\n",
      "The numpy array of applicant income : $[[ 74]\n",
      " [ 84]\n",
      " [ 36]\n",
      " ...\n",
      " [ 49]\n",
      " [110]\n",
      " [ 55]]\n"
     ]
    }
   ],
   "source": [
    "import  numpy as np\n",
    "\n",
    "income_np_array = np.array(applicant_income_file) \n",
    "\n",
    "print(f'\\nThe numpy array of applicant income : ${income_np_array}')"
   ]
  },
  {
   "cell_type": "markdown",
   "id": "aca04390",
   "metadata": {},
   "source": [
    "# Statistical Analysis\n",
    "\n",
    "The code performs various statistical analyses on the applicant income dataset using numpy's functions. The following statistical measures are calculated and printed:\n",
    "\n",
    "1.Mean: The mean value represents the average of all the applicant incomes in the dataset. It is calculated using the np.mean() function and stored in the variable income_mean.\n",
    "\n",
    "2.Median: The median value represents the middle value of the dataset when arranged in ascending or descending order. It is calculated using the np.median() function and stored in the variable income_median.\n",
    "\n",
    "3.Minimum Value: The minimum value represents the smallest income amount in the dataset. It is calculated using the np.min() function and stored in the variable income_min.\n",
    "\n",
    "4.Maximum Value: The maximum value represents the largest income amount in the dataset. It is calculated using the np.max() function and stored in the variable income_max.\n",
    "\n",
    "5.Range: The range represents the difference between the maximum and minimum values in the dataset. It is calculated using the np.ptp() function (peak-to-peak) and stored in the variable income_range.\n",
    "\n",
    "6.Variance: The variance is a measure of how spread out the values in the dataset are around the mean. It is calculated using the np.var() function and stored in the variable income_variance.\n",
    "\n",
    "7.Standard Deviation: The standard deviation is another measure of the spread of the dataset. It quantifies the average deviation of each data point from the mean. It is calculated using the np.std() function and stored in the variable income_std.\n",
    "\n",
    "8.Quartiles: Quartiles divide the dataset into four equal parts, each containing approximately 25% of the data. The first quartile (Q1) represents the value below which 25% of the data falls, the second quartile (Q2) is the median, and the third quartile (Q3) represents the value below which 75% of the data falls. The quartiles are calculated using the np.percentile() function and stored in the variables income_q1, income_q2, and income_q3.\n"
   ]
  },
  {
   "cell_type": "code",
   "execution_count": 7,
   "id": "26d0c8d1",
   "metadata": {},
   "outputs": [
    {
     "name": "stdout",
     "output_type": "stream",
     "text": [
      "\n",
      "The mean value of applicant income : $84.6841046277666\n",
      "\n",
      "The median value  of applicant income : $64.0\n",
      "\n",
      "The min value of applicant income : $0\n",
      "\n",
      "The max value of applicant income : $972\n",
      "\n",
      "The range value of applicant income : $972\n",
      "\n",
      "The variance value of applicant income : $7579.073248343178\n",
      "\n",
      "The standard daviation of applicant income : $87.05787298310922\n",
      "\n",
      "The quartiles : Q1 : $48.0 , Q2 : $64.0 , Q3 : $88.0\n"
     ]
    }
   ],
   "source": [
    "import  numpy as np \n",
    "\n",
    "import statistics as stat\n",
    "\n",
    "# here an enxample of filtering the total average of mean in applicant income\n",
    "\n",
    "income_mean = np.mean(income_np_array)\n",
    "print(f'\\nThe mean value of applicant income : ${income_mean}')\n",
    "\n",
    "# =============================================================================================================\n",
    "\n",
    "# here an example of => filtering the meadian value in applicant income\n",
    "\n",
    "income_median = np.median(income_np_array)\n",
    "\n",
    "print(f'\\nThe median value  of applicant income : ${income_median}')\n",
    "\n",
    "# =============================================================================================================\n",
    "\n",
    "# find the minimum value of applicant_income \n",
    "\n",
    "income_min = np.min(income_np_array)\n",
    "\n",
    "print(f'\\nThe min value of applicant income : ${income_min}')\n",
    "\n",
    "# =============================================================================================================\n",
    "\n",
    "# finding the maximum value of applicant income \n",
    "\n",
    "income_max = np.max(income_np_array)\n",
    "\n",
    "print(f'\\nThe max value of applicant income : ${income_max}')\n",
    "\n",
    "# =============================================================================================================\n",
    "\n",
    "#here an example of => finding the range value of applicant income\n",
    "\n",
    "income_range = np.ptp(income_np_array)\n",
    "\n",
    "print(f'\\nThe range value of applicant income : ${income_range}')\n",
    "\n",
    "# =============================================================================================================\n",
    "\n",
    "#here an example of => finding the variance value of applicant income\n",
    "\n",
    "income_variance = np.var(income_np_array, ddof=0)\n",
    "\n",
    "print(f'\\nThe variance value of applicant income : ${income_variance}')\n",
    "\n",
    "# =============================================================================================================\n",
    "\n",
    "#finding the standard daviation value of applicant income\n",
    "\n",
    "income_std = np.std(income_np_array, ddof=0)\n",
    "\n",
    "print(f'\\nThe standard daviation of applicant income : ${income_std}')\n",
    "\n",
    "# =============================================================================================================\n",
    "\n",
    "#finding the quartiles value of applicant income\n",
    "\n",
    "income_q1 = np.percentile(income_np_array,25)\n",
    "\n",
    "income_q2 = np.percentile(income_np_array,50)\n",
    "\n",
    "income_q3 = np.percentile(income_np_array,75)\n",
    "\n",
    "\n",
    "print(f'\\nThe quartiles : Q1 : ${income_q1} , Q2 : ${income_q2} , Q3 : ${income_q3}')"
   ]
  },
  {
   "cell_type": "markdown",
   "id": "1235f74a",
   "metadata": {},
   "source": [
    "# Data Visualization\n",
    "\n",
    "The code uses matplotlib.pyplot to plot the applicant income dataset as a line plot. The plt.plot() function is used to create the plot, and plt.show() is used to display the plot."
   ]
  },
  {
   "cell_type": "code",
   "execution_count": 8,
   "id": "8432ca8a",
   "metadata": {},
   "outputs": [
    {
     "data": {
      "text/plain": [
       "<function matplotlib.pyplot.show(close=None, block=None)>"
      ]
     },
     "execution_count": 8,
     "metadata": {},
     "output_type": "execute_result"
    },
    {
     "data": {
      "image/png": "[encoded data removed]",
      "text/plain": [
       "<Figure size 640x480 with 1 Axes>"
      ]
     },
     "metadata": {},
     "output_type": "display_data"
    }
   ],
   "source": [
    "import matplotlib.pyplot as plt\n",
    "\n",
    "plt.plot(income_np_array)\n",
    "plt.show"
   ]
  },
  {
   "cell_type": "markdown",
   "id": "aaf80fcb",
   "metadata": {},
   "source": [
    "# Conclusion\n",
    "\n",
    "In conclusion, the code provides a comprehensive analysis of the \"applicant_income\" dataset. It calculates and interprets various statistical measures, such as mean, median, minimum value, maximum value, range, variance, standard deviation, and quartiles. Additionally, it visualizes the dataset using a line plot."
   ]
  }
 ],
 "metadata": {
  "kernelspec": {
   "display_name": "Python 3 (ipykernel)",
   "language": "python",
   "name": "python3"
  },
  "language_info": {
   "codemirror_mode": {
    "name": "ipython",
    "version": 3
   },
   "file_extension": ".py",
   "mimetype": "text/x-python",
   "name": "python",
   "nbconvert_exporter": "python",
   "pygments_lexer": "ipython3",
   "version": "3.11.4"
  }
 },
 "nbformat": 4,
 "nbformat_minor": 5
}
