{
 "cells": [
  {
   "cell_type": "code",
   "execution_count": 1,
   "id": "c87c67a8",
   "metadata": {},
   "outputs": [
    {
     "name": "stdout",
     "output_type": "stream",
     "text": [
      "miirshe\n"
     ]
    }
   ],
   "source": [
    "print('miirshe')"
   ]
  },
  {
   "cell_type": "code",
   "execution_count": 15,
   "id": "5ccd4681",
   "metadata": {},
   "outputs": [
    {
     "name": "stdout",
     "output_type": "stream",
     "text": [
      "mean average is : 17.928571428571427\n"
     ]
    }
   ],
   "source": [
    "def means(nums):\n",
    "    mean_avr = 0\n",
    "    for num in nums:\n",
    "        mean_avr += num\n",
    "    print(f'mean average is : {mean_avr/len(nums)}')\n",
    "means([10,11,11,15,15,15,19,20,21,21,22,22,24, 25])"
   ]
  },
  {
   "cell_type": "code",
   "execution_count": null,
   "id": "a0140f91",
   "metadata": {},
   "outputs": [],
   "source": [
    "def medians(nums):\n",
    "    mean_avr = 0\n",
    "    for num in nums:\n",
    "        mean_avr += num\n",
    "    print(f'mean average is : {mean_avr/len(nums)}')\n",
    "means([10,11,11,15,15,15,19,20,21,21,22,22,24, 25])"
   ]
  }
 ],
 "metadata": {
  "kernelspec": {
   "display_name": "Python 3 (ipykernel)",
   "language": "python",
   "name": "python3"
  },
  "language_info": {
   "codemirror_mode": {
    "name": "ipython",
    "version": 3
   },
   "file_extension": ".py",
   "mimetype": "text/x-python",
   "name": "python",
   "nbconvert_exporter": "python",
   "pygments_lexer": "ipython3",
   "version": "3.11.4"
  }
 },
 "nbformat": 4,
 "nbformat_minor": 5
}
