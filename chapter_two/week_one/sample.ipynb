{
 "cells": [
  {
   "cell_type": "code",
   "execution_count": 1,
   "id": "c87c67a8",
   "metadata": {},
   "outputs": [
    {
     "name": "stdout",
     "output_type": "stream",
     "text": [
      "miirshe\n"
     ]
    }
   ],
   "source": [
    "print('miirshe')"
   ]
  },
  {
   "cell_type": "code",
   "execution_count": 15,
   "id": "5ccd4681",
   "metadata": {},
   "outputs": [
    {
     "name": "stdout",
     "output_type": "stream",
     "text": [
      "mean average is : 17.928571428571427\n"
     ]
    }
   ],
   "source": [
    "def means(nums):\n",
    "    mean_avr = 0\n",
    "    for num in nums:\n",
    "        mean_avr += num\n",
    "    print(f'mean average is : {mean_avr/len(nums)}')\n",
    "means([10,11,11,15,15,15,19,20,21,21,22,22,24, 25])"
   ]
  },
  {
   "cell_type": "code",
   "execution_count": 74,
   "id": "a0140f91",
   "metadata": {},
   "outputs": [
    {
     "name": "stdout",
     "output_type": "stream",
     "text": [
      "max range is : 30\n"
     ]
    }
   ],
   "source": [
    "def max_range(nums):\n",
    "    max = 0\n",
    "    min = 0\n",
    "    index = 0\n",
    "    nums.sort()\n",
    "    for num in nums:\n",
    "        if num >= index:\n",
    "            max = num\n",
    "        index = num\n",
    "    print(f'max range is : {max}')\n",
    "\n",
    "max_range([10,11,11,15,15,15,19,21,20,21,21,21,30,22,22,24, 25])"
   ]
  },
  {
   "cell_type": "code",
   "execution_count": 78,
   "id": "8319fb8e",
   "metadata": {},
   "outputs": [
    {
     "name": "stdout",
     "output_type": "stream",
     "text": [
      "min range is : 0\n"
     ]
    }
   ],
   "source": [
    "def min_range(nums):\n",
    "    index = 0\n",
    "    min = 0\n",
    "    nums.sort()\n",
    "    for num in nums:\n",
    "        if num < index:\n",
    "            min += num\n",
    "        index = num \n",
    "    print(f'min range is : {min}')\n",
    "min_range([10,11,11,15,15,15,19,21,20,21,21,21,30,22,22,24, 25])"
   ]
  },
  {
   "cell_type": "code",
   "execution_count": null,
   "id": "e16ed374",
   "metadata": {},
   "outputs": [],
   "source": []
  },
  {
   "cell_type": "code",
   "execution_count": null,
   "id": "fa3559f2",
   "metadata": {},
   "outputs": [],
   "source": []
  }
 ],
 "metadata": {
  "kernelspec": {
   "display_name": "Python 3 (ipykernel)",
   "language": "python",
   "name": "python3"
  },
  "language_info": {
   "codemirror_mode": {
    "name": "ipython",
    "version": 3
   },
   "file_extension": ".py",
   "mimetype": "text/x-python",
   "name": "python",
   "nbconvert_exporter": "python",
   "pygments_lexer": "ipython3",
   "version": "3.11.4"
  }
 },
 "nbformat": 4,
 "nbformat_minor": 5
}
